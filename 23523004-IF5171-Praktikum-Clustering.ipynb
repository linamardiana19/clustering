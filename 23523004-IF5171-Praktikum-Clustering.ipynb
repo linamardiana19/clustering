{
  "nbformat": 4,
  "nbformat_minor": 0,
  "metadata": {
    "colab": {
      "provenance": []
    },
    "kernelspec": {
      "name": "python3",
      "display_name": "Python 3"
    },
    "language_info": {
      "name": "python"
    }
  },
  "cells": [
    {
      "cell_type": "markdown",
      "source": [
        "# Import Dataset dan Libraries"
      ],
      "metadata": {
        "id": "XGdytcsGX565"
      }
    },
    {
      "cell_type": "markdown",
      "source": [
        "## Overview Dataset"
      ],
      "metadata": {
        "id": "0iNxSsVSDAKM"
      }
    },
    {
      "cell_type": "markdown",
      "source": [
        "Dataset ini merupakan dataset yang bertujuan untuk pembelajaran mengenai segmentasi pelanggan dengan menggunakan unsupervised learning.\n",
        "\n",
        "Link dataset: https://drive.google.com/file/d/1jlHuVc9tFACJcj53QeCI330KoYTsj1W-/view?usp=drive_link\n",
        "\n",
        "Informasi atribut dataset:\n",
        "\n",
        "* CustomerID: Unique ID dari konsumen\n",
        "* Gender: Gender dari konsumen\n",
        "* Age: Umur dari konsumen\n",
        "* Annual Income \\(k\\$\\): Penghasilan tahunan konsumen \\(\\$\\)\n",
        "* Spending Score (1-100): Skor yang diberikan oleh mall berdasarkan kebiasaan belanja konsumen (1-100)\n"
      ],
      "metadata": {
        "id": "uzbdu7VbE92b"
      }
    },
    {
      "cell_type": "markdown",
      "source": [
        "## EDA\n",
        "Lakukan eksplorasi sederhana secara statistik pada dataset, beberapa fungsi hal yang krusial untuk diexplorasi:\n",
        "* Statistik deskriptif dari dataset\n",
        "* Informasi mengenai  dataset\n",
        "* Hubungan antar variable\n",
        "\n",
        "Jelaskan hasil eksplorasi pada notebook!"
      ],
      "metadata": {
        "id": "b8Br2e-9TMuZ"
      }
    },
    {
      "cell_type": "code",
      "source": [
        "import numpy as np\n",
        "import pandas as pd\n",
        "from scipy import ndimage\n",
        "from scipy.cluster import hierarchy\n",
        "from scipy.spatial import distance_matrix\n",
        "from matplotlib import pyplot as plt\n",
        "from sklearn import manifold, datasets\n",
        "from sklearn.cluster import AgglomerativeClustering\n",
        "from sklearn.datasets import make_blobs\n",
        "%matplotlib inline\n",
        "from sklearn.cluster import KMeans"
      ],
      "metadata": {
        "id": "j_q31ukaTJOg"
      },
      "execution_count": 117,
      "outputs": []
    },
    {
      "cell_type": "code",
      "source": [
        "##LOAD DATA\n",
        "filename = 'Mall_Customers.csv'\n",
        "\n",
        "#Read csv\n",
        "df = pd.read_csv(filename)\n",
        "print (\"Shape of dataset: \", df.shape)\n",
        "\n",
        "df.head(5)"
      ],
      "metadata": {
        "colab": {
          "base_uri": "https://localhost:8080/",
          "height": 224
        },
        "id": "o0TgINei4Orx",
        "outputId": "5de11e6b-0155-456e-dafb-08b5bfdc24dd"
      },
      "execution_count": 118,
      "outputs": [
        {
          "output_type": "stream",
          "name": "stdout",
          "text": [
            "Shape of dataset:  (200, 5)\n"
          ]
        },
        {
          "output_type": "execute_result",
          "data": {
            "text/plain": [
              "   CustomerID  Gender  Age  Annual Income (k$)  Spending Score (1-100)\n",
              "0           1    Male   19                  15                      39\n",
              "1           2    Male   21                  15                      81\n",
              "2           3  Female   20                  16                       6\n",
              "3           4  Female   23                  16                      77\n",
              "4           5  Female   31                  17                      40"
            ],
            "text/html": [
              "\n",
              "  <div id=\"df-e5174a35-d164-47bc-9e49-ad28a1016b02\" class=\"colab-df-container\">\n",
              "    <div>\n",
              "<style scoped>\n",
              "    .dataframe tbody tr th:only-of-type {\n",
              "        vertical-align: middle;\n",
              "    }\n",
              "\n",
              "    .dataframe tbody tr th {\n",
              "        vertical-align: top;\n",
              "    }\n",
              "\n",
              "    .dataframe thead th {\n",
              "        text-align: right;\n",
              "    }\n",
              "</style>\n",
              "<table border=\"1\" class=\"dataframe\">\n",
              "  <thead>\n",
              "    <tr style=\"text-align: right;\">\n",
              "      <th></th>\n",
              "      <th>CustomerID</th>\n",
              "      <th>Gender</th>\n",
              "      <th>Age</th>\n",
              "      <th>Annual Income (k$)</th>\n",
              "      <th>Spending Score (1-100)</th>\n",
              "    </tr>\n",
              "  </thead>\n",
              "  <tbody>\n",
              "    <tr>\n",
              "      <th>0</th>\n",
              "      <td>1</td>\n",
              "      <td>Male</td>\n",
              "      <td>19</td>\n",
              "      <td>15</td>\n",
              "      <td>39</td>\n",
              "    </tr>\n",
              "    <tr>\n",
              "      <th>1</th>\n",
              "      <td>2</td>\n",
              "      <td>Male</td>\n",
              "      <td>21</td>\n",
              "      <td>15</td>\n",
              "      <td>81</td>\n",
              "    </tr>\n",
              "    <tr>\n",
              "      <th>2</th>\n",
              "      <td>3</td>\n",
              "      <td>Female</td>\n",
              "      <td>20</td>\n",
              "      <td>16</td>\n",
              "      <td>6</td>\n",
              "    </tr>\n",
              "    <tr>\n",
              "      <th>3</th>\n",
              "      <td>4</td>\n",
              "      <td>Female</td>\n",
              "      <td>23</td>\n",
              "      <td>16</td>\n",
              "      <td>77</td>\n",
              "    </tr>\n",
              "    <tr>\n",
              "      <th>4</th>\n",
              "      <td>5</td>\n",
              "      <td>Female</td>\n",
              "      <td>31</td>\n",
              "      <td>17</td>\n",
              "      <td>40</td>\n",
              "    </tr>\n",
              "  </tbody>\n",
              "</table>\n",
              "</div>\n",
              "    <div class=\"colab-df-buttons\">\n",
              "\n",
              "  <div class=\"colab-df-container\">\n",
              "    <button class=\"colab-df-convert\" onclick=\"convertToInteractive('df-e5174a35-d164-47bc-9e49-ad28a1016b02')\"\n",
              "            title=\"Convert this dataframe to an interactive table.\"\n",
              "            style=\"display:none;\">\n",
              "\n",
              "  <svg xmlns=\"http://www.w3.org/2000/svg\" height=\"24px\" viewBox=\"0 -960 960 960\">\n",
              "    <path d=\"M120-120v-720h720v720H120Zm60-500h600v-160H180v160Zm220 220h160v-160H400v160Zm0 220h160v-160H400v160ZM180-400h160v-160H180v160Zm440 0h160v-160H620v160ZM180-180h160v-160H180v160Zm440 0h160v-160H620v160Z\"/>\n",
              "  </svg>\n",
              "    </button>\n",
              "\n",
              "  <style>\n",
              "    .colab-df-container {\n",
              "      display:flex;\n",
              "      gap: 12px;\n",
              "    }\n",
              "\n",
              "    .colab-df-convert {\n",
              "      background-color: #E8F0FE;\n",
              "      border: none;\n",
              "      border-radius: 50%;\n",
              "      cursor: pointer;\n",
              "      display: none;\n",
              "      fill: #1967D2;\n",
              "      height: 32px;\n",
              "      padding: 0 0 0 0;\n",
              "      width: 32px;\n",
              "    }\n",
              "\n",
              "    .colab-df-convert:hover {\n",
              "      background-color: #E2EBFA;\n",
              "      box-shadow: 0px 1px 2px rgba(60, 64, 67, 0.3), 0px 1px 3px 1px rgba(60, 64, 67, 0.15);\n",
              "      fill: #174EA6;\n",
              "    }\n",
              "\n",
              "    .colab-df-buttons div {\n",
              "      margin-bottom: 4px;\n",
              "    }\n",
              "\n",
              "    [theme=dark] .colab-df-convert {\n",
              "      background-color: #3B4455;\n",
              "      fill: #D2E3FC;\n",
              "    }\n",
              "\n",
              "    [theme=dark] .colab-df-convert:hover {\n",
              "      background-color: #434B5C;\n",
              "      box-shadow: 0px 1px 3px 1px rgba(0, 0, 0, 0.15);\n",
              "      filter: drop-shadow(0px 1px 2px rgba(0, 0, 0, 0.3));\n",
              "      fill: #FFFFFF;\n",
              "    }\n",
              "  </style>\n",
              "\n",
              "    <script>\n",
              "      const buttonEl =\n",
              "        document.querySelector('#df-e5174a35-d164-47bc-9e49-ad28a1016b02 button.colab-df-convert');\n",
              "      buttonEl.style.display =\n",
              "        google.colab.kernel.accessAllowed ? 'block' : 'none';\n",
              "\n",
              "      async function convertToInteractive(key) {\n",
              "        const element = document.querySelector('#df-e5174a35-d164-47bc-9e49-ad28a1016b02');\n",
              "        const dataTable =\n",
              "          await google.colab.kernel.invokeFunction('convertToInteractive',\n",
              "                                                    [key], {});\n",
              "        if (!dataTable) return;\n",
              "\n",
              "        const docLinkHtml = 'Like what you see? Visit the ' +\n",
              "          '<a target=\"_blank\" href=https://colab.research.google.com/notebooks/data_table.ipynb>data table notebook</a>'\n",
              "          + ' to learn more about interactive tables.';\n",
              "        element.innerHTML = '';\n",
              "        dataTable['output_type'] = 'display_data';\n",
              "        await google.colab.output.renderOutput(dataTable, element);\n",
              "        const docLink = document.createElement('div');\n",
              "        docLink.innerHTML = docLinkHtml;\n",
              "        element.appendChild(docLink);\n",
              "      }\n",
              "    </script>\n",
              "  </div>\n",
              "\n",
              "\n",
              "<div id=\"df-2c4519f3-d44c-40e3-b467-68d1113a35d4\">\n",
              "  <button class=\"colab-df-quickchart\" onclick=\"quickchart('df-2c4519f3-d44c-40e3-b467-68d1113a35d4')\"\n",
              "            title=\"Suggest charts.\"\n",
              "            style=\"display:none;\">\n",
              "\n",
              "<svg xmlns=\"http://www.w3.org/2000/svg\" height=\"24px\"viewBox=\"0 0 24 24\"\n",
              "     width=\"24px\">\n",
              "    <g>\n",
              "        <path d=\"M19 3H5c-1.1 0-2 .9-2 2v14c0 1.1.9 2 2 2h14c1.1 0 2-.9 2-2V5c0-1.1-.9-2-2-2zM9 17H7v-7h2v7zm4 0h-2V7h2v10zm4 0h-2v-4h2v4z\"/>\n",
              "    </g>\n",
              "</svg>\n",
              "  </button>\n",
              "\n",
              "<style>\n",
              "  .colab-df-quickchart {\n",
              "      --bg-color: #E8F0FE;\n",
              "      --fill-color: #1967D2;\n",
              "      --hover-bg-color: #E2EBFA;\n",
              "      --hover-fill-color: #174EA6;\n",
              "      --disabled-fill-color: #AAA;\n",
              "      --disabled-bg-color: #DDD;\n",
              "  }\n",
              "\n",
              "  [theme=dark] .colab-df-quickchart {\n",
              "      --bg-color: #3B4455;\n",
              "      --fill-color: #D2E3FC;\n",
              "      --hover-bg-color: #434B5C;\n",
              "      --hover-fill-color: #FFFFFF;\n",
              "      --disabled-bg-color: #3B4455;\n",
              "      --disabled-fill-color: #666;\n",
              "  }\n",
              "\n",
              "  .colab-df-quickchart {\n",
              "    background-color: var(--bg-color);\n",
              "    border: none;\n",
              "    border-radius: 50%;\n",
              "    cursor: pointer;\n",
              "    display: none;\n",
              "    fill: var(--fill-color);\n",
              "    height: 32px;\n",
              "    padding: 0;\n",
              "    width: 32px;\n",
              "  }\n",
              "\n",
              "  .colab-df-quickchart:hover {\n",
              "    background-color: var(--hover-bg-color);\n",
              "    box-shadow: 0 1px 2px rgba(60, 64, 67, 0.3), 0 1px 3px 1px rgba(60, 64, 67, 0.15);\n",
              "    fill: var(--button-hover-fill-color);\n",
              "  }\n",
              "\n",
              "  .colab-df-quickchart-complete:disabled,\n",
              "  .colab-df-quickchart-complete:disabled:hover {\n",
              "    background-color: var(--disabled-bg-color);\n",
              "    fill: var(--disabled-fill-color);\n",
              "    box-shadow: none;\n",
              "  }\n",
              "\n",
              "  .colab-df-spinner {\n",
              "    border: 2px solid var(--fill-color);\n",
              "    border-color: transparent;\n",
              "    border-bottom-color: var(--fill-color);\n",
              "    animation:\n",
              "      spin 1s steps(1) infinite;\n",
              "  }\n",
              "\n",
              "  @keyframes spin {\n",
              "    0% {\n",
              "      border-color: transparent;\n",
              "      border-bottom-color: var(--fill-color);\n",
              "      border-left-color: var(--fill-color);\n",
              "    }\n",
              "    20% {\n",
              "      border-color: transparent;\n",
              "      border-left-color: var(--fill-color);\n",
              "      border-top-color: var(--fill-color);\n",
              "    }\n",
              "    30% {\n",
              "      border-color: transparent;\n",
              "      border-left-color: var(--fill-color);\n",
              "      border-top-color: var(--fill-color);\n",
              "      border-right-color: var(--fill-color);\n",
              "    }\n",
              "    40% {\n",
              "      border-color: transparent;\n",
              "      border-right-color: var(--fill-color);\n",
              "      border-top-color: var(--fill-color);\n",
              "    }\n",
              "    60% {\n",
              "      border-color: transparent;\n",
              "      border-right-color: var(--fill-color);\n",
              "    }\n",
              "    80% {\n",
              "      border-color: transparent;\n",
              "      border-right-color: var(--fill-color);\n",
              "      border-bottom-color: var(--fill-color);\n",
              "    }\n",
              "    90% {\n",
              "      border-color: transparent;\n",
              "      border-bottom-color: var(--fill-color);\n",
              "    }\n",
              "  }\n",
              "</style>\n",
              "\n",
              "  <script>\n",
              "    async function quickchart(key) {\n",
              "      const quickchartButtonEl =\n",
              "        document.querySelector('#' + key + ' button');\n",
              "      quickchartButtonEl.disabled = true;  // To prevent multiple clicks.\n",
              "      quickchartButtonEl.classList.add('colab-df-spinner');\n",
              "      try {\n",
              "        const charts = await google.colab.kernel.invokeFunction(\n",
              "            'suggestCharts', [key], {});\n",
              "      } catch (error) {\n",
              "        console.error('Error during call to suggestCharts:', error);\n",
              "      }\n",
              "      quickchartButtonEl.classList.remove('colab-df-spinner');\n",
              "      quickchartButtonEl.classList.add('colab-df-quickchart-complete');\n",
              "    }\n",
              "    (() => {\n",
              "      let quickchartButtonEl =\n",
              "        document.querySelector('#df-2c4519f3-d44c-40e3-b467-68d1113a35d4 button');\n",
              "      quickchartButtonEl.style.display =\n",
              "        google.colab.kernel.accessAllowed ? 'block' : 'none';\n",
              "    })();\n",
              "  </script>\n",
              "</div>\n",
              "    </div>\n",
              "  </div>\n"
            ]
          },
          "metadata": {},
          "execution_count": 118
        }
      ]
    },
    {
      "cell_type": "code",
      "source": [
        "df.info()"
      ],
      "metadata": {
        "colab": {
          "base_uri": "https://localhost:8080/"
        },
        "id": "BswYoq-q4tgY",
        "outputId": "f128dd88-c8b4-4ce3-cde5-0b65aceb410f"
      },
      "execution_count": 119,
      "outputs": [
        {
          "output_type": "stream",
          "name": "stdout",
          "text": [
            "<class 'pandas.core.frame.DataFrame'>\n",
            "RangeIndex: 200 entries, 0 to 199\n",
            "Data columns (total 5 columns):\n",
            " #   Column                  Non-Null Count  Dtype \n",
            "---  ------                  --------------  ----- \n",
            " 0   CustomerID              200 non-null    int64 \n",
            " 1   Gender                  200 non-null    object\n",
            " 2   Age                     200 non-null    int64 \n",
            " 3   Annual Income (k$)      200 non-null    int64 \n",
            " 4   Spending Score (1-100)  200 non-null    int64 \n",
            "dtypes: int64(4), object(1)\n",
            "memory usage: 7.9+ KB\n"
          ]
        }
      ]
    },
    {
      "cell_type": "code",
      "source": [
        "x = df['Annual Income (k$)']\n",
        "y = df['Spending Score (1-100)']\n",
        "y.head()\n",
        "plt.scatter(x, y)\n",
        "plt.xlabel('Annual Income (k$)')\n",
        "plt.ylabel('Spending Score (1-100)')\n",
        "plt.title('Penyebaran data')\n",
        "\n",
        "\n",
        "#plt.scatter(df[:, 0], df[:, 2], marker='o')"
      ],
      "metadata": {
        "colab": {
          "base_uri": "https://localhost:8080/",
          "height": 489
        },
        "id": "OlvjXRXKLRxb",
        "outputId": "a017f48d-f22a-479c-fb37-f3aa298c9926"
      },
      "execution_count": 120,
      "outputs": [
        {
          "output_type": "execute_result",
          "data": {
            "text/plain": [
              "Text(0.5, 1.0, 'Penyebaran data')"
            ]
          },
          "metadata": {},
          "execution_count": 120
        },
        {
          "output_type": "display_data",
          "data": {
            "text/plain": [
              "<Figure size 640x480 with 1 Axes>"
            ],
            "image/png": "[encoded data removed]"
          },
          "metadata": {}
        }
      ]
    },
    {
      "cell_type": "markdown",
      "source": [
        "# Penjelasan statistik\n",
        "dari visualisasi diatas terdapat 5 tumpukan data yang menyebar. maka dapat diasumsikan bahwa data ini cocok untuk dicluster kedalam 5 cluster"
      ],
      "metadata": {
        "id": "1hefqIz_M1nu"
      }
    },
    {
      "cell_type": "markdown",
      "source": [
        "# EDA & Data Preprocessing\n"
      ],
      "metadata": {
        "id": "zYrGD1AgDFQ6"
      }
    },
    {
      "cell_type": "markdown",
      "source": [
        "## Lakukan Data Preprocessing\n",
        "Data preprocessing dilakukan untuk menghasilkan dataset yang lebih bersih, lebih akurat, dan lebih konsisten. Lakukan data preprocessing dengan bantuan beberapa fungsi yang krusial berikut:\n",
        "* isnull\n",
        "* duplicated\n",
        "\n",
        "Anda diperbolehkan untuk melakukan preprocessing dengan fungsi lainnya."
      ],
      "metadata": {
        "id": "GkE0q1Xzzyik"
      }
    },
    {
      "cell_type": "code",
      "source": [
        "df.info()"
      ],
      "metadata": {
        "colab": {
          "base_uri": "https://localhost:8080/"
        },
        "id": "2_8WSDSp5JVy",
        "outputId": "0c390f2a-4f2f-4392-c3b7-3695191a128b"
      },
      "execution_count": 121,
      "outputs": [
        {
          "output_type": "stream",
          "name": "stdout",
          "text": [
            "<class 'pandas.core.frame.DataFrame'>\n",
            "RangeIndex: 200 entries, 0 to 199\n",
            "Data columns (total 5 columns):\n",
            " #   Column                  Non-Null Count  Dtype \n",
            "---  ------                  --------------  ----- \n",
            " 0   CustomerID              200 non-null    int64 \n",
            " 1   Gender                  200 non-null    object\n",
            " 2   Age                     200 non-null    int64 \n",
            " 3   Annual Income (k$)      200 non-null    int64 \n",
            " 4   Spending Score (1-100)  200 non-null    int64 \n",
            "dtypes: int64(4), object(1)\n",
            "memory usage: 7.9+ KB\n"
          ]
        }
      ]
    },
    {
      "cell_type": "code",
      "source": [
        "df.isnull().sum()"
      ],
      "metadata": {
        "id": "4loylRRITKJg",
        "colab": {
          "base_uri": "https://localhost:8080/"
        },
        "outputId": "35f21519-f5aa-4390-f95f-acba6e177f4e"
      },
      "execution_count": 122,
      "outputs": [
        {
          "output_type": "execute_result",
          "data": {
            "text/plain": [
              "CustomerID                0\n",
              "Gender                    0\n",
              "Age                       0\n",
              "Annual Income (k$)        0\n",
              "Spending Score (1-100)    0\n",
              "dtype: int64"
            ]
          },
          "metadata": {},
          "execution_count": 122
        }
      ]
    },
    {
      "cell_type": "code",
      "source": [
        "df.duplicated().any()"
      ],
      "metadata": {
        "colab": {
          "base_uri": "https://localhost:8080/"
        },
        "id": "IWQPU5Om5pwU",
        "outputId": "4647461e-7a17-451c-b845-8d8e4ee0f6ae"
      },
      "execution_count": 123,
      "outputs": [
        {
          "output_type": "execute_result",
          "data": {
            "text/plain": [
              "False"
            ]
          },
          "metadata": {},
          "execution_count": 123
        }
      ]
    },
    {
      "cell_type": "code",
      "source": [
        "df['Gender'].value_counts()"
      ],
      "metadata": {
        "colab": {
          "base_uri": "https://localhost:8080/"
        },
        "id": "T68NHcMT51Bk",
        "outputId": "29585dab-8eca-4178-b634-7d6101595cd2"
      },
      "execution_count": 124,
      "outputs": [
        {
          "output_type": "execute_result",
          "data": {
            "text/plain": [
              "Female    112\n",
              "Male       88\n",
              "Name: Gender, dtype: int64"
            ]
          },
          "metadata": {},
          "execution_count": 124
        }
      ]
    },
    {
      "cell_type": "code",
      "source": [
        "df = df.replace(['Female','Male'],['0','1'])"
      ],
      "metadata": {
        "id": "37oqbohs59NQ"
      },
      "execution_count": 125,
      "outputs": []
    },
    {
      "cell_type": "code",
      "source": [
        "df['Gender'].value_counts()"
      ],
      "metadata": {
        "colab": {
          "base_uri": "https://localhost:8080/"
        },
        "id": "EQexw4g46NJI",
        "outputId": "b1120ca3-f722-45a7-8bf7-a71f11ca3276"
      },
      "execution_count": 126,
      "outputs": [
        {
          "output_type": "execute_result",
          "data": {
            "text/plain": [
              "0    112\n",
              "1     88\n",
              "Name: Gender, dtype: int64"
            ]
          },
          "metadata": {},
          "execution_count": 126
        }
      ]
    },
    {
      "cell_type": "code",
      "source": [
        "df[[ 'Gender']] = df[['Gender']].apply(pd.to_numeric, errors='coerce')"
      ],
      "metadata": {
        "id": "635ieCsf6e7i"
      },
      "execution_count": 127,
      "outputs": []
    },
    {
      "cell_type": "code",
      "source": [
        "df.info()"
      ],
      "metadata": {
        "colab": {
          "base_uri": "https://localhost:8080/"
        },
        "id": "nF9e21zY6oDR",
        "outputId": "bdfc217f-6a58-418b-89a3-1ea76926df83"
      },
      "execution_count": 128,
      "outputs": [
        {
          "output_type": "stream",
          "name": "stdout",
          "text": [
            "<class 'pandas.core.frame.DataFrame'>\n",
            "RangeIndex: 200 entries, 0 to 199\n",
            "Data columns (total 5 columns):\n",
            " #   Column                  Non-Null Count  Dtype\n",
            "---  ------                  --------------  -----\n",
            " 0   CustomerID              200 non-null    int64\n",
            " 1   Gender                  200 non-null    int64\n",
            " 2   Age                     200 non-null    int64\n",
            " 3   Annual Income (k$)      200 non-null    int64\n",
            " 4   Spending Score (1-100)  200 non-null    int64\n",
            "dtypes: int64(5)\n",
            "memory usage: 7.9 KB\n"
          ]
        }
      ]
    },
    {
      "cell_type": "code",
      "source": [
        "df_feature_selection = df[['Gender','Age','Annual Income (k$)',  'Spending Score (1-100)']]"
      ],
      "metadata": {
        "id": "YqXz08moTOmY"
      },
      "execution_count": 129,
      "outputs": []
    },
    {
      "cell_type": "markdown",
      "source": [
        "# PCA\n",
        "PCA merupakan salah satu cara untuk melakukan transformasi pada sebuah fitur dengan melakukan pengurangan jumlah fitur dalam dataset sambil mempertahankan sebanyak mungkin informasi (variansi) dari data asli. Untuk mengetahui dampak PCA terhadap fitur pada data, lakukan beberapa hal ini:\n",
        "* Lakukan Principal Component Analysis (PCA) pada data.\n",
        "* Tentukan rasio variansi yang dijelaskan oleh beberapa komponen utama pertama.\n",
        "* Hitung jumlah kumulatif dari rasio variansi yang dijelaskan oleh komponen-komponen utama tersebut.\n",
        "* Buatlah visualisasi berikut:\n",
        "  * Gunakan bar plot untuk menampilkan rasio variansi yang dijelaskan oleh masing-masing komponen utama.\n",
        "  * Gunakan step plot untuk menampilkan jumlah kumulatif variansi yang dijelaskan oleh komponen-komponen utama.\n",
        "* Tentukan apakah PCA perlu dilakukan sebagai tahapan dalam proses clustering ini? Berikan alasannya!"
      ],
      "metadata": {
        "id": "ERMOurJHDGRi"
      }
    },
    {
      "cell_type": "code",
      "source": [
        "#NORMALISASI\n",
        "from sklearn.preprocessing import StandardScaler\n",
        "from sklearn.decomposition import PCA\n",
        "\n",
        "scaler = StandardScaler()\n",
        "df_feature_selection_t = scaler.fit_transform(df_feature_selection)\n",
        "df_feature_selection_t[0:5]"
      ],
      "metadata": {
        "colab": {
          "base_uri": "https://localhost:8080/"
        },
        "id": "i5kvdDpj8HIz",
        "outputId": "fd886522-e7d4-48cc-a249-c53a45ee903f"
      },
      "execution_count": 130,
      "outputs": [
        {
          "output_type": "execute_result",
          "data": {
            "text/plain": [
              "array([[ 1.12815215, -1.42456879, -1.73899919, -0.43480148],\n",
              "       [ 1.12815215, -1.28103541, -1.73899919,  1.19570407],\n",
              "       [-0.88640526, -1.3528021 , -1.70082976, -1.71591298],\n",
              "       [-0.88640526, -1.13750203, -1.70082976,  1.04041783],\n",
              "       [-0.88640526, -0.56336851, -1.66266033, -0.39597992]])"
            ]
          },
          "metadata": {},
          "execution_count": 130
        }
      ]
    },
    {
      "cell_type": "code",
      "source": [
        "df_feature_selection_t = pd.DataFrame(df_feature_selection_t, columns=['Gender', 'Age','Annual Income (k$)','Spending Score (1-100)'])\n",
        "df_feature_selection_t.head()"
      ],
      "metadata": {
        "colab": {
          "base_uri": "https://localhost:8080/",
          "height": 206
        },
        "id": "gxROBmi8NYi2",
        "outputId": "72411bde-e5f7-4a7f-cd27-be59c6ea39a7"
      },
      "execution_count": 131,
      "outputs": [
        {
          "output_type": "execute_result",
          "data": {
            "text/plain": [
              "     Gender       Age  Annual Income (k$)  Spending Score (1-100)\n",
              "0  1.128152 -1.424569           -1.738999               -0.434801\n",
              "1  1.128152 -1.281035           -1.738999                1.195704\n",
              "2 -0.886405 -1.352802           -1.700830               -1.715913\n",
              "3 -0.886405 -1.137502           -1.700830                1.040418\n",
              "4 -0.886405 -0.563369           -1.662660               -0.395980"
            ],
            "text/html": [
              "\n",
              "  <div id=\"df-f2cfa8d7-57e5-4e1b-b0de-1675faf5b21a\" class=\"colab-df-container\">\n",
              "    <div>\n",
              "<style scoped>\n",
              "    .dataframe tbody tr th:only-of-type {\n",
              "        vertical-align: middle;\n",
              "    }\n",
              "\n",
              "    .dataframe tbody tr th {\n",
              "        vertical-align: top;\n",
              "    }\n",
              "\n",
              "    .dataframe thead th {\n",
              "        text-align: right;\n",
              "    }\n",
              "</style>\n",
              "<table border=\"1\" class=\"dataframe\">\n",
              "  <thead>\n",
              "    <tr style=\"text-align: right;\">\n",
              "      <th></th>\n",
              "      <th>Gender</th>\n",
              "      <th>Age</th>\n",
              "      <th>Annual Income (k$)</th>\n",
              "      <th>Spending Score (1-100)</th>\n",
              "    </tr>\n",
              "  </thead>\n",
              "  <tbody>\n",
              "    <tr>\n",
              "      <th>0</th>\n",
              "      <td>1.128152</td>\n",
              "      <td>-1.424569</td>\n",
              "      <td>-1.738999</td>\n",
              "      <td>-0.434801</td>\n",
              "    </tr>\n",
              "    <tr>\n",
              "      <th>1</th>\n",
              "      <td>1.128152</td>\n",
              "      <td>-1.281035</td>\n",
              "      <td>-1.738999</td>\n",
              "      <td>1.195704</td>\n",
              "    </tr>\n",
              "    <tr>\n",
              "      <th>2</th>\n",
              "      <td>-0.886405</td>\n",
              "      <td>-1.352802</td>\n",
              "      <td>-1.700830</td>\n",
              "      <td>-1.715913</td>\n",
              "    </tr>\n",
              "    <tr>\n",
              "      <th>3</th>\n",
              "      <td>-0.886405</td>\n",
              "      <td>-1.137502</td>\n",
              "      <td>-1.700830</td>\n",
              "      <td>1.040418</td>\n",
              "    </tr>\n",
              "    <tr>\n",
              "      <th>4</th>\n",
              "      <td>-0.886405</td>\n",
              "      <td>-0.563369</td>\n",
              "      <td>-1.662660</td>\n",
              "      <td>-0.395980</td>\n",
              "    </tr>\n",
              "  </tbody>\n",
              "</table>\n",
              "</div>\n",
              "    <div class=\"colab-df-buttons\">\n",
              "\n",
              "  <div class=\"colab-df-container\">\n",
              "    <button class=\"colab-df-convert\" onclick=\"convertToInteractive('df-f2cfa8d7-57e5-4e1b-b0de-1675faf5b21a')\"\n",
              "            title=\"Convert this dataframe to an interactive table.\"\n",
              "            style=\"display:none;\">\n",
              "\n",
              "  <svg xmlns=\"http://www.w3.org/2000/svg\" height=\"24px\" viewBox=\"0 -960 960 960\">\n",
              "    <path d=\"M120-120v-720h720v720H120Zm60-500h600v-160H180v160Zm220 220h160v-160H400v160Zm0 220h160v-160H400v160ZM180-400h160v-160H180v160Zm440 0h160v-160H620v160ZM180-180h160v-160H180v160Zm440 0h160v-160H620v160Z\"/>\n",
              "  </svg>\n",
              "    </button>\n",
              "\n",
              "  <style>\n",
              "    .colab-df-container {\n",
              "      display:flex;\n",
              "      gap: 12px;\n",
              "    }\n",
              "\n",
              "    .colab-df-convert {\n",
              "      background-color: #E8F0FE;\n",
              "      border: none;\n",
              "      border-radius: 50%;\n",
              "      cursor: pointer;\n",
              "      display: none;\n",
              "      fill: #1967D2;\n",
              "      height: 32px;\n",
              "      padding: 0 0 0 0;\n",
              "      width: 32px;\n",
              "    }\n",
              "\n",
              "    .colab-df-convert:hover {\n",
              "      background-color: #E2EBFA;\n",
              "      box-shadow: 0px 1px 2px rgba(60, 64, 67, 0.3), 0px 1px 3px 1px rgba(60, 64, 67, 0.15);\n",
              "      fill: #174EA6;\n",
              "    }\n",
              "\n",
              "    .colab-df-buttons div {\n",
              "      margin-bottom: 4px;\n",
              "    }\n",
              "\n",
              "    [theme=dark] .colab-df-convert {\n",
              "      background-color: #3B4455;\n",
              "      fill: #D2E3FC;\n",
              "    }\n",
              "\n",
              "    [theme=dark] .colab-df-convert:hover {\n",
              "      background-color: #434B5C;\n",
              "      box-shadow: 0px 1px 3px 1px rgba(0, 0, 0, 0.15);\n",
              "      filter: drop-shadow(0px 1px 2px rgba(0, 0, 0, 0.3));\n",
              "      fill: #FFFFFF;\n",
              "    }\n",
              "  </style>\n",
              "\n",
              "    <script>\n",
              "      const buttonEl =\n",
              "        document.querySelector('#df-f2cfa8d7-57e5-4e1b-b0de-1675faf5b21a button.colab-df-convert');\n",
              "      buttonEl.style.display =\n",
              "        google.colab.kernel.accessAllowed ? 'block' : 'none';\n",
              "\n",
              "      async function convertToInteractive(key) {\n",
              "        const element = document.querySelector('#df-f2cfa8d7-57e5-4e1b-b0de-1675faf5b21a');\n",
              "        const dataTable =\n",
              "          await google.colab.kernel.invokeFunction('convertToInteractive',\n",
              "                                                    [key], {});\n",
              "        if (!dataTable) return;\n",
              "\n",
              "        const docLinkHtml = 'Like what you see? Visit the ' +\n",
              "          '<a target=\"_blank\" href=https://colab.research.google.com/notebooks/data_table.ipynb>data table notebook</a>'\n",
              "          + ' to learn more about interactive tables.';\n",
              "        element.innerHTML = '';\n",
              "        dataTable['output_type'] = 'display_data';\n",
              "        await google.colab.output.renderOutput(dataTable, element);\n",
              "        const docLink = document.createElement('div');\n",
              "        docLink.innerHTML = docLinkHtml;\n",
              "        element.appendChild(docLink);\n",
              "      }\n",
              "    </script>\n",
              "  </div>\n",
              "\n",
              "\n",
              "<div id=\"df-52f3e830-7cf2-4839-ac6d-54b0de5c2b44\">\n",
              "  <button class=\"colab-df-quickchart\" onclick=\"quickchart('df-52f3e830-7cf2-4839-ac6d-54b0de5c2b44')\"\n",
              "            title=\"Suggest charts.\"\n",
              "            style=\"display:none;\">\n",
              "\n",
              "<svg xmlns=\"http://www.w3.org/2000/svg\" height=\"24px\"viewBox=\"0 0 24 24\"\n",
              "     width=\"24px\">\n",
              "    <g>\n",
              "        <path d=\"M19 3H5c-1.1 0-2 .9-2 2v14c0 1.1.9 2 2 2h14c1.1 0 2-.9 2-2V5c0-1.1-.9-2-2-2zM9 17H7v-7h2v7zm4 0h-2V7h2v10zm4 0h-2v-4h2v4z\"/>\n",
              "    </g>\n",
              "</svg>\n",
              "  </button>\n",
              "\n",
              "<style>\n",
              "  .colab-df-quickchart {\n",
              "      --bg-color: #E8F0FE;\n",
              "      --fill-color: #1967D2;\n",
              "      --hover-bg-color: #E2EBFA;\n",
              "      --hover-fill-color: #174EA6;\n",
              "      --disabled-fill-color: #AAA;\n",
              "      --disabled-bg-color: #DDD;\n",
              "  }\n",
              "\n",
              "  [theme=dark] .colab-df-quickchart {\n",
              "      --bg-color: #3B4455;\n",
              "      --fill-color: #D2E3FC;\n",
              "      --hover-bg-color: #434B5C;\n",
              "      --hover-fill-color: #FFFFFF;\n",
              "      --disabled-bg-color: #3B4455;\n",
              "      --disabled-fill-color: #666;\n",
              "  }\n",
              "\n",
              "  .colab-df-quickchart {\n",
              "    background-color: var(--bg-color);\n",
              "    border: none;\n",
              "    border-radius: 50%;\n",
              "    cursor: pointer;\n",
              "    display: none;\n",
              "    fill: var(--fill-color);\n",
              "    height: 32px;\n",
              "    padding: 0;\n",
              "    width: 32px;\n",
              "  }\n",
              "\n",
              "  .colab-df-quickchart:hover {\n",
              "    background-color: var(--hover-bg-color);\n",
              "    box-shadow: 0 1px 2px rgba(60, 64, 67, 0.3), 0 1px 3px 1px rgba(60, 64, 67, 0.15);\n",
              "    fill: var(--button-hover-fill-color);\n",
              "  }\n",
              "\n",
              "  .colab-df-quickchart-complete:disabled,\n",
              "  .colab-df-quickchart-complete:disabled:hover {\n",
              "    background-color: var(--disabled-bg-color);\n",
              "    fill: var(--disabled-fill-color);\n",
              "    box-shadow: none;\n",
              "  }\n",
              "\n",
              "  .colab-df-spinner {\n",
              "    border: 2px solid var(--fill-color);\n",
              "    border-color: transparent;\n",
              "    border-bottom-color: var(--fill-color);\n",
              "    animation:\n",
              "      spin 1s steps(1) infinite;\n",
              "  }\n",
              "\n",
              "  @keyframes spin {\n",
              "    0% {\n",
              "      border-color: transparent;\n",
              "      border-bottom-color: var(--fill-color);\n",
              "      border-left-color: var(--fill-color);\n",
              "    }\n",
              "    20% {\n",
              "      border-color: transparent;\n",
              "      border-left-color: var(--fill-color);\n",
              "      border-top-color: var(--fill-color);\n",
              "    }\n",
              "    30% {\n",
              "      border-color: transparent;\n",
              "      border-left-color: var(--fill-color);\n",
              "      border-top-color: var(--fill-color);\n",
              "      border-right-color: var(--fill-color);\n",
              "    }\n",
              "    40% {\n",
              "      border-color: transparent;\n",
              "      border-right-color: var(--fill-color);\n",
              "      border-top-color: var(--fill-color);\n",
              "    }\n",
              "    60% {\n",
              "      border-color: transparent;\n",
              "      border-right-color: var(--fill-color);\n",
              "    }\n",
              "    80% {\n",
              "      border-color: transparent;\n",
              "      border-right-color: var(--fill-color);\n",
              "      border-bottom-color: var(--fill-color);\n",
              "    }\n",
              "    90% {\n",
              "      border-color: transparent;\n",
              "      border-bottom-color: var(--fill-color);\n",
              "    }\n",
              "  }\n",
              "</style>\n",
              "\n",
              "  <script>\n",
              "    async function quickchart(key) {\n",
              "      const quickchartButtonEl =\n",
              "        document.querySelector('#' + key + ' button');\n",
              "      quickchartButtonEl.disabled = true;  // To prevent multiple clicks.\n",
              "      quickchartButtonEl.classList.add('colab-df-spinner');\n",
              "      try {\n",
              "        const charts = await google.colab.kernel.invokeFunction(\n",
              "            'suggestCharts', [key], {});\n",
              "      } catch (error) {\n",
              "        console.error('Error during call to suggestCharts:', error);\n",
              "      }\n",
              "      quickchartButtonEl.classList.remove('colab-df-spinner');\n",
              "      quickchartButtonEl.classList.add('colab-df-quickchart-complete');\n",
              "    }\n",
              "    (() => {\n",
              "      let quickchartButtonEl =\n",
              "        document.querySelector('#df-52f3e830-7cf2-4839-ac6d-54b0de5c2b44 button');\n",
              "      quickchartButtonEl.style.display =\n",
              "        google.colab.kernel.accessAllowed ? 'block' : 'none';\n",
              "    })();\n",
              "  </script>\n",
              "</div>\n",
              "    </div>\n",
              "  </div>\n"
            ]
          },
          "metadata": {},
          "execution_count": 131
        }
      ]
    },
    {
      "cell_type": "code",
      "source": [
        "df_feature_selection_t = df_feature_selection_t.drop(columns=['Gender'])\n"
      ],
      "metadata": {
        "id": "jXhTbf3Q33Yn"
      },
      "execution_count": 132,
      "outputs": []
    },
    {
      "cell_type": "markdown",
      "source": [
        "atribut gender tidak termasuk karena tidak ada korelasi antara atribut lainnya. dan atribut ini menyebar diseluruh data"
      ],
      "metadata": {
        "id": "u3QmAFoS6tDR"
      }
    },
    {
      "cell_type": "code",
      "source": [
        "df_feature_selection_t"
      ],
      "metadata": {
        "colab": {
          "base_uri": "https://localhost:8080/",
          "height": 424
        },
        "id": "Ad19mKPl4bO2",
        "outputId": "a5997935-0d2d-43a4-8cf2-c0f633153801"
      },
      "execution_count": 133,
      "outputs": [
        {
          "output_type": "execute_result",
          "data": {
            "text/plain": [
              "          Age  Annual Income (k$)  Spending Score (1-100)\n",
              "0   -1.424569           -1.738999               -0.434801\n",
              "1   -1.281035           -1.738999                1.195704\n",
              "2   -1.352802           -1.700830               -1.715913\n",
              "3   -1.137502           -1.700830                1.040418\n",
              "4   -0.563369           -1.662660               -0.395980\n",
              "..        ...                 ...                     ...\n",
              "195 -0.276302            2.268791                1.118061\n",
              "196  0.441365            2.497807               -0.861839\n",
              "197 -0.491602            2.497807                0.923953\n",
              "198 -0.491602            2.917671               -1.250054\n",
              "199 -0.635135            2.917671                1.273347\n",
              "\n",
              "[200 rows x 3 columns]"
            ],
            "text/html": [
              "\n",
              "  <div id=\"df-48830e44-ca42-4131-b2b5-6960ad9ce742\" class=\"colab-df-container\">\n",
              "    <div>\n",
              "<style scoped>\n",
              "    .dataframe tbody tr th:only-of-type {\n",
              "        vertical-align: middle;\n",
              "    }\n",
              "\n",
              "    .dataframe tbody tr th {\n",
              "        vertical-align: top;\n",
              "    }\n",
              "\n",
              "    .dataframe thead th {\n",
              "        text-align: right;\n",
              "    }\n",
              "</style>\n",
              "<table border=\"1\" class=\"dataframe\">\n",
              "  <thead>\n",
              "    <tr style=\"text-align: right;\">\n",
              "      <th></th>\n",
              "      <th>Age</th>\n",
              "      <th>Annual Income (k$)</th>\n",
              "      <th>Spending Score (1-100)</th>\n",
              "    </tr>\n",
              "  </thead>\n",
              "  <tbody>\n",
              "    <tr>\n",
              "      <th>0</th>\n",
              "      <td>-1.424569</td>\n",
              "      <td>-1.738999</td>\n",
              "      <td>-0.434801</td>\n",
              "    </tr>\n",
              "    <tr>\n",
              "      <th>1</th>\n",
              "      <td>-1.281035</td>\n",
              "      <td>-1.738999</td>\n",
              "      <td>1.195704</td>\n",
              "    </tr>\n",
              "    <tr>\n",
              "      <th>2</th>\n",
              "      <td>-1.352802</td>\n",
              "      <td>-1.700830</td>\n",
              "      <td>-1.715913</td>\n",
              "    </tr>\n",
              "    <tr>\n",
              "      <th>3</th>\n",
              "      <td>-1.137502</td>\n",
              "      <td>-1.700830</td>\n",
              "      <td>1.040418</td>\n",
              "    </tr>\n",
              "    <tr>\n",
              "      <th>4</th>\n",
              "      <td>-0.563369</td>\n",
              "      <td>-1.662660</td>\n",
              "      <td>-0.395980</td>\n",
              "    </tr>\n",
              "    <tr>\n",
              "      <th>...</th>\n",
              "      <td>...</td>\n",
              "      <td>...</td>\n",
              "      <td>...</td>\n",
              "    </tr>\n",
              "    <tr>\n",
              "      <th>195</th>\n",
              "      <td>-0.276302</td>\n",
              "      <td>2.268791</td>\n",
              "      <td>1.118061</td>\n",
              "    </tr>\n",
              "    <tr>\n",
              "      <th>196</th>\n",
              "      <td>0.441365</td>\n",
              "      <td>2.497807</td>\n",
              "      <td>-0.861839</td>\n",
              "    </tr>\n",
              "    <tr>\n",
              "      <th>197</th>\n",
              "      <td>-0.491602</td>\n",
              "      <td>2.497807</td>\n",
              "      <td>0.923953</td>\n",
              "    </tr>\n",
              "    <tr>\n",
              "      <th>198</th>\n",
              "      <td>-0.491602</td>\n",
              "      <td>2.917671</td>\n",
              "      <td>-1.250054</td>\n",
              "    </tr>\n",
              "    <tr>\n",
              "      <th>199</th>\n",
              "      <td>-0.635135</td>\n",
              "      <td>2.917671</td>\n",
              "      <td>1.273347</td>\n",
              "    </tr>\n",
              "  </tbody>\n",
              "</table>\n",
              "<p>200 rows × 3 columns</p>\n",
              "</div>\n",
              "    <div class=\"colab-df-buttons\">\n",
              "\n",
              "  <div class=\"colab-df-container\">\n",
              "    <button class=\"colab-df-convert\" onclick=\"convertToInteractive('df-48830e44-ca42-4131-b2b5-6960ad9ce742')\"\n",
              "            title=\"Convert this dataframe to an interactive table.\"\n",
              "            style=\"display:none;\">\n",
              "\n",
              "  <svg xmlns=\"http://www.w3.org/2000/svg\" height=\"24px\" viewBox=\"0 -960 960 960\">\n",
              "    <path d=\"M120-120v-720h720v720H120Zm60-500h600v-160H180v160Zm220 220h160v-160H400v160Zm0 220h160v-160H400v160ZM180-400h160v-160H180v160Zm440 0h160v-160H620v160ZM180-180h160v-160H180v160Zm440 0h160v-160H620v160Z\"/>\n",
              "  </svg>\n",
              "    </button>\n",
              "\n",
              "  <style>\n",
              "    .colab-df-container {\n",
              "      display:flex;\n",
              "      gap: 12px;\n",
              "    }\n",
              "\n",
              "    .colab-df-convert {\n",
              "      background-color: #E8F0FE;\n",
              "      border: none;\n",
              "      border-radius: 50%;\n",
              "      cursor: pointer;\n",
              "      display: none;\n",
              "      fill: #1967D2;\n",
              "      height: 32px;\n",
              "      padding: 0 0 0 0;\n",
              "      width: 32px;\n",
              "    }\n",
              "\n",
              "    .colab-df-convert:hover {\n",
              "      background-color: #E2EBFA;\n",
              "      box-shadow: 0px 1px 2px rgba(60, 64, 67, 0.3), 0px 1px 3px 1px rgba(60, 64, 67, 0.15);\n",
              "      fill: #174EA6;\n",
              "    }\n",
              "\n",
              "    .colab-df-buttons div {\n",
              "      margin-bottom: 4px;\n",
              "    }\n",
              "\n",
              "    [theme=dark] .colab-df-convert {\n",
              "      background-color: #3B4455;\n",
              "      fill: #D2E3FC;\n",
              "    }\n",
              "\n",
              "    [theme=dark] .colab-df-convert:hover {\n",
              "      background-color: #434B5C;\n",
              "      box-shadow: 0px 1px 3px 1px rgba(0, 0, 0, 0.15);\n",
              "      filter: drop-shadow(0px 1px 2px rgba(0, 0, 0, 0.3));\n",
              "      fill: #FFFFFF;\n",
              "    }\n",
              "  </style>\n",
              "\n",
              "    <script>\n",
              "      const buttonEl =\n",
              "        document.querySelector('#df-48830e44-ca42-4131-b2b5-6960ad9ce742 button.colab-df-convert');\n",
              "      buttonEl.style.display =\n",
              "        google.colab.kernel.accessAllowed ? 'block' : 'none';\n",
              "\n",
              "      async function convertToInteractive(key) {\n",
              "        const element = document.querySelector('#df-48830e44-ca42-4131-b2b5-6960ad9ce742');\n",
              "        const dataTable =\n",
              "          await google.colab.kernel.invokeFunction('convertToInteractive',\n",
              "                                                    [key], {});\n",
              "        if (!dataTable) return;\n",
              "\n",
              "        const docLinkHtml = 'Like what you see? Visit the ' +\n",
              "          '<a target=\"_blank\" href=https://colab.research.google.com/notebooks/data_table.ipynb>data table notebook</a>'\n",
              "          + ' to learn more about interactive tables.';\n",
              "        element.innerHTML = '';\n",
              "        dataTable['output_type'] = 'display_data';\n",
              "        await google.colab.output.renderOutput(dataTable, element);\n",
              "        const docLink = document.createElement('div');\n",
              "        docLink.innerHTML = docLinkHtml;\n",
              "        element.appendChild(docLink);\n",
              "      }\n",
              "    </script>\n",
              "  </div>\n",
              "\n",
              "\n",
              "<div id=\"df-dc1cbcad-7638-4f00-ab3b-db39e7861b50\">\n",
              "  <button class=\"colab-df-quickchart\" onclick=\"quickchart('df-dc1cbcad-7638-4f00-ab3b-db39e7861b50')\"\n",
              "            title=\"Suggest charts.\"\n",
              "            style=\"display:none;\">\n",
              "\n",
              "<svg xmlns=\"http://www.w3.org/2000/svg\" height=\"24px\"viewBox=\"0 0 24 24\"\n",
              "     width=\"24px\">\n",
              "    <g>\n",
              "        <path d=\"M19 3H5c-1.1 0-2 .9-2 2v14c0 1.1.9 2 2 2h14c1.1 0 2-.9 2-2V5c0-1.1-.9-2-2-2zM9 17H7v-7h2v7zm4 0h-2V7h2v10zm4 0h-2v-4h2v4z\"/>\n",
              "    </g>\n",
              "</svg>\n",
              "  </button>\n",
              "\n",
              "<style>\n",
              "  .colab-df-quickchart {\n",
              "      --bg-color: #E8F0FE;\n",
              "      --fill-color: #1967D2;\n",
              "      --hover-bg-color: #E2EBFA;\n",
              "      --hover-fill-color: #174EA6;\n",
              "      --disabled-fill-color: #AAA;\n",
              "      --disabled-bg-color: #DDD;\n",
              "  }\n",
              "\n",
              "  [theme=dark] .colab-df-quickchart {\n",
              "      --bg-color: #3B4455;\n",
              "      --fill-color: #D2E3FC;\n",
              "      --hover-bg-color: #434B5C;\n",
              "      --hover-fill-color: #FFFFFF;\n",
              "      --disabled-bg-color: #3B4455;\n",
              "      --disabled-fill-color: #666;\n",
              "  }\n",
              "\n",
              "  .colab-df-quickchart {\n",
              "    background-color: var(--bg-color);\n",
              "    border: none;\n",
              "    border-radius: 50%;\n",
              "    cursor: pointer;\n",
              "    display: none;\n",
              "    fill: var(--fill-color);\n",
              "    height: 32px;\n",
              "    padding: 0;\n",
              "    width: 32px;\n",
              "  }\n",
              "\n",
              "  .colab-df-quickchart:hover {\n",
              "    background-color: var(--hover-bg-color);\n",
              "    box-shadow: 0 1px 2px rgba(60, 64, 67, 0.3), 0 1px 3px 1px rgba(60, 64, 67, 0.15);\n",
              "    fill: var(--button-hover-fill-color);\n",
              "  }\n",
              "\n",
              "  .colab-df-quickchart-complete:disabled,\n",
              "  .colab-df-quickchart-complete:disabled:hover {\n",
              "    background-color: var(--disabled-bg-color);\n",
              "    fill: var(--disabled-fill-color);\n",
              "    box-shadow: none;\n",
              "  }\n",
              "\n",
              "  .colab-df-spinner {\n",
              "    border: 2px solid var(--fill-color);\n",
              "    border-color: transparent;\n",
              "    border-bottom-color: var(--fill-color);\n",
              "    animation:\n",
              "      spin 1s steps(1) infinite;\n",
              "  }\n",
              "\n",
              "  @keyframes spin {\n",
              "    0% {\n",
              "      border-color: transparent;\n",
              "      border-bottom-color: var(--fill-color);\n",
              "      border-left-color: var(--fill-color);\n",
              "    }\n",
              "    20% {\n",
              "      border-color: transparent;\n",
              "      border-left-color: var(--fill-color);\n",
              "      border-top-color: var(--fill-color);\n",
              "    }\n",
              "    30% {\n",
              "      border-color: transparent;\n",
              "      border-left-color: var(--fill-color);\n",
              "      border-top-color: var(--fill-color);\n",
              "      border-right-color: var(--fill-color);\n",
              "    }\n",
              "    40% {\n",
              "      border-color: transparent;\n",
              "      border-right-color: var(--fill-color);\n",
              "      border-top-color: var(--fill-color);\n",
              "    }\n",
              "    60% {\n",
              "      border-color: transparent;\n",
              "      border-right-color: var(--fill-color);\n",
              "    }\n",
              "    80% {\n",
              "      border-color: transparent;\n",
              "      border-right-color: var(--fill-color);\n",
              "      border-bottom-color: var(--fill-color);\n",
              "    }\n",
              "    90% {\n",
              "      border-color: transparent;\n",
              "      border-bottom-color: var(--fill-color);\n",
              "    }\n",
              "  }\n",
              "</style>\n",
              "\n",
              "  <script>\n",
              "    async function quickchart(key) {\n",
              "      const quickchartButtonEl =\n",
              "        document.querySelector('#' + key + ' button');\n",
              "      quickchartButtonEl.disabled = true;  // To prevent multiple clicks.\n",
              "      quickchartButtonEl.classList.add('colab-df-spinner');\n",
              "      try {\n",
              "        const charts = await google.colab.kernel.invokeFunction(\n",
              "            'suggestCharts', [key], {});\n",
              "      } catch (error) {\n",
              "        console.error('Error during call to suggestCharts:', error);\n",
              "      }\n",
              "      quickchartButtonEl.classList.remove('colab-df-spinner');\n",
              "      quickchartButtonEl.classList.add('colab-df-quickchart-complete');\n",
              "    }\n",
              "    (() => {\n",
              "      let quickchartButtonEl =\n",
              "        document.querySelector('#df-dc1cbcad-7638-4f00-ab3b-db39e7861b50 button');\n",
              "      quickchartButtonEl.style.display =\n",
              "        google.colab.kernel.accessAllowed ? 'block' : 'none';\n",
              "    })();\n",
              "  </script>\n",
              "</div>\n",
              "    </div>\n",
              "  </div>\n"
            ]
          },
          "metadata": {},
          "execution_count": 133
        }
      ]
    },
    {
      "cell_type": "code",
      "source": [
        "# Mengaplikasikan PCA\n",
        "pca = PCA()\n",
        "pca.fit(df_feature_selection_t)"
      ],
      "metadata": {
        "colab": {
          "base_uri": "https://localhost:8080/",
          "height": 75
        },
        "id": "twCLTT947fst",
        "outputId": "8eaed9c2-f7cb-4d38-c842-43703db6e50f"
      },
      "execution_count": 134,
      "outputs": [
        {
          "output_type": "execute_result",
          "data": {
            "text/plain": [
              "PCA()"
            ],
            "text/html": [
              "<style>#sk-container-id-3 {color: black;background-color: white;}#sk-container-id-3 pre{padding: 0;}#sk-container-id-3 div.sk-toggleable {background-color: white;}#sk-container-id-3 label.sk-toggleable__label {cursor: pointer;display: block;width: 100%;margin-bottom: 0;padding: 0.3em;box-sizing: border-box;text-align: center;}#sk-container-id-3 label.sk-toggleable__label-arrow:before {content: \"▸\";float: left;margin-right: 0.25em;color: #696969;}#sk-container-id-3 label.sk-toggleable__label-arrow:hover:before {color: black;}#sk-container-id-3 div.sk-estimator:hover label.sk-toggleable__label-arrow:before {color: black;}#sk-container-id-3 div.sk-toggleable__content {max-height: 0;max-width: 0;overflow: hidden;text-align: left;background-color: #f0f8ff;}#sk-container-id-3 div.sk-toggleable__content pre {margin: 0.2em;color: black;border-radius: 0.25em;background-color: #f0f8ff;}#sk-container-id-3 input.sk-toggleable__control:checked~div.sk-toggleable__content {max-height: 200px;max-width: 100%;overflow: auto;}#sk-container-id-3 input.sk-toggleable__control:checked~label.sk-toggleable__label-arrow:before {content: \"▾\";}#sk-container-id-3 div.sk-estimator input.sk-toggleable__control:checked~label.sk-toggleable__label {background-color: #d4ebff;}#sk-container-id-3 div.sk-label input.sk-toggleable__control:checked~label.sk-toggleable__label {background-color: #d4ebff;}#sk-container-id-3 input.sk-hidden--visually {border: 0;clip: rect(1px 1px 1px 1px);clip: rect(1px, 1px, 1px, 1px);height: 1px;margin: -1px;overflow: hidden;padding: 0;position: absolute;width: 1px;}#sk-container-id-3 div.sk-estimator {font-family: monospace;background-color: #f0f8ff;border: 1px dotted black;border-radius: 0.25em;box-sizing: border-box;margin-bottom: 0.5em;}#sk-container-id-3 div.sk-estimator:hover {background-color: #d4ebff;}#sk-container-id-3 div.sk-parallel-item::after {content: \"\";width: 100%;border-bottom: 1px solid gray;flex-grow: 1;}#sk-container-id-3 div.sk-label:hover label.sk-toggleable__label {background-color: #d4ebff;}#sk-container-id-3 div.sk-serial::before {content: \"\";position: absolute;border-left: 1px solid gray;box-sizing: border-box;top: 0;bottom: 0;left: 50%;z-index: 0;}#sk-container-id-3 div.sk-serial {display: flex;flex-direction: column;align-items: center;background-color: white;padding-right: 0.2em;padding-left: 0.2em;position: relative;}#sk-container-id-3 div.sk-item {position: relative;z-index: 1;}#sk-container-id-3 div.sk-parallel {display: flex;align-items: stretch;justify-content: center;background-color: white;position: relative;}#sk-container-id-3 div.sk-item::before, #sk-container-id-3 div.sk-parallel-item::before {content: \"\";position: absolute;border-left: 1px solid gray;box-sizing: border-box;top: 0;bottom: 0;left: 50%;z-index: -1;}#sk-container-id-3 div.sk-parallel-item {display: flex;flex-direction: column;z-index: 1;position: relative;background-color: white;}#sk-container-id-3 div.sk-parallel-item:first-child::after {align-self: flex-end;width: 50%;}#sk-container-id-3 div.sk-parallel-item:last-child::after {align-self: flex-start;width: 50%;}#sk-container-id-3 div.sk-parallel-item:only-child::after {width: 0;}#sk-container-id-3 div.sk-dashed-wrapped {border: 1px dashed gray;margin: 0 0.4em 0.5em 0.4em;box-sizing: border-box;padding-bottom: 0.4em;background-color: white;}#sk-container-id-3 div.sk-label label {font-family: monospace;font-weight: bold;display: inline-block;line-height: 1.2em;}#sk-container-id-3 div.sk-label-container {text-align: center;}#sk-container-id-3 div.sk-container {/* jupyter's `normalize.less` sets `[hidden] { display: none; }` but bootstrap.min.css set `[hidden] { display: none !important; }` so we also need the `!important` here to be able to override the default hidden behavior on the sphinx rendered scikit-learn.org. See: https://github.com/scikit-learn/scikit-learn/issues/21755 */display: inline-block !important;position: relative;}#sk-container-id-3 div.sk-text-repr-fallback {display: none;}</style><div id=\"sk-container-id-3\" class=\"sk-top-container\"><div class=\"sk-text-repr-fallback\"><pre>PCA()</pre><b>In a Jupyter environment, please rerun this cell to show the HTML representation or trust the notebook. <br />On GitHub, the HTML representation is unable to render, please try loading this page with nbviewer.org.</b></div><div class=\"sk-container\" hidden><div class=\"sk-item\"><div class=\"sk-estimator sk-toggleable\"><input class=\"sk-toggleable__control sk-hidden--visually\" id=\"sk-estimator-id-3\" type=\"checkbox\" checked><label for=\"sk-estimator-id-3\" class=\"sk-toggleable__label sk-toggleable__label-arrow\">PCA</label><div class=\"sk-toggleable__content\"><pre>PCA()</pre></div></div></div></div></div>"
            ]
          },
          "metadata": {},
          "execution_count": 134
        }
      ]
    },
    {
      "cell_type": "code",
      "source": [
        "# Tentukan jumlah principal component yang optimal\n",
        "var_exp = pca.explained_variance_ratio_\n",
        "cum_var_exp = np.cumsum(var_exp)"
      ],
      "metadata": {
        "id": "PqBMSskB9B9Q"
      },
      "execution_count": 135,
      "outputs": []
    },
    {
      "cell_type": "code",
      "source": [
        "# Tampilkan visualisasi dari hasil PCA dengan warna yang berbeda untuk masing-masing principal component\n",
        "plt.bar(range(1, len(cum_var_exp)+1), var_exp, alpha=0.5, align=\"center\", label=\"Individual explained variance\")\n",
        "plt.step(range(1, len(cum_var_exp)+1), cum_var_exp, where=\"mid\", label=\"Cumulative explained variance\")\n",
        "plt.ylabel(\"Explained variance ratio\")\n",
        "plt.xlabel(\"Principal components\")\n",
        "plt.legend(loc=\"best\")\n",
        "plt.show()"
      ],
      "metadata": {
        "colab": {
          "base_uri": "https://localhost:8080/",
          "height": 449
        },
        "id": "AtCny6wD9HDX",
        "outputId": "7878a96f-aa02-4ba1-a792-2a5db56386c5"
      },
      "execution_count": 136,
      "outputs": [
        {
          "output_type": "display_data",
          "data": {
            "text/plain": [
              "<Figure size 640x480 with 1 Axes>"
            ],
            "image/png": "[encoded data removed]"
          },
          "metadata": {}
        }
      ]
    },
    {
      "cell_type": "markdown",
      "source": [
        "GAMBAR DIATAS DAPAT DILIHAT LINE CHART GABUNGAN ANTARA KE 2 VARIALBEL BERADA SEKITAR 80 % ATAU 0,8. Namun PADA FEATURE KE 3 TERDAPAT VARIANCE RATIO SEBANYAK 30 % DAN LEBIH TINGGI DARI FEATURE KE 2. MAKA KETIGA DARI ATRIBUT DIATAS AKAN TETAP DIGUNAKAN."
      ],
      "metadata": {
        "id": "_cjJ8k489vCG"
      }
    },
    {
      "cell_type": "markdown",
      "source": [
        "PCA PERLU DILAKUKAN UNTUK MENGHEMAT WAKTU DALAM TRAINING DATA"
      ],
      "metadata": {
        "id": "V30hSauo-3hp"
      }
    },
    {
      "cell_type": "code",
      "source": [
        "#FEATURE SELECTION\n",
        "df_feat = df[['Age','Annual Income (k$)', 'Spending Score (1-100)']]\n",
        "df_feat_4 = df[['Gender','Age','Annual Income (k$)', 'Spending Score (1-100)']]\n",
        "df_feat.head(2)"
      ],
      "metadata": {
        "colab": {
          "base_uri": "https://localhost:8080/",
          "height": 112
        },
        "id": "H0gsyRu9_Cye",
        "outputId": "656466ab-fcbb-4739-d32b-07549904d875"
      },
      "execution_count": 137,
      "outputs": [
        {
          "output_type": "execute_result",
          "data": {
            "text/plain": [
              "   Age  Annual Income (k$)  Spending Score (1-100)\n",
              "0   19                  15                      39\n",
              "1   21                  15                      81"
            ],
            "text/html": [
              "\n",
              "  <div id=\"df-f18ca436-f16c-4aa7-a174-3c98704414d4\" class=\"colab-df-container\">\n",
              "    <div>\n",
              "<style scoped>\n",
              "    .dataframe tbody tr th:only-of-type {\n",
              "        vertical-align: middle;\n",
              "    }\n",
              "\n",
              "    .dataframe tbody tr th {\n",
              "        vertical-align: top;\n",
              "    }\n",
              "\n",
              "    .dataframe thead th {\n",
              "        text-align: right;\n",
              "    }\n",
              "</style>\n",
              "<table border=\"1\" class=\"dataframe\">\n",
              "  <thead>\n",
              "    <tr style=\"text-align: right;\">\n",
              "      <th></th>\n",
              "      <th>Age</th>\n",
              "      <th>Annual Income (k$)</th>\n",
              "      <th>Spending Score (1-100)</th>\n",
              "    </tr>\n",
              "  </thead>\n",
              "  <tbody>\n",
              "    <tr>\n",
              "      <th>0</th>\n",
              "      <td>19</td>\n",
              "      <td>15</td>\n",
              "      <td>39</td>\n",
              "    </tr>\n",
              "    <tr>\n",
              "      <th>1</th>\n",
              "      <td>21</td>\n",
              "      <td>15</td>\n",
              "      <td>81</td>\n",
              "    </tr>\n",
              "  </tbody>\n",
              "</table>\n",
              "</div>\n",
              "    <div class=\"colab-df-buttons\">\n",
              "\n",
              "  <div class=\"colab-df-container\">\n",
              "    <button class=\"colab-df-convert\" onclick=\"convertToInteractive('df-f18ca436-f16c-4aa7-a174-3c98704414d4')\"\n",
              "            title=\"Convert this dataframe to an interactive table.\"\n",
              "            style=\"display:none;\">\n",
              "\n",
              "  <svg xmlns=\"http://www.w3.org/2000/svg\" height=\"24px\" viewBox=\"0 -960 960 960\">\n",
              "    <path d=\"M120-120v-720h720v720H120Zm60-500h600v-160H180v160Zm220 220h160v-160H400v160Zm0 220h160v-160H400v160ZM180-400h160v-160H180v160Zm440 0h160v-160H620v160ZM180-180h160v-160H180v160Zm440 0h160v-160H620v160Z\"/>\n",
              "  </svg>\n",
              "    </button>\n",
              "\n",
              "  <style>\n",
              "    .colab-df-container {\n",
              "      display:flex;\n",
              "      gap: 12px;\n",
              "    }\n",
              "\n",
              "    .colab-df-convert {\n",
              "      background-color: #E8F0FE;\n",
              "      border: none;\n",
              "      border-radius: 50%;\n",
              "      cursor: pointer;\n",
              "      display: none;\n",
              "      fill: #1967D2;\n",
              "      height: 32px;\n",
              "      padding: 0 0 0 0;\n",
              "      width: 32px;\n",
              "    }\n",
              "\n",
              "    .colab-df-convert:hover {\n",
              "      background-color: #E2EBFA;\n",
              "      box-shadow: 0px 1px 2px rgba(60, 64, 67, 0.3), 0px 1px 3px 1px rgba(60, 64, 67, 0.15);\n",
              "      fill: #174EA6;\n",
              "    }\n",
              "\n",
              "    .colab-df-buttons div {\n",
              "      margin-bottom: 4px;\n",
              "    }\n",
              "\n",
              "    [theme=dark] .colab-df-convert {\n",
              "      background-color: #3B4455;\n",
              "      fill: #D2E3FC;\n",
              "    }\n",
              "\n",
              "    [theme=dark] .colab-df-convert:hover {\n",
              "      background-color: #434B5C;\n",
              "      box-shadow: 0px 1px 3px 1px rgba(0, 0, 0, 0.15);\n",
              "      filter: drop-shadow(0px 1px 2px rgba(0, 0, 0, 0.3));\n",
              "      fill: #FFFFFF;\n",
              "    }\n",
              "  </style>\n",
              "\n",
              "    <script>\n",
              "      const buttonEl =\n",
              "        document.querySelector('#df-f18ca436-f16c-4aa7-a174-3c98704414d4 button.colab-df-convert');\n",
              "      buttonEl.style.display =\n",
              "        google.colab.kernel.accessAllowed ? 'block' : 'none';\n",
              "\n",
              "      async function convertToInteractive(key) {\n",
              "        const element = document.querySelector('#df-f18ca436-f16c-4aa7-a174-3c98704414d4');\n",
              "        const dataTable =\n",
              "          await google.colab.kernel.invokeFunction('convertToInteractive',\n",
              "                                                    [key], {});\n",
              "        if (!dataTable) return;\n",
              "\n",
              "        const docLinkHtml = 'Like what you see? Visit the ' +\n",
              "          '<a target=\"_blank\" href=https://colab.research.google.com/notebooks/data_table.ipynb>data table notebook</a>'\n",
              "          + ' to learn more about interactive tables.';\n",
              "        element.innerHTML = '';\n",
              "        dataTable['output_type'] = 'display_data';\n",
              "        await google.colab.output.renderOutput(dataTable, element);\n",
              "        const docLink = document.createElement('div');\n",
              "        docLink.innerHTML = docLinkHtml;\n",
              "        element.appendChild(docLink);\n",
              "      }\n",
              "    </script>\n",
              "  </div>\n",
              "\n",
              "\n",
              "<div id=\"df-7ad53d75-583d-40c4-ac85-0f5d2739581d\">\n",
              "  <button class=\"colab-df-quickchart\" onclick=\"quickchart('df-7ad53d75-583d-40c4-ac85-0f5d2739581d')\"\n",
              "            title=\"Suggest charts.\"\n",
              "            style=\"display:none;\">\n",
              "\n",
              "<svg xmlns=\"http://www.w3.org/2000/svg\" height=\"24px\"viewBox=\"0 0 24 24\"\n",
              "     width=\"24px\">\n",
              "    <g>\n",
              "        <path d=\"M19 3H5c-1.1 0-2 .9-2 2v14c0 1.1.9 2 2 2h14c1.1 0 2-.9 2-2V5c0-1.1-.9-2-2-2zM9 17H7v-7h2v7zm4 0h-2V7h2v10zm4 0h-2v-4h2v4z\"/>\n",
              "    </g>\n",
              "</svg>\n",
              "  </button>\n",
              "\n",
              "<style>\n",
              "  .colab-df-quickchart {\n",
              "      --bg-color: #E8F0FE;\n",
              "      --fill-color: #1967D2;\n",
              "      --hover-bg-color: #E2EBFA;\n",
              "      --hover-fill-color: #174EA6;\n",
              "      --disabled-fill-color: #AAA;\n",
              "      --disabled-bg-color: #DDD;\n",
              "  }\n",
              "\n",
              "  [theme=dark] .colab-df-quickchart {\n",
              "      --bg-color: #3B4455;\n",
              "      --fill-color: #D2E3FC;\n",
              "      --hover-bg-color: #434B5C;\n",
              "      --hover-fill-color: #FFFFFF;\n",
              "      --disabled-bg-color: #3B4455;\n",
              "      --disabled-fill-color: #666;\n",
              "  }\n",
              "\n",
              "  .colab-df-quickchart {\n",
              "    background-color: var(--bg-color);\n",
              "    border: none;\n",
              "    border-radius: 50%;\n",
              "    cursor: pointer;\n",
              "    display: none;\n",
              "    fill: var(--fill-color);\n",
              "    height: 32px;\n",
              "    padding: 0;\n",
              "    width: 32px;\n",
              "  }\n",
              "\n",
              "  .colab-df-quickchart:hover {\n",
              "    background-color: var(--hover-bg-color);\n",
              "    box-shadow: 0 1px 2px rgba(60, 64, 67, 0.3), 0 1px 3px 1px rgba(60, 64, 67, 0.15);\n",
              "    fill: var(--button-hover-fill-color);\n",
              "  }\n",
              "\n",
              "  .colab-df-quickchart-complete:disabled,\n",
              "  .colab-df-quickchart-complete:disabled:hover {\n",
              "    background-color: var(--disabled-bg-color);\n",
              "    fill: var(--disabled-fill-color);\n",
              "    box-shadow: none;\n",
              "  }\n",
              "\n",
              "  .colab-df-spinner {\n",
              "    border: 2px solid var(--fill-color);\n",
              "    border-color: transparent;\n",
              "    border-bottom-color: var(--fill-color);\n",
              "    animation:\n",
              "      spin 1s steps(1) infinite;\n",
              "  }\n",
              "\n",
              "  @keyframes spin {\n",
              "    0% {\n",
              "      border-color: transparent;\n",
              "      border-bottom-color: var(--fill-color);\n",
              "      border-left-color: var(--fill-color);\n",
              "    }\n",
              "    20% {\n",
              "      border-color: transparent;\n",
              "      border-left-color: var(--fill-color);\n",
              "      border-top-color: var(--fill-color);\n",
              "    }\n",
              "    30% {\n",
              "      border-color: transparent;\n",
              "      border-left-color: var(--fill-color);\n",
              "      border-top-color: var(--fill-color);\n",
              "      border-right-color: var(--fill-color);\n",
              "    }\n",
              "    40% {\n",
              "      border-color: transparent;\n",
              "      border-right-color: var(--fill-color);\n",
              "      border-top-color: var(--fill-color);\n",
              "    }\n",
              "    60% {\n",
              "      border-color: transparent;\n",
              "      border-right-color: var(--fill-color);\n",
              "    }\n",
              "    80% {\n",
              "      border-color: transparent;\n",
              "      border-right-color: var(--fill-color);\n",
              "      border-bottom-color: var(--fill-color);\n",
              "    }\n",
              "    90% {\n",
              "      border-color: transparent;\n",
              "      border-bottom-color: var(--fill-color);\n",
              "    }\n",
              "  }\n",
              "</style>\n",
              "\n",
              "  <script>\n",
              "    async function quickchart(key) {\n",
              "      const quickchartButtonEl =\n",
              "        document.querySelector('#' + key + ' button');\n",
              "      quickchartButtonEl.disabled = true;  // To prevent multiple clicks.\n",
              "      quickchartButtonEl.classList.add('colab-df-spinner');\n",
              "      try {\n",
              "        const charts = await google.colab.kernel.invokeFunction(\n",
              "            'suggestCharts', [key], {});\n",
              "      } catch (error) {\n",
              "        console.error('Error during call to suggestCharts:', error);\n",
              "      }\n",
              "      quickchartButtonEl.classList.remove('colab-df-spinner');\n",
              "      quickchartButtonEl.classList.add('colab-df-quickchart-complete');\n",
              "    }\n",
              "    (() => {\n",
              "      let quickchartButtonEl =\n",
              "        document.querySelector('#df-7ad53d75-583d-40c4-ac85-0f5d2739581d button');\n",
              "      quickchartButtonEl.style.display =\n",
              "        google.colab.kernel.accessAllowed ? 'block' : 'none';\n",
              "    })();\n",
              "  </script>\n",
              "</div>\n",
              "    </div>\n",
              "  </div>\n"
            ]
          },
          "metadata": {},
          "execution_count": 137
        }
      ]
    },
    {
      "cell_type": "markdown",
      "source": [
        "# Modeling\n",
        "Dalam rangka segmentasi pelanggan menggunakan clustering, pilihlah katergori yang anda pertimbangkan mampu merepresentasikan cluster dari pelanggan dengan baik. Harapannya ada beberapa algoritma yang untuk digunakan, yaitu:"
      ],
      "metadata": {
        "id": "35btoJZ6DHr7"
      }
    },
    {
      "cell_type": "markdown",
      "source": [
        "\n",
        "## Algoritma K-Means\n",
        "Tahapan:\n",
        "* Dikarenakan K-Means sensitif terhadap jarak antara titik-titik data maka lakukan penskalaan data menggunakan StandardScaler sehingga hasil clustering menjadi lebih optimal.\n",
        "* Gunakan metode \"elbow\" untuk memutuskan jumlah cluster yang optimal.\n",
        "* Lakukan clustering dengan K-Means dengan tiga variasi jumlah cluster berbeda, saran variasi: k-1 optimal, k optimal, dan k+1 optimal\n",
        "* Visualisasikan hasil clustering berdasarkan fitur yang digunakan (gunakan 2 fitur terbaik yang dapat merepresentasikan clustering jika clustering dilakukan > 2 fitur). Pastikan setiap cluster ditampilkan dengan warna berbeda, dengan legend yang jelas.\n",
        "* Lakukan analisis mengenai variasi mana yang paling menggambarkan karakteristik data, dan jelaskan mengapa."
      ],
      "metadata": {
        "id": "5OoRjz9XEtHN"
      }
    },
    {
      "cell_type": "code",
      "source": [
        "#NORMALISASI PADA 3 ATRIBUT\n",
        "from sklearn.preprocessing import StandardScaler\n",
        "\n",
        "scaler = StandardScaler()\n",
        "df_feat_t = scaler.fit_transform(df_feat)\n",
        "df_feat_t[0:5]"
      ],
      "metadata": {
        "id": "vB0NcojRTPwP",
        "colab": {
          "base_uri": "https://localhost:8080/"
        },
        "outputId": "1425c817-6c6c-46a1-9250-a845773cea55"
      },
      "execution_count": 138,
      "outputs": [
        {
          "output_type": "execute_result",
          "data": {
            "text/plain": [
              "array([[-1.42456879, -1.73899919, -0.43480148],\n",
              "       [-1.28103541, -1.73899919,  1.19570407],\n",
              "       [-1.3528021 , -1.70082976, -1.71591298],\n",
              "       [-1.13750203, -1.70082976,  1.04041783],\n",
              "       [-0.56336851, -1.66266033, -0.39597992]])"
            ]
          },
          "metadata": {},
          "execution_count": 138
        }
      ]
    },
    {
      "cell_type": "code",
      "source": [
        "#NORMALISASI PADA SELURUH ATRIBUT\n",
        "from sklearn.preprocessing import StandardScaler\n",
        "\n",
        "scaler = StandardScaler()\n",
        "df_feat_t_4 = scaler.fit_transform(df_feat_4)\n",
        "df_feat_t_4[0:5]"
      ],
      "metadata": {
        "colab": {
          "base_uri": "https://localhost:8080/"
        },
        "id": "Ef1DkNXKSr0a",
        "outputId": "819e1779-c18c-4252-d60e-623749a269ce"
      },
      "execution_count": 139,
      "outputs": [
        {
          "output_type": "execute_result",
          "data": {
            "text/plain": [
              "array([[ 1.12815215, -1.42456879, -1.73899919, -0.43480148],\n",
              "       [ 1.12815215, -1.28103541, -1.73899919,  1.19570407],\n",
              "       [-0.88640526, -1.3528021 , -1.70082976, -1.71591298],\n",
              "       [-0.88640526, -1.13750203, -1.70082976,  1.04041783],\n",
              "       [-0.88640526, -0.56336851, -1.66266033, -0.39597992]])"
            ]
          },
          "metadata": {},
          "execution_count": 139
        }
      ]
    },
    {
      "cell_type": "code",
      "source": [
        "##ELBOW METHOD\n",
        "\n",
        "# Menggunakan metode \"elbow\" untuk menentukan jumlah cluster optimal\n",
        "wcss = []  # Within-Cluster-Sum-of-Squares\n",
        "for i in range(1, 11):  # Coba jumlah cluster dari 1 hingga 10\n",
        "    kmeans = KMeans(n_clusters=i, init='k-means++', random_state=42)\n",
        "    kmeans.fit(df_feat_t)\n",
        "    wcss.append(kmeans.inertia_)\n",
        "\n",
        "# Visualisasi metode \"elbow\"\n",
        "plt.figure(figsize=(8, 6))\n",
        "plt.plot(range(1, 11), wcss, marker='o', linestyle='--')\n",
        "plt.title('Metode \"Elbow\" untuk Menentukan Jumlah Cluster Optimal')\n",
        "plt.xlabel('Jumlah Cluster')\n",
        "plt.ylabel('WCSS')\n",
        "plt.show()"
      ],
      "metadata": {
        "colab": {
          "base_uri": "https://localhost:8080/",
          "height": 1000
        },
        "id": "Cr8LRER8GNp0",
        "outputId": "7d9069e8-be38-45d4-8c91-c2e311498809"
      },
      "execution_count": 140,
      "outputs": [
        {
          "output_type": "stream",
          "name": "stderr",
          "text": [
            "/usr/local/lib/python3.10/dist-packages/sklearn/cluster/_kmeans.py:870: FutureWarning:\n",
            "\n",
            "The default value of `n_init` will change from 10 to 'auto' in 1.4. Set the value of `n_init` explicitly to suppress the warning\n",
            "\n",
            "/usr/local/lib/python3.10/dist-packages/sklearn/cluster/_kmeans.py:870: FutureWarning:\n",
            "\n",
            "The default value of `n_init` will change from 10 to 'auto' in 1.4. Set the value of `n_init` explicitly to suppress the warning\n",
            "\n",
            "/usr/local/lib/python3.10/dist-packages/sklearn/cluster/_kmeans.py:870: FutureWarning:\n",
            "\n",
            "The default value of `n_init` will change from 10 to 'auto' in 1.4. Set the value of `n_init` explicitly to suppress the warning\n",
            "\n",
            "/usr/local/lib/python3.10/dist-packages/sklearn/cluster/_kmeans.py:870: FutureWarning:\n",
            "\n",
            "The default value of `n_init` will change from 10 to 'auto' in 1.4. Set the value of `n_init` explicitly to suppress the warning\n",
            "\n",
            "/usr/local/lib/python3.10/dist-packages/sklearn/cluster/_kmeans.py:870: FutureWarning:\n",
            "\n",
            "The default value of `n_init` will change from 10 to 'auto' in 1.4. Set the value of `n_init` explicitly to suppress the warning\n",
            "\n",
            "/usr/local/lib/python3.10/dist-packages/sklearn/cluster/_kmeans.py:870: FutureWarning:\n",
            "\n",
            "The default value of `n_init` will change from 10 to 'auto' in 1.4. Set the value of `n_init` explicitly to suppress the warning\n",
            "\n",
            "/usr/local/lib/python3.10/dist-packages/sklearn/cluster/_kmeans.py:870: FutureWarning:\n",
            "\n",
            "The default value of `n_init` will change from 10 to 'auto' in 1.4. Set the value of `n_init` explicitly to suppress the warning\n",
            "\n",
            "/usr/local/lib/python3.10/dist-packages/sklearn/cluster/_kmeans.py:870: FutureWarning:\n",
            "\n",
            "The default value of `n_init` will change from 10 to 'auto' in 1.4. Set the value of `n_init` explicitly to suppress the warning\n",
            "\n",
            "/usr/local/lib/python3.10/dist-packages/sklearn/cluster/_kmeans.py:870: FutureWarning:\n",
            "\n",
            "The default value of `n_init` will change from 10 to 'auto' in 1.4. Set the value of `n_init` explicitly to suppress the warning\n",
            "\n",
            "/usr/local/lib/python3.10/dist-packages/sklearn/cluster/_kmeans.py:870: FutureWarning:\n",
            "\n",
            "The default value of `n_init` will change from 10 to 'auto' in 1.4. Set the value of `n_init` explicitly to suppress the warning\n",
            "\n"
          ]
        },
        {
          "output_type": "display_data",
          "data": {
            "text/plain": [
              "<Figure size 800x600 with 1 Axes>"
            ],
            "image/png": "[encoded data removed]"
          },
          "metadata": {}
        }
      ]
    },
    {
      "cell_type": "markdown",
      "source": [
        "dari gambar diatas cluster yang optimal adalah 4 yang paling optimal karna berbentuk siku.\n",
        "namun akan dilakukan percobaan untuk 2 klaster sampai 7"
      ],
      "metadata": {
        "id": "KT-1fR_lGkn7"
      }
    },
    {
      "cell_type": "markdown",
      "source": [
        "# MODELING DENGAN 3 FEATURE DENGAN PCA"
      ],
      "metadata": {
        "id": "zH2Yf6jgTYns"
      }
    },
    {
      "cell_type": "code",
      "source": [
        "clusterNum = 2\n",
        "k_means2 = KMeans(init = \"k-means++\", n_clusters = clusterNum, n_init = 12)\n",
        "k_means2.fit(df_feat_t)\n",
        "df_feat['kmeans_2'] = k_means2.labels_"
      ],
      "metadata": {
        "colab": {
          "base_uri": "https://localhost:8080/"
        },
        "id": "sbuu-xZLG0-F",
        "outputId": "51cefcc7-8306-4747-cd3b-c625afcd622a"
      },
      "execution_count": 141,
      "outputs": [
        {
          "output_type": "stream",
          "name": "stderr",
          "text": [
            "<ipython-input-141-d003ab234622>:4: SettingWithCopyWarning:\n",
            "\n",
            "\n",
            "A value is trying to be set on a copy of a slice from a DataFrame.\n",
            "Try using .loc[row_indexer,col_indexer] = value instead\n",
            "\n",
            "See the caveats in the documentation: https://pandas.pydata.org/pandas-docs/stable/user_guide/indexing.html#returning-a-view-versus-a-copy\n",
            "\n"
          ]
        }
      ]
    },
    {
      "cell_type": "code",
      "source": [
        "#SCORE SILHOUTE\n",
        "from sklearn.metrics import silhouette_score as ss\n",
        "ss(df_feat_t, df_feat['kmeans_2'])\n"
      ],
      "metadata": {
        "colab": {
          "base_uri": "https://localhost:8080/"
        },
        "id": "Hq3QMmboIlSQ",
        "outputId": "98840d5b-0ad9-4dd8-9c2e-832508c27dcf"
      },
      "execution_count": 142,
      "outputs": [
        {
          "output_type": "execute_result",
          "data": {
            "text/plain": [
              "0.33547192894004574"
            ]
          },
          "metadata": {},
          "execution_count": 142
        }
      ]
    },
    {
      "cell_type": "code",
      "source": [
        "clusterNum = 3\n",
        "k_means3 = KMeans(init = \"k-means++\", n_clusters = clusterNum, n_init = 12)\n",
        "k_means3.fit(df_feat_t)\n",
        "df_feat['kmeans_3'] = k_means3.labels_"
      ],
      "metadata": {
        "id": "lo-sdufRIAxC"
      },
      "execution_count": 143,
      "outputs": []
    },
    {
      "cell_type": "code",
      "source": [
        "#SCORE SILHOUTE\n",
        "from sklearn.metrics import silhouette_score as ss\n",
        "ss(df_feat_t, df_feat['kmeans_3'])"
      ],
      "metadata": {
        "colab": {
          "base_uri": "https://localhost:8080/"
        },
        "id": "wQH9K9UHIwnn",
        "outputId": "9439541a-09df-4a91-a71d-f7dbb27f71bb"
      },
      "execution_count": 144,
      "outputs": [
        {
          "output_type": "execute_result",
          "data": {
            "text/plain": [
              "0.357793388710272"
            ]
          },
          "metadata": {},
          "execution_count": 144
        }
      ]
    },
    {
      "cell_type": "code",
      "source": [
        "clusterNum = 4\n",
        "k_means4 = KMeans(init = \"k-means++\", n_clusters = clusterNum, n_init = 12)\n",
        "k_means4.fit(df_feat_t)\n",
        "df_feat['kmeans_4'] = k_means4.labels_"
      ],
      "metadata": {
        "id": "uVPr-stWID4n"
      },
      "execution_count": 145,
      "outputs": []
    },
    {
      "cell_type": "code",
      "source": [
        "#SCORE SILHOUTE\n",
        "from sklearn.metrics import silhouette_score as ss\n",
        "ss(df_feat_t, df_feat['kmeans_4'])"
      ],
      "metadata": {
        "colab": {
          "base_uri": "https://localhost:8080/"
        },
        "id": "TgeguLq9IzpQ",
        "outputId": "13346bc2-fc4c-4428-8e41-947e8ad75a94"
      },
      "execution_count": 146,
      "outputs": [
        {
          "output_type": "execute_result",
          "data": {
            "text/plain": [
              "0.4039582785148566"
            ]
          },
          "metadata": {},
          "execution_count": 146
        }
      ]
    },
    {
      "cell_type": "code",
      "source": [
        "clusterNum = 5\n",
        "k_means5 = KMeans(init = \"k-means++\", n_clusters = clusterNum, n_init = 12)\n",
        "k_means5.fit(df_feat_t)\n",
        "df_feat['kmeans_5'] = k_means5.labels_"
      ],
      "metadata": {
        "id": "lR0VpDN3O88I"
      },
      "execution_count": 147,
      "outputs": []
    },
    {
      "cell_type": "code",
      "source": [
        "#SCORE SILHOUTE\n",
        "from sklearn.metrics import silhouette_score as ss\n",
        "ss(df_feat_t, df_feat['kmeans_5'])"
      ],
      "metadata": {
        "colab": {
          "base_uri": "https://localhost:8080/"
        },
        "id": "AXl-40XmPA2N",
        "outputId": "2bf419cd-efa6-4824-b9a5-702d884749a1"
      },
      "execution_count": 148,
      "outputs": [
        {
          "output_type": "execute_result",
          "data": {
            "text/plain": [
              "0.41664341513732767"
            ]
          },
          "metadata": {},
          "execution_count": 148
        }
      ]
    },
    {
      "cell_type": "code",
      "source": [
        "clusterNum = 6\n",
        "k_means6 = KMeans(init = \"k-means++\", n_clusters = clusterNum, n_init = 12)\n",
        "k_means6.fit(df_feat_t)\n",
        "df_feat['kmeans_6'] = k_means6.labels_"
      ],
      "metadata": {
        "id": "upeS1R0APIkM"
      },
      "execution_count": 149,
      "outputs": []
    },
    {
      "cell_type": "code",
      "source": [
        "#SCORE SILHOUTE\n",
        "from sklearn.metrics import silhouette_score as ss\n",
        "ss(df_feat_t, df_feat['kmeans_6'])"
      ],
      "metadata": {
        "colab": {
          "base_uri": "https://localhost:8080/"
        },
        "id": "lvYph-mOPMCd",
        "outputId": "1742f645-4527-42a7-848c-dc31d905d29e"
      },
      "execution_count": 150,
      "outputs": [
        {
          "output_type": "execute_result",
          "data": {
            "text/plain": [
              "0.42742814991580175"
            ]
          },
          "metadata": {},
          "execution_count": 150
        }
      ]
    },
    {
      "cell_type": "code",
      "source": [
        "clusterNum = 7\n",
        "k_means7 = KMeans(init = \"k-means++\", n_clusters = clusterNum, n_init = 12)\n",
        "k_means7.fit(df_feat_t)\n",
        "df_feat['kmeans_7'] = k_means7.labels_"
      ],
      "metadata": {
        "id": "zW2SNux0YiGH"
      },
      "execution_count": 151,
      "outputs": []
    },
    {
      "cell_type": "code",
      "source": [
        "#SCORE SILHOUTE\n",
        "from sklearn.metrics import silhouette_score as ss\n",
        "ss(df_feat_t, df_feat['kmeans_7'])"
      ],
      "metadata": {
        "colab": {
          "base_uri": "https://localhost:8080/"
        },
        "id": "OR9xeHwkYnMJ",
        "outputId": "84baa656-82c6-48ae-8848-98a9b63919df"
      },
      "execution_count": 152,
      "outputs": [
        {
          "output_type": "execute_result",
          "data": {
            "text/plain": [
              "0.4151092070320817"
            ]
          },
          "metadata": {},
          "execution_count": 152
        }
      ]
    },
    {
      "cell_type": "code",
      "source": [
        "df_feat.head()"
      ],
      "metadata": {
        "colab": {
          "base_uri": "https://localhost:8080/",
          "height": 206
        },
        "id": "4Q67FygkUvkV",
        "outputId": "e0ba41cc-3cec-4546-e64a-5c09b52ed28e"
      },
      "execution_count": 153,
      "outputs": [
        {
          "output_type": "execute_result",
          "data": {
            "text/plain": [
              "   Age  Annual Income (k$)  Spending Score (1-100)  kmeans_2  kmeans_3  \\\n",
              "0   19                  15                      39         1         1   \n",
              "1   21                  15                      81         1         1   \n",
              "2   20                  16                       6         0         1   \n",
              "3   23                  16                      77         1         1   \n",
              "4   31                  17                      40         1         1   \n",
              "\n",
              "   kmeans_4  kmeans_5  kmeans_6  kmeans_7  \n",
              "0         3         3         3         5  \n",
              "1         3         3         3         5  \n",
              "2         3         2         0         4  \n",
              "3         3         3         3         5  \n",
              "4         3         3         0         4  "
            ],
            "text/html": [
              "\n",
              "  <div id=\"df-bfe7a611-956e-4020-83be-c4f24530fd94\" class=\"colab-df-container\">\n",
              "    <div>\n",
              "<style scoped>\n",
              "    .dataframe tbody tr th:only-of-type {\n",
              "        vertical-align: middle;\n",
              "    }\n",
              "\n",
              "    .dataframe tbody tr th {\n",
              "        vertical-align: top;\n",
              "    }\n",
              "\n",
              "    .dataframe thead th {\n",
              "        text-align: right;\n",
              "    }\n",
              "</style>\n",
              "<table border=\"1\" class=\"dataframe\">\n",
              "  <thead>\n",
              "    <tr style=\"text-align: right;\">\n",
              "      <th></th>\n",
              "      <th>Age</th>\n",
              "      <th>Annual Income (k$)</th>\n",
              "      <th>Spending Score (1-100)</th>\n",
              "      <th>kmeans_2</th>\n",
              "      <th>kmeans_3</th>\n",
              "      <th>kmeans_4</th>\n",
              "      <th>kmeans_5</th>\n",
              "      <th>kmeans_6</th>\n",
              "      <th>kmeans_7</th>\n",
              "    </tr>\n",
              "  </thead>\n",
              "  <tbody>\n",
              "    <tr>\n",
              "      <th>0</th>\n",
              "      <td>19</td>\n",
              "      <td>15</td>\n",
              "      <td>39</td>\n",
              "      <td>1</td>\n",
              "      <td>1</td>\n",
              "      <td>3</td>\n",
              "      <td>3</td>\n",
              "      <td>3</td>\n",
              "      <td>5</td>\n",
              "    </tr>\n",
              "    <tr>\n",
              "      <th>1</th>\n",
              "      <td>21</td>\n",
              "      <td>15</td>\n",
              "      <td>81</td>\n",
              "      <td>1</td>\n",
              "      <td>1</td>\n",
              "      <td>3</td>\n",
              "      <td>3</td>\n",
              "      <td>3</td>\n",
              "      <td>5</td>\n",
              "    </tr>\n",
              "    <tr>\n",
              "      <th>2</th>\n",
              "      <td>20</td>\n",
              "      <td>16</td>\n",
              "      <td>6</td>\n",
              "      <td>0</td>\n",
              "      <td>1</td>\n",
              "      <td>3</td>\n",
              "      <td>2</td>\n",
              "      <td>0</td>\n",
              "      <td>4</td>\n",
              "    </tr>\n",
              "    <tr>\n",
              "      <th>3</th>\n",
              "      <td>23</td>\n",
              "      <td>16</td>\n",
              "      <td>77</td>\n",
              "      <td>1</td>\n",
              "      <td>1</td>\n",
              "      <td>3</td>\n",
              "      <td>3</td>\n",
              "      <td>3</td>\n",
              "      <td>5</td>\n",
              "    </tr>\n",
              "    <tr>\n",
              "      <th>4</th>\n",
              "      <td>31</td>\n",
              "      <td>17</td>\n",
              "      <td>40</td>\n",
              "      <td>1</td>\n",
              "      <td>1</td>\n",
              "      <td>3</td>\n",
              "      <td>3</td>\n",
              "      <td>0</td>\n",
              "      <td>4</td>\n",
              "    </tr>\n",
              "  </tbody>\n",
              "</table>\n",
              "</div>\n",
              "    <div class=\"colab-df-buttons\">\n",
              "\n",
              "  <div class=\"colab-df-container\">\n",
              "    <button class=\"colab-df-convert\" onclick=\"convertToInteractive('df-bfe7a611-956e-4020-83be-c4f24530fd94')\"\n",
              "            title=\"Convert this dataframe to an interactive table.\"\n",
              "            style=\"display:none;\">\n",
              "\n",
              "  <svg xmlns=\"http://www.w3.org/2000/svg\" height=\"24px\" viewBox=\"0 -960 960 960\">\n",
              "    <path d=\"M120-120v-720h720v720H120Zm60-500h600v-160H180v160Zm220 220h160v-160H400v160Zm0 220h160v-160H400v160ZM180-400h160v-160H180v160Zm440 0h160v-160H620v160ZM180-180h160v-160H180v160Zm440 0h160v-160H620v160Z\"/>\n",
              "  </svg>\n",
              "    </button>\n",
              "\n",
              "  <style>\n",
              "    .colab-df-container {\n",
              "      display:flex;\n",
              "      gap: 12px;\n",
              "    }\n",
              "\n",
              "    .colab-df-convert {\n",
              "      background-color: #E8F0FE;\n",
              "      border: none;\n",
              "      border-radius: 50%;\n",
              "      cursor: pointer;\n",
              "      display: none;\n",
              "      fill: #1967D2;\n",
              "      height: 32px;\n",
              "      padding: 0 0 0 0;\n",
              "      width: 32px;\n",
              "    }\n",
              "\n",
              "    .colab-df-convert:hover {\n",
              "      background-color: #E2EBFA;\n",
              "      box-shadow: 0px 1px 2px rgba(60, 64, 67, 0.3), 0px 1px 3px 1px rgba(60, 64, 67, 0.15);\n",
              "      fill: #174EA6;\n",
              "    }\n",
              "\n",
              "    .colab-df-buttons div {\n",
              "      margin-bottom: 4px;\n",
              "    }\n",
              "\n",
              "    [theme=dark] .colab-df-convert {\n",
              "      background-color: #3B4455;\n",
              "      fill: #D2E3FC;\n",
              "    }\n",
              "\n",
              "    [theme=dark] .colab-df-convert:hover {\n",
              "      background-color: #434B5C;\n",
              "      box-shadow: 0px 1px 3px 1px rgba(0, 0, 0, 0.15);\n",
              "      filter: drop-shadow(0px 1px 2px rgba(0, 0, 0, 0.3));\n",
              "      fill: #FFFFFF;\n",
              "    }\n",
              "  </style>\n",
              "\n",
              "    <script>\n",
              "      const buttonEl =\n",
              "        document.querySelector('#df-bfe7a611-956e-4020-83be-c4f24530fd94 button.colab-df-convert');\n",
              "      buttonEl.style.display =\n",
              "        google.colab.kernel.accessAllowed ? 'block' : 'none';\n",
              "\n",
              "      async function convertToInteractive(key) {\n",
              "        const element = document.querySelector('#df-bfe7a611-956e-4020-83be-c4f24530fd94');\n",
              "        const dataTable =\n",
              "          await google.colab.kernel.invokeFunction('convertToInteractive',\n",
              "                                                    [key], {});\n",
              "        if (!dataTable) return;\n",
              "\n",
              "        const docLinkHtml = 'Like what you see? Visit the ' +\n",
              "          '<a target=\"_blank\" href=https://colab.research.google.com/notebooks/data_table.ipynb>data table notebook</a>'\n",
              "          + ' to learn more about interactive tables.';\n",
              "        element.innerHTML = '';\n",
              "        dataTable['output_type'] = 'display_data';\n",
              "        await google.colab.output.renderOutput(dataTable, element);\n",
              "        const docLink = document.createElement('div');\n",
              "        docLink.innerHTML = docLinkHtml;\n",
              "        element.appendChild(docLink);\n",
              "      }\n",
              "    </script>\n",
              "  </div>\n",
              "\n",
              "\n",
              "<div id=\"df-edaae1ea-4626-48ba-915a-97fd3ed0684f\">\n",
              "  <button class=\"colab-df-quickchart\" onclick=\"quickchart('df-edaae1ea-4626-48ba-915a-97fd3ed0684f')\"\n",
              "            title=\"Suggest charts.\"\n",
              "            style=\"display:none;\">\n",
              "\n",
              "<svg xmlns=\"http://www.w3.org/2000/svg\" height=\"24px\"viewBox=\"0 0 24 24\"\n",
              "     width=\"24px\">\n",
              "    <g>\n",
              "        <path d=\"M19 3H5c-1.1 0-2 .9-2 2v14c0 1.1.9 2 2 2h14c1.1 0 2-.9 2-2V5c0-1.1-.9-2-2-2zM9 17H7v-7h2v7zm4 0h-2V7h2v10zm4 0h-2v-4h2v4z\"/>\n",
              "    </g>\n",
              "</svg>\n",
              "  </button>\n",
              "\n",
              "<style>\n",
              "  .colab-df-quickchart {\n",
              "      --bg-color: #E8F0FE;\n",
              "      --fill-color: #1967D2;\n",
              "      --hover-bg-color: #E2EBFA;\n",
              "      --hover-fill-color: #174EA6;\n",
              "      --disabled-fill-color: #AAA;\n",
              "      --disabled-bg-color: #DDD;\n",
              "  }\n",
              "\n",
              "  [theme=dark] .colab-df-quickchart {\n",
              "      --bg-color: #3B4455;\n",
              "      --fill-color: #D2E3FC;\n",
              "      --hover-bg-color: #434B5C;\n",
              "      --hover-fill-color: #FFFFFF;\n",
              "      --disabled-bg-color: #3B4455;\n",
              "      --disabled-fill-color: #666;\n",
              "  }\n",
              "\n",
              "  .colab-df-quickchart {\n",
              "    background-color: var(--bg-color);\n",
              "    border: none;\n",
              "    border-radius: 50%;\n",
              "    cursor: pointer;\n",
              "    display: none;\n",
              "    fill: var(--fill-color);\n",
              "    height: 32px;\n",
              "    padding: 0;\n",
              "    width: 32px;\n",
              "  }\n",
              "\n",
              "  .colab-df-quickchart:hover {\n",
              "    background-color: var(--hover-bg-color);\n",
              "    box-shadow: 0 1px 2px rgba(60, 64, 67, 0.3), 0 1px 3px 1px rgba(60, 64, 67, 0.15);\n",
              "    fill: var(--button-hover-fill-color);\n",
              "  }\n",
              "\n",
              "  .colab-df-quickchart-complete:disabled,\n",
              "  .colab-df-quickchart-complete:disabled:hover {\n",
              "    background-color: var(--disabled-bg-color);\n",
              "    fill: var(--disabled-fill-color);\n",
              "    box-shadow: none;\n",
              "  }\n",
              "\n",
              "  .colab-df-spinner {\n",
              "    border: 2px solid var(--fill-color);\n",
              "    border-color: transparent;\n",
              "    border-bottom-color: var(--fill-color);\n",
              "    animation:\n",
              "      spin 1s steps(1) infinite;\n",
              "  }\n",
              "\n",
              "  @keyframes spin {\n",
              "    0% {\n",
              "      border-color: transparent;\n",
              "      border-bottom-color: var(--fill-color);\n",
              "      border-left-color: var(--fill-color);\n",
              "    }\n",
              "    20% {\n",
              "      border-color: transparent;\n",
              "      border-left-color: var(--fill-color);\n",
              "      border-top-color: var(--fill-color);\n",
              "    }\n",
              "    30% {\n",
              "      border-color: transparent;\n",
              "      border-left-color: var(--fill-color);\n",
              "      border-top-color: var(--fill-color);\n",
              "      border-right-color: var(--fill-color);\n",
              "    }\n",
              "    40% {\n",
              "      border-color: transparent;\n",
              "      border-right-color: var(--fill-color);\n",
              "      border-top-color: var(--fill-color);\n",
              "    }\n",
              "    60% {\n",
              "      border-color: transparent;\n",
              "      border-right-color: var(--fill-color);\n",
              "    }\n",
              "    80% {\n",
              "      border-color: transparent;\n",
              "      border-right-color: var(--fill-color);\n",
              "      border-bottom-color: var(--fill-color);\n",
              "    }\n",
              "    90% {\n",
              "      border-color: transparent;\n",
              "      border-bottom-color: var(--fill-color);\n",
              "    }\n",
              "  }\n",
              "</style>\n",
              "\n",
              "  <script>\n",
              "    async function quickchart(key) {\n",
              "      const quickchartButtonEl =\n",
              "        document.querySelector('#' + key + ' button');\n",
              "      quickchartButtonEl.disabled = true;  // To prevent multiple clicks.\n",
              "      quickchartButtonEl.classList.add('colab-df-spinner');\n",
              "      try {\n",
              "        const charts = await google.colab.kernel.invokeFunction(\n",
              "            'suggestCharts', [key], {});\n",
              "      } catch (error) {\n",
              "        console.error('Error during call to suggestCharts:', error);\n",
              "      }\n",
              "      quickchartButtonEl.classList.remove('colab-df-spinner');\n",
              "      quickchartButtonEl.classList.add('colab-df-quickchart-complete');\n",
              "    }\n",
              "    (() => {\n",
              "      let quickchartButtonEl =\n",
              "        document.querySelector('#df-edaae1ea-4626-48ba-915a-97fd3ed0684f button');\n",
              "      quickchartButtonEl.style.display =\n",
              "        google.colab.kernel.accessAllowed ? 'block' : 'none';\n",
              "    })();\n",
              "  </script>\n",
              "</div>\n",
              "    </div>\n",
              "  </div>\n"
            ]
          },
          "metadata": {},
          "execution_count": 153
        }
      ]
    },
    {
      "cell_type": "code",
      "source": [
        "import plotly.express as px\n",
        "\n",
        "fig = px.scatter(x=df_feat['Annual Income (k$)'], y=df_feat['Spending Score (1-100)'], color=df_feat['kmeans_6'])\n",
        "fig.show()"
      ],
      "metadata": {
        "colab": {
          "base_uri": "https://localhost:8080/",
          "height": 542
        },
        "id": "eDFyAlUlJAhK",
        "outputId": "57046cdf-4f51-4450-93f7-90eada7159e2"
      },
      "execution_count": 154,
      "outputs": [
        {
          "output_type": "display_data",
          "data": {
            "text/html": [
              "<html>\n",
              "<head><meta charset=\"utf-8\" /></head>\n",
              "<body>\n",
              "    <div>            <script src=\"https://cdnjs.cloudflare.com/ajax/libs/mathjax/2.7.5/MathJax.js?config=TeX-AMS-MML_SVG\"></script><script type=\"text/javascript\">if (window.MathJax && window.MathJax.Hub && window.MathJax.Hub.Config) {window.MathJax.Hub.Config({SVG: {font: \"STIX-Web\"}});}</script>                <script type=\"text/javascript\">window.PlotlyConfig = {MathJaxConfig: 'local'};</script>\n",
              "        <script charset=\"utf-8\" src=\"https://cdn.plot.ly/plotly-2.24.1.min.js\"></script>                <div id=\"c2d14ed3-ce72-4a1d-a5df-a7537e883a13\" class=\"plotly-graph-div\" style=\"height:525px; width:100%;\"></div>            <script type=\"text/javascript\">                                    window.PLOTLYENV=window.PLOTLYENV || {};                                    if (document.getElementById(\"c2d14ed3-ce72-4a1d-a5df-a7537e883a13\")) {                    Plotly.newPlot(                        \"c2d14ed3-ce72-4a1d-a5df-a7537e883a13\",                        [{\"hovertemplate\":\"x=%{x}\\u003cbr\\u003ey=%{y}\\u003cbr\\u003ecolor=%{marker.color}\\u003cextra\\u003e\\u003c\\u002fextra\\u003e\",\"legendgroup\":\"\",\"marker\":{\"color\":[3,3,0,3,0,3,0,3,0,3,0,3,0,3,0,3,0,3,0,3,0,3,0,3,0,3,0,3,0,3,0,3,0,3,0,3,0,3,0,3,1,3,0,3,0,3,1,4,4,4,1,4,4,1,1,1,1,1,4,1,1,4,1,1,1,4,1,1,4,4,1,1,1,1,1,4,1,4,4,1,1,4,1,1,4,1,1,4,4,1,1,4,1,4,4,4,1,4,1,4,4,1,1,4,1,4,1,1,1,1,1,4,4,4,4,4,1,1,1,1,4,4,4,2,4,2,5,2,5,2,5,2,4,2,5,2,5,2,4,2,5,2,4,2,5,2,5,2,5,2,5,2,5,2,5,2,5,2,5,2,1,2,5,2,5,2,5,2,5,2,5,2,5,2,5,2,5,2,5,2,5,2,5,2,5,2,5,2,5,2,5,2,5,2,5,2,5,2,5,2],\"coloraxis\":\"coloraxis\",\"symbol\":\"circle\"},\"mode\":\"markers\",\"name\":\"\",\"orientation\":\"v\",\"showlegend\":false,\"x\":[15,15,16,16,17,17,18,18,19,19,19,19,20,20,20,20,21,21,23,23,24,24,25,25,28,28,28,28,29,29,30,30,33,33,33,33,34,34,37,37,38,38,39,39,39,39,40,40,40,40,42,42,43,43,43,43,44,44,46,46,46,46,47,47,48,48,48,48,48,48,49,49,50,50,54,54,54,54,54,54,54,54,54,54,54,54,57,57,58,58,59,59,60,60,60,60,60,60,61,61,62,62,62,62,62,62,63,63,63,63,63,63,64,64,65,65,65,65,67,67,67,67,69,69,70,70,71,71,71,71,71,71,72,72,73,73,73,73,74,74,75,75,76,76,77,77,77,77,78,78,78,78,78,78,78,78,78,78,78,78,79,79,81,81,85,85,86,86,87,87,87,87,87,87,88,88,88,88,93,93,97,97,98,98,99,99,101,101,103,103,103,103,113,113,120,120,126,126,137,137],\"xaxis\":\"x\",\"y\":[39,81,6,77,40,76,6,94,3,72,14,99,15,77,13,79,35,66,29,98,35,73,5,73,14,82,32,61,31,87,4,73,4,92,14,81,17,73,26,75,35,92,36,61,28,65,55,47,42,42,52,60,54,60,45,41,50,46,51,46,56,55,52,59,51,59,50,48,59,47,55,42,49,56,47,54,53,48,52,42,51,55,41,44,57,46,58,55,60,46,55,41,49,40,42,52,47,50,42,49,41,48,59,55,56,42,50,46,43,48,52,54,42,46,48,50,43,59,43,57,56,40,58,91,29,77,35,95,11,75,9,75,34,71,5,88,7,73,10,72,5,93,40,87,12,97,36,74,22,90,17,88,20,76,16,89,1,78,1,73,35,83,5,93,26,75,20,95,27,63,13,75,10,92,13,86,15,69,14,90,32,86,15,88,39,97,24,68,17,85,23,69,8,91,16,79,28,74,18,83],\"yaxis\":\"y\",\"type\":\"scatter\"}],                        {\"template\":{\"data\":{\"histogram2dcontour\":[{\"type\":\"histogram2dcontour\",\"colorbar\":{\"outlinewidth\":0,\"ticks\":\"\"},\"colorscale\":[[0.0,\"#0d0887\"],[0.1111111111111111,\"#46039f\"],[0.2222222222222222,\"#7201a8\"],[0.3333333333333333,\"#9c179e\"],[0.4444444444444444,\"#bd3786\"],[0.5555555555555556,\"#d8576b\"],[0.6666666666666666,\"#ed7953\"],[0.7777777777777778,\"#fb9f3a\"],[0.8888888888888888,\"#fdca26\"],[1.0,\"#f0f921\"]]}],\"choropleth\":[{\"type\":\"choropleth\",\"colorbar\":{\"outlinewidth\":0,\"ticks\":\"\"}}],\"histogram2d\":[{\"type\":\"histogram2d\",\"colorbar\":{\"outlinewidth\":0,\"ticks\":\"\"},\"colorscale\":[[0.0,\"#0d0887\"],[0.1111111111111111,\"#46039f\"],[0.2222222222222222,\"#7201a8\"],[0.3333333333333333,\"#9c179e\"],[0.4444444444444444,\"#bd3786\"],[0.5555555555555556,\"#d8576b\"],[0.6666666666666666,\"#ed7953\"],[0.7777777777777778,\"#fb9f3a\"],[0.8888888888888888,\"#fdca26\"],[1.0,\"#f0f921\"]]}],\"heatmap\":[{\"type\":\"heatmap\",\"colorbar\":{\"outlinewidth\":0,\"ticks\":\"\"},\"colorscale\":[[0.0,\"#0d0887\"],[0.1111111111111111,\"#46039f\"],[0.2222222222222222,\"#7201a8\"],[0.3333333333333333,\"#9c179e\"],[0.4444444444444444,\"#bd3786\"],[0.5555555555555556,\"#d8576b\"],[0.6666666666666666,\"#ed7953\"],[0.7777777777777778,\"#fb9f3a\"],[0.8888888888888888,\"#fdca26\"],[1.0,\"#f0f921\"]]}],\"heatmapgl\":[{\"type\":\"heatmapgl\",\"colorbar\":{\"outlinewidth\":0,\"ticks\":\"\"},\"colorscale\":[[0.0,\"#0d0887\"],[0.1111111111111111,\"#46039f\"],[0.2222222222222222,\"#7201a8\"],[0.3333333333333333,\"#9c179e\"],[0.4444444444444444,\"#bd3786\"],[0.5555555555555556,\"#d8576b\"],[0.6666666666666666,\"#ed7953\"],[0.7777777777777778,\"#fb9f3a\"],[0.8888888888888888,\"#fdca26\"],[1.0,\"#f0f921\"]]}],\"contourcarpet\":[{\"type\":\"contourcarpet\",\"colorbar\":{\"outlinewidth\":0,\"ticks\":\"\"}}],\"contour\":[{\"type\":\"contour\",\"colorbar\":{\"outlinewidth\":0,\"ticks\":\"\"},\"colorscale\":[[0.0,\"#0d0887\"],[0.1111111111111111,\"#46039f\"],[0.2222222222222222,\"#7201a8\"],[0.3333333333333333,\"#9c179e\"],[0.4444444444444444,\"#bd3786\"],[0.5555555555555556,\"#d8576b\"],[0.6666666666666666,\"#ed7953\"],[0.7777777777777778,\"#fb9f3a\"],[0.8888888888888888,\"#fdca26\"],[1.0,\"#f0f921\"]]}],\"surface\":[{\"type\":\"surface\",\"colorbar\":{\"outlinewidth\":0,\"ticks\":\"\"},\"colorscale\":[[0.0,\"#0d0887\"],[0.1111111111111111,\"#46039f\"],[0.2222222222222222,\"#7201a8\"],[0.3333333333333333,\"#9c179e\"],[0.4444444444444444,\"#bd3786\"],[0.5555555555555556,\"#d8576b\"],[0.6666666666666666,\"#ed7953\"],[0.7777777777777778,\"#fb9f3a\"],[0.8888888888888888,\"#fdca26\"],[1.0,\"#f0f921\"]]}],\"mesh3d\":[{\"type\":\"mesh3d\",\"colorbar\":{\"outlinewidth\":0,\"ticks\":\"\"}}],\"scatter\":[{\"fillpattern\":{\"fillmode\":\"overlay\",\"size\":10,\"solidity\":0.2},\"type\":\"scatter\"}],\"parcoords\":[{\"type\":\"parcoords\",\"line\":{\"colorbar\":{\"outlinewidth\":0,\"ticks\":\"\"}}}],\"scatterpolargl\":[{\"type\":\"scatterpolargl\",\"marker\":{\"colorbar\":{\"outlinewidth\":0,\"ticks\":\"\"}}}],\"bar\":[{\"error_x\":{\"color\":\"#2a3f5f\"},\"error_y\":{\"color\":\"#2a3f5f\"},\"marker\":{\"line\":{\"color\":\"#E5ECF6\",\"width\":0.5},\"pattern\":{\"fillmode\":\"overlay\",\"size\":10,\"solidity\":0.2}},\"type\":\"bar\"}],\"scattergeo\":[{\"type\":\"scattergeo\",\"marker\":{\"colorbar\":{\"outlinewidth\":0,\"ticks\":\"\"}}}],\"scatterpolar\":[{\"type\":\"scatterpolar\",\"marker\":{\"colorbar\":{\"outlinewidth\":0,\"ticks\":\"\"}}}],\"histogram\":[{\"marker\":{\"pattern\":{\"fillmode\":\"overlay\",\"size\":10,\"solidity\":0.2}},\"type\":\"histogram\"}],\"scattergl\":[{\"type\":\"scattergl\",\"marker\":{\"colorbar\":{\"outlinewidth\":0,\"ticks\":\"\"}}}],\"scatter3d\":[{\"type\":\"scatter3d\",\"line\":{\"colorbar\":{\"outlinewidth\":0,\"ticks\":\"\"}},\"marker\":{\"colorbar\":{\"outlinewidth\":0,\"ticks\":\"\"}}}],\"scattermapbox\":[{\"type\":\"scattermapbox\",\"marker\":{\"colorbar\":{\"outlinewidth\":0,\"ticks\":\"\"}}}],\"scatterternary\":[{\"type\":\"scatterternary\",\"marker\":{\"colorbar\":{\"outlinewidth\":0,\"ticks\":\"\"}}}],\"scattercarpet\":[{\"type\":\"scattercarpet\",\"marker\":{\"colorbar\":{\"outlinewidth\":0,\"ticks\":\"\"}}}],\"carpet\":[{\"aaxis\":{\"endlinecolor\":\"#2a3f5f\",\"gridcolor\":\"white\",\"linecolor\":\"white\",\"minorgridcolor\":\"white\",\"startlinecolor\":\"#2a3f5f\"},\"baxis\":{\"endlinecolor\":\"#2a3f5f\",\"gridcolor\":\"white\",\"linecolor\":\"white\",\"minorgridcolor\":\"white\",\"startlinecolor\":\"#2a3f5f\"},\"type\":\"carpet\"}],\"table\":[{\"cells\":{\"fill\":{\"color\":\"#EBF0F8\"},\"line\":{\"color\":\"white\"}},\"header\":{\"fill\":{\"color\":\"#C8D4E3\"},\"line\":{\"color\":\"white\"}},\"type\":\"table\"}],\"barpolar\":[{\"marker\":{\"line\":{\"color\":\"#E5ECF6\",\"width\":0.5},\"pattern\":{\"fillmode\":\"overlay\",\"size\":10,\"solidity\":0.2}},\"type\":\"barpolar\"}],\"pie\":[{\"automargin\":true,\"type\":\"pie\"}]},\"layout\":{\"autotypenumbers\":\"strict\",\"colorway\":[\"#636efa\",\"#EF553B\",\"#00cc96\",\"#ab63fa\",\"#FFA15A\",\"#19d3f3\",\"#FF6692\",\"#B6E880\",\"#FF97FF\",\"#FECB52\"],\"font\":{\"color\":\"#2a3f5f\"},\"hovermode\":\"closest\",\"hoverlabel\":{\"align\":\"left\"},\"paper_bgcolor\":\"white\",\"plot_bgcolor\":\"#E5ECF6\",\"polar\":{\"bgcolor\":\"#E5ECF6\",\"angularaxis\":{\"gridcolor\":\"white\",\"linecolor\":\"white\",\"ticks\":\"\"},\"radialaxis\":{\"gridcolor\":\"white\",\"linecolor\":\"white\",\"ticks\":\"\"}},\"ternary\":{\"bgcolor\":\"#E5ECF6\",\"aaxis\":{\"gridcolor\":\"white\",\"linecolor\":\"white\",\"ticks\":\"\"},\"baxis\":{\"gridcolor\":\"white\",\"linecolor\":\"white\",\"ticks\":\"\"},\"caxis\":{\"gridcolor\":\"white\",\"linecolor\":\"white\",\"ticks\":\"\"}},\"coloraxis\":{\"colorbar\":{\"outlinewidth\":0,\"ticks\":\"\"}},\"colorscale\":{\"sequential\":[[0.0,\"#0d0887\"],[0.1111111111111111,\"#46039f\"],[0.2222222222222222,\"#7201a8\"],[0.3333333333333333,\"#9c179e\"],[0.4444444444444444,\"#bd3786\"],[0.5555555555555556,\"#d8576b\"],[0.6666666666666666,\"#ed7953\"],[0.7777777777777778,\"#fb9f3a\"],[0.8888888888888888,\"#fdca26\"],[1.0,\"#f0f921\"]],\"sequentialminus\":[[0.0,\"#0d0887\"],[0.1111111111111111,\"#46039f\"],[0.2222222222222222,\"#7201a8\"],[0.3333333333333333,\"#9c179e\"],[0.4444444444444444,\"#bd3786\"],[0.5555555555555556,\"#d8576b\"],[0.6666666666666666,\"#ed7953\"],[0.7777777777777778,\"#fb9f3a\"],[0.8888888888888888,\"#fdca26\"],[1.0,\"#f0f921\"]],\"diverging\":[[0,\"#8e0152\"],[0.1,\"#c51b7d\"],[0.2,\"#de77ae\"],[0.3,\"#f1b6da\"],[0.4,\"#fde0ef\"],[0.5,\"#f7f7f7\"],[0.6,\"#e6f5d0\"],[0.7,\"#b8e186\"],[0.8,\"#7fbc41\"],[0.9,\"#4d9221\"],[1,\"#276419\"]]},\"xaxis\":{\"gridcolor\":\"white\",\"linecolor\":\"white\",\"ticks\":\"\",\"title\":{\"standoff\":15},\"zerolinecolor\":\"white\",\"automargin\":true,\"zerolinewidth\":2},\"yaxis\":{\"gridcolor\":\"white\",\"linecolor\":\"white\",\"ticks\":\"\",\"title\":{\"standoff\":15},\"zerolinecolor\":\"white\",\"automargin\":true,\"zerolinewidth\":2},\"scene\":{\"xaxis\":{\"backgroundcolor\":\"#E5ECF6\",\"gridcolor\":\"white\",\"linecolor\":\"white\",\"showbackground\":true,\"ticks\":\"\",\"zerolinecolor\":\"white\",\"gridwidth\":2},\"yaxis\":{\"backgroundcolor\":\"#E5ECF6\",\"gridcolor\":\"white\",\"linecolor\":\"white\",\"showbackground\":true,\"ticks\":\"\",\"zerolinecolor\":\"white\",\"gridwidth\":2},\"zaxis\":{\"backgroundcolor\":\"#E5ECF6\",\"gridcolor\":\"white\",\"linecolor\":\"white\",\"showbackground\":true,\"ticks\":\"\",\"zerolinecolor\":\"white\",\"gridwidth\":2}},\"shapedefaults\":{\"line\":{\"color\":\"#2a3f5f\"}},\"annotationdefaults\":{\"arrowcolor\":\"#2a3f5f\",\"arrowhead\":0,\"arrowwidth\":1},\"geo\":{\"bgcolor\":\"white\",\"landcolor\":\"#E5ECF6\",\"subunitcolor\":\"white\",\"showland\":true,\"showlakes\":true,\"lakecolor\":\"white\"},\"title\":{\"x\":0.05},\"mapbox\":{\"style\":\"light\"}}},\"xaxis\":{\"anchor\":\"y\",\"domain\":[0.0,1.0],\"title\":{\"text\":\"x\"}},\"yaxis\":{\"anchor\":\"x\",\"domain\":[0.0,1.0],\"title\":{\"text\":\"y\"}},\"coloraxis\":{\"colorbar\":{\"title\":{\"text\":\"color\"}},\"colorscale\":[[0.0,\"#0d0887\"],[0.1111111111111111,\"#46039f\"],[0.2222222222222222,\"#7201a8\"],[0.3333333333333333,\"#9c179e\"],[0.4444444444444444,\"#bd3786\"],[0.5555555555555556,\"#d8576b\"],[0.6666666666666666,\"#ed7953\"],[0.7777777777777778,\"#fb9f3a\"],[0.8888888888888888,\"#fdca26\"],[1.0,\"#f0f921\"]]},\"legend\":{\"tracegroupgap\":0},\"margin\":{\"t\":60}},                        {\"responsive\": true}                    ).then(function(){\n",
              "                            \n",
              "var gd = document.getElementById('c2d14ed3-ce72-4a1d-a5df-a7537e883a13');\n",
              "var x = new MutationObserver(function (mutations, observer) {{\n",
              "        var display = window.getComputedStyle(gd).display;\n",
              "        if (!display || display === 'none') {{\n",
              "            console.log([gd, 'removed!']);\n",
              "            Plotly.purge(gd);\n",
              "            observer.disconnect();\n",
              "        }}\n",
              "}});\n",
              "\n",
              "// Listen for the removal of the full notebook cells\n",
              "var notebookContainer = gd.closest('#notebook-container');\n",
              "if (notebookContainer) {{\n",
              "    x.observe(notebookContainer, {childList: true});\n",
              "}}\n",
              "\n",
              "// Listen for the clearing of the current output cell\n",
              "var outputEl = gd.closest('.output');\n",
              "if (outputEl) {{\n",
              "    x.observe(outputEl, {childList: true});\n",
              "}}\n",
              "\n",
              "                        })                };                            </script>        </div>\n",
              "</body>\n",
              "</html>"
            ]
          },
          "metadata": {}
        }
      ]
    },
    {
      "cell_type": "markdown",
      "source": [
        "Dari hasil evaluasi terjadi overlapping. namun setelah dilakukan percobaan pada semua model, model6 dengan menggunakan jumlah klaster = 6 dan 3 feature lebih baik dari model lainnya dengan score 0.4274"
      ],
      "metadata": {
        "id": "csXoM9AO2dSA"
      }
    },
    {
      "cell_type": "code",
      "source": [
        "#CENTROID AKHIR\n",
        "k_means_cluster_centers = k_means6.cluster_centers_\n",
        "k_means_cluster_centers"
      ],
      "metadata": {
        "colab": {
          "base_uri": "https://localhost:8080/"
        },
        "id": "pToiMRgIaoo2",
        "outputId": "783a8f20-4435-4d1a-8af2-3cae21789720"
      },
      "execution_count": 156,
      "outputs": [
        {
          "output_type": "execute_result",
          "data": {
            "text/plain": [
              "array([[ 0.47895722, -1.30822992, -1.19644353],\n",
              "       [ 1.25472096, -0.24021294, -0.04399777],\n",
              "       [-0.44191719,  0.99158305,  1.23950275],\n",
              "       [-0.97602698, -1.32549704,  1.0371827 ],\n",
              "       [-0.87309844, -0.11378508, -0.09358039],\n",
              "       [ 0.22171558,  1.08322527, -1.29005223]])"
            ]
          },
          "metadata": {},
          "execution_count": 156
        }
      ]
    },
    {
      "cell_type": "code",
      "source": [
        "df_feat.head(3)"
      ],
      "metadata": {
        "colab": {
          "base_uri": "https://localhost:8080/",
          "height": 143
        },
        "id": "xuoDtOcFIdjm",
        "outputId": "b94b6cce-d68d-481e-8e4b-cc44557e6fcb"
      },
      "execution_count": 157,
      "outputs": [
        {
          "output_type": "execute_result",
          "data": {
            "text/plain": [
              "   Age  Annual Income (k$)  Spending Score (1-100)  kmeans_2  kmeans_3  \\\n",
              "0   19                  15                      39         1         1   \n",
              "1   21                  15                      81         1         1   \n",
              "2   20                  16                       6         0         1   \n",
              "\n",
              "   kmeans_4  kmeans_5  kmeans_6  kmeans_7  \n",
              "0         3         3         3         5  \n",
              "1         3         3         3         5  \n",
              "2         3         2         0         4  "
            ],
            "text/html": [
              "\n",
              "  <div id=\"df-f41c0c7c-0822-4b51-82d5-3d4dd1036347\" class=\"colab-df-container\">\n",
              "    <div>\n",
              "<style scoped>\n",
              "    .dataframe tbody tr th:only-of-type {\n",
              "        vertical-align: middle;\n",
              "    }\n",
              "\n",
              "    .dataframe tbody tr th {\n",
              "        vertical-align: top;\n",
              "    }\n",
              "\n",
              "    .dataframe thead th {\n",
              "        text-align: right;\n",
              "    }\n",
              "</style>\n",
              "<table border=\"1\" class=\"dataframe\">\n",
              "  <thead>\n",
              "    <tr style=\"text-align: right;\">\n",
              "      <th></th>\n",
              "      <th>Age</th>\n",
              "      <th>Annual Income (k$)</th>\n",
              "      <th>Spending Score (1-100)</th>\n",
              "      <th>kmeans_2</th>\n",
              "      <th>kmeans_3</th>\n",
              "      <th>kmeans_4</th>\n",
              "      <th>kmeans_5</th>\n",
              "      <th>kmeans_6</th>\n",
              "      <th>kmeans_7</th>\n",
              "    </tr>\n",
              "  </thead>\n",
              "  <tbody>\n",
              "    <tr>\n",
              "      <th>0</th>\n",
              "      <td>19</td>\n",
              "      <td>15</td>\n",
              "      <td>39</td>\n",
              "      <td>1</td>\n",
              "      <td>1</td>\n",
              "      <td>3</td>\n",
              "      <td>3</td>\n",
              "      <td>3</td>\n",
              "      <td>5</td>\n",
              "    </tr>\n",
              "    <tr>\n",
              "      <th>1</th>\n",
              "      <td>21</td>\n",
              "      <td>15</td>\n",
              "      <td>81</td>\n",
              "      <td>1</td>\n",
              "      <td>1</td>\n",
              "      <td>3</td>\n",
              "      <td>3</td>\n",
              "      <td>3</td>\n",
              "      <td>5</td>\n",
              "    </tr>\n",
              "    <tr>\n",
              "      <th>2</th>\n",
              "      <td>20</td>\n",
              "      <td>16</td>\n",
              "      <td>6</td>\n",
              "      <td>0</td>\n",
              "      <td>1</td>\n",
              "      <td>3</td>\n",
              "      <td>2</td>\n",
              "      <td>0</td>\n",
              "      <td>4</td>\n",
              "    </tr>\n",
              "  </tbody>\n",
              "</table>\n",
              "</div>\n",
              "    <div class=\"colab-df-buttons\">\n",
              "\n",
              "  <div class=\"colab-df-container\">\n",
              "    <button class=\"colab-df-convert\" onclick=\"convertToInteractive('df-f41c0c7c-0822-4b51-82d5-3d4dd1036347')\"\n",
              "            title=\"Convert this dataframe to an interactive table.\"\n",
              "            style=\"display:none;\">\n",
              "\n",
              "  <svg xmlns=\"http://www.w3.org/2000/svg\" height=\"24px\" viewBox=\"0 -960 960 960\">\n",
              "    <path d=\"M120-120v-720h720v720H120Zm60-500h600v-160H180v160Zm220 220h160v-160H400v160Zm0 220h160v-160H400v160ZM180-400h160v-160H180v160Zm440 0h160v-160H620v160ZM180-180h160v-160H180v160Zm440 0h160v-160H620v160Z\"/>\n",
              "  </svg>\n",
              "    </button>\n",
              "\n",
              "  <style>\n",
              "    .colab-df-container {\n",
              "      display:flex;\n",
              "      gap: 12px;\n",
              "    }\n",
              "\n",
              "    .colab-df-convert {\n",
              "      background-color: #E8F0FE;\n",
              "      border: none;\n",
              "      border-radius: 50%;\n",
              "      cursor: pointer;\n",
              "      display: none;\n",
              "      fill: #1967D2;\n",
              "      height: 32px;\n",
              "      padding: 0 0 0 0;\n",
              "      width: 32px;\n",
              "    }\n",
              "\n",
              "    .colab-df-convert:hover {\n",
              "      background-color: #E2EBFA;\n",
              "      box-shadow: 0px 1px 2px rgba(60, 64, 67, 0.3), 0px 1px 3px 1px rgba(60, 64, 67, 0.15);\n",
              "      fill: #174EA6;\n",
              "    }\n",
              "\n",
              "    .colab-df-buttons div {\n",
              "      margin-bottom: 4px;\n",
              "    }\n",
              "\n",
              "    [theme=dark] .colab-df-convert {\n",
              "      background-color: #3B4455;\n",
              "      fill: #D2E3FC;\n",
              "    }\n",
              "\n",
              "    [theme=dark] .colab-df-convert:hover {\n",
              "      background-color: #434B5C;\n",
              "      box-shadow: 0px 1px 3px 1px rgba(0, 0, 0, 0.15);\n",
              "      filter: drop-shadow(0px 1px 2px rgba(0, 0, 0, 0.3));\n",
              "      fill: #FFFFFF;\n",
              "    }\n",
              "  </style>\n",
              "\n",
              "    <script>\n",
              "      const buttonEl =\n",
              "        document.querySelector('#df-f41c0c7c-0822-4b51-82d5-3d4dd1036347 button.colab-df-convert');\n",
              "      buttonEl.style.display =\n",
              "        google.colab.kernel.accessAllowed ? 'block' : 'none';\n",
              "\n",
              "      async function convertToInteractive(key) {\n",
              "        const element = document.querySelector('#df-f41c0c7c-0822-4b51-82d5-3d4dd1036347');\n",
              "        const dataTable =\n",
              "          await google.colab.kernel.invokeFunction('convertToInteractive',\n",
              "                                                    [key], {});\n",
              "        if (!dataTable) return;\n",
              "\n",
              "        const docLinkHtml = 'Like what you see? Visit the ' +\n",
              "          '<a target=\"_blank\" href=https://colab.research.google.com/notebooks/data_table.ipynb>data table notebook</a>'\n",
              "          + ' to learn more about interactive tables.';\n",
              "        element.innerHTML = '';\n",
              "        dataTable['output_type'] = 'display_data';\n",
              "        await google.colab.output.renderOutput(dataTable, element);\n",
              "        const docLink = document.createElement('div');\n",
              "        docLink.innerHTML = docLinkHtml;\n",
              "        element.appendChild(docLink);\n",
              "      }\n",
              "    </script>\n",
              "  </div>\n",
              "\n",
              "\n",
              "<div id=\"df-9ad59820-371f-4201-a6a8-1c73e14f837c\">\n",
              "  <button class=\"colab-df-quickchart\" onclick=\"quickchart('df-9ad59820-371f-4201-a6a8-1c73e14f837c')\"\n",
              "            title=\"Suggest charts.\"\n",
              "            style=\"display:none;\">\n",
              "\n",
              "<svg xmlns=\"http://www.w3.org/2000/svg\" height=\"24px\"viewBox=\"0 0 24 24\"\n",
              "     width=\"24px\">\n",
              "    <g>\n",
              "        <path d=\"M19 3H5c-1.1 0-2 .9-2 2v14c0 1.1.9 2 2 2h14c1.1 0 2-.9 2-2V5c0-1.1-.9-2-2-2zM9 17H7v-7h2v7zm4 0h-2V7h2v10zm4 0h-2v-4h2v4z\"/>\n",
              "    </g>\n",
              "</svg>\n",
              "  </button>\n",
              "\n",
              "<style>\n",
              "  .colab-df-quickchart {\n",
              "      --bg-color: #E8F0FE;\n",
              "      --fill-color: #1967D2;\n",
              "      --hover-bg-color: #E2EBFA;\n",
              "      --hover-fill-color: #174EA6;\n",
              "      --disabled-fill-color: #AAA;\n",
              "      --disabled-bg-color: #DDD;\n",
              "  }\n",
              "\n",
              "  [theme=dark] .colab-df-quickchart {\n",
              "      --bg-color: #3B4455;\n",
              "      --fill-color: #D2E3FC;\n",
              "      --hover-bg-color: #434B5C;\n",
              "      --hover-fill-color: #FFFFFF;\n",
              "      --disabled-bg-color: #3B4455;\n",
              "      --disabled-fill-color: #666;\n",
              "  }\n",
              "\n",
              "  .colab-df-quickchart {\n",
              "    background-color: var(--bg-color);\n",
              "    border: none;\n",
              "    border-radius: 50%;\n",
              "    cursor: pointer;\n",
              "    display: none;\n",
              "    fill: var(--fill-color);\n",
              "    height: 32px;\n",
              "    padding: 0;\n",
              "    width: 32px;\n",
              "  }\n",
              "\n",
              "  .colab-df-quickchart:hover {\n",
              "    background-color: var(--hover-bg-color);\n",
              "    box-shadow: 0 1px 2px rgba(60, 64, 67, 0.3), 0 1px 3px 1px rgba(60, 64, 67, 0.15);\n",
              "    fill: var(--button-hover-fill-color);\n",
              "  }\n",
              "\n",
              "  .colab-df-quickchart-complete:disabled,\n",
              "  .colab-df-quickchart-complete:disabled:hover {\n",
              "    background-color: var(--disabled-bg-color);\n",
              "    fill: var(--disabled-fill-color);\n",
              "    box-shadow: none;\n",
              "  }\n",
              "\n",
              "  .colab-df-spinner {\n",
              "    border: 2px solid var(--fill-color);\n",
              "    border-color: transparent;\n",
              "    border-bottom-color: var(--fill-color);\n",
              "    animation:\n",
              "      spin 1s steps(1) infinite;\n",
              "  }\n",
              "\n",
              "  @keyframes spin {\n",
              "    0% {\n",
              "      border-color: transparent;\n",
              "      border-bottom-color: var(--fill-color);\n",
              "      border-left-color: var(--fill-color);\n",
              "    }\n",
              "    20% {\n",
              "      border-color: transparent;\n",
              "      border-left-color: var(--fill-color);\n",
              "      border-top-color: var(--fill-color);\n",
              "    }\n",
              "    30% {\n",
              "      border-color: transparent;\n",
              "      border-left-color: var(--fill-color);\n",
              "      border-top-color: var(--fill-color);\n",
              "      border-right-color: var(--fill-color);\n",
              "    }\n",
              "    40% {\n",
              "      border-color: transparent;\n",
              "      border-right-color: var(--fill-color);\n",
              "      border-top-color: var(--fill-color);\n",
              "    }\n",
              "    60% {\n",
              "      border-color: transparent;\n",
              "      border-right-color: var(--fill-color);\n",
              "    }\n",
              "    80% {\n",
              "      border-color: transparent;\n",
              "      border-right-color: var(--fill-color);\n",
              "      border-bottom-color: var(--fill-color);\n",
              "    }\n",
              "    90% {\n",
              "      border-color: transparent;\n",
              "      border-bottom-color: var(--fill-color);\n",
              "    }\n",
              "  }\n",
              "</style>\n",
              "\n",
              "  <script>\n",
              "    async function quickchart(key) {\n",
              "      const quickchartButtonEl =\n",
              "        document.querySelector('#' + key + ' button');\n",
              "      quickchartButtonEl.disabled = true;  // To prevent multiple clicks.\n",
              "      quickchartButtonEl.classList.add('colab-df-spinner');\n",
              "      try {\n",
              "        const charts = await google.colab.kernel.invokeFunction(\n",
              "            'suggestCharts', [key], {});\n",
              "      } catch (error) {\n",
              "        console.error('Error during call to suggestCharts:', error);\n",
              "      }\n",
              "      quickchartButtonEl.classList.remove('colab-df-spinner');\n",
              "      quickchartButtonEl.classList.add('colab-df-quickchart-complete');\n",
              "    }\n",
              "    (() => {\n",
              "      let quickchartButtonEl =\n",
              "        document.querySelector('#df-9ad59820-371f-4201-a6a8-1c73e14f837c button');\n",
              "      quickchartButtonEl.style.display =\n",
              "        google.colab.kernel.accessAllowed ? 'block' : 'none';\n",
              "    })();\n",
              "  </script>\n",
              "</div>\n",
              "    </div>\n",
              "  </div>\n"
            ]
          },
          "metadata": {},
          "execution_count": 157
        }
      ]
    },
    {
      "cell_type": "markdown",
      "source": [
        "# MODELING DENGAN 4 FEATURE TANPA DILAKUKAN PCA"
      ],
      "metadata": {
        "id": "6GE_wA-rVWQT"
      }
    },
    {
      "cell_type": "code",
      "source": [
        "clusterNum = 2\n",
        "k_means = KMeans(init = \"k-means++\", n_clusters = clusterNum, n_init = 12)\n",
        "k_means.fit(df_feat_t_4)\n",
        "df_feat_4['kmeans_2_4'] = k_means.labels_"
      ],
      "metadata": {
        "id": "0_01eiJwVf6x"
      },
      "execution_count": 158,
      "outputs": []
    },
    {
      "cell_type": "code",
      "source": [
        "from sklearn.metrics import silhouette_score as ss\n",
        "ss(df_feat_t_4, df_feat_4['kmeans_2_4'])"
      ],
      "metadata": {
        "colab": {
          "base_uri": "https://localhost:8080/"
        },
        "id": "8KB3FetIVm2y",
        "outputId": "41dcb7bf-2b6d-4659-8065-2c583a46c296"
      },
      "execution_count": 159,
      "outputs": [
        {
          "output_type": "execute_result",
          "data": {
            "text/plain": [
              "0.2518152915788437"
            ]
          },
          "metadata": {},
          "execution_count": 159
        }
      ]
    },
    {
      "cell_type": "code",
      "source": [
        "clusterNum = 3\n",
        "k_means = KMeans(init = \"k-means++\", n_clusters = clusterNum, n_init = 12)\n",
        "k_means.fit(df_feat_t_4)\n",
        "df_feat_4['kmeans_3_4'] = k_means.labels_"
      ],
      "metadata": {
        "id": "yvxwOcTgV1jY"
      },
      "execution_count": 160,
      "outputs": []
    },
    {
      "cell_type": "code",
      "source": [
        "from sklearn.metrics import silhouette_score as ss\n",
        "ss(df_feat_t_4, df_feat_4['kmeans_3_4'])"
      ],
      "metadata": {
        "colab": {
          "base_uri": "https://localhost:8080/"
        },
        "id": "KPT0uH2bV-Wm",
        "outputId": "cb8b9c0e-3fd8-41dc-9f98-90d309f2cb65"
      },
      "execution_count": 161,
      "outputs": [
        {
          "output_type": "execute_result",
          "data": {
            "text/plain": [
              "0.26188419594665274"
            ]
          },
          "metadata": {},
          "execution_count": 161
        }
      ]
    },
    {
      "cell_type": "code",
      "source": [
        "clusterNum = 4\n",
        "k_means = KMeans(init = \"k-means++\", n_clusters = clusterNum, n_init = 12)\n",
        "k_means.fit(df_feat_t_4)\n",
        "df_feat_4['kmeans_4_4'] = k_means.labels_"
      ],
      "metadata": {
        "id": "-BliM2bmWJxw"
      },
      "execution_count": 162,
      "outputs": []
    },
    {
      "cell_type": "code",
      "source": [
        "from sklearn.metrics import silhouette_score as ss\n",
        "ss(df_feat_t_4, df_feat_4['kmeans_4_4'])"
      ],
      "metadata": {
        "colab": {
          "base_uri": "https://localhost:8080/"
        },
        "id": "1oznuq-rWOHd",
        "outputId": "337eeda7-ee9b-445a-80fa-550f22414697"
      },
      "execution_count": 163,
      "outputs": [
        {
          "output_type": "execute_result",
          "data": {
            "text/plain": [
              "0.3016237438985174"
            ]
          },
          "metadata": {},
          "execution_count": 163
        }
      ]
    },
    {
      "cell_type": "code",
      "source": [
        "clusterNum = 5\n",
        "k_means = KMeans(init = \"k-means++\", n_clusters = clusterNum, n_init = 12)\n",
        "k_means.fit(df_feat_t_4)\n",
        "df_feat_4['kmeans_5_4'] = k_means.labels_"
      ],
      "metadata": {
        "id": "7YfhvJ90WXuO"
      },
      "execution_count": 164,
      "outputs": []
    },
    {
      "cell_type": "code",
      "source": [
        "from sklearn.metrics import silhouette_score as ss\n",
        "ss(df_feat_t_4, df_feat_4['kmeans_5_4'])"
      ],
      "metadata": {
        "colab": {
          "base_uri": "https://localhost:8080/"
        },
        "id": "2DcMIOaEWbkT",
        "outputId": "9740922d-de9c-4c8e-b0af-434f4c3abb7b"
      },
      "execution_count": 165,
      "outputs": [
        {
          "output_type": "execute_result",
          "data": {
            "text/plain": [
              "0.31606517761091896"
            ]
          },
          "metadata": {},
          "execution_count": 165
        }
      ]
    },
    {
      "cell_type": "code",
      "source": [
        "df_feat_4.head(3)"
      ],
      "metadata": {
        "colab": {
          "base_uri": "https://localhost:8080/",
          "height": 143
        },
        "id": "tYNTNGObX42g",
        "outputId": "dbe33d76-5404-40cb-b580-cad3af94f769"
      },
      "execution_count": 166,
      "outputs": [
        {
          "output_type": "execute_result",
          "data": {
            "text/plain": [
              "   Gender  Age  Annual Income (k$)  Spending Score (1-100)  kmeans_2_4  \\\n",
              "0       1   19                  15                      39           1   \n",
              "1       1   21                  15                      81           1   \n",
              "2       0   20                  16                       6           0   \n",
              "\n",
              "   kmeans_3_4  kmeans_4_4  kmeans_5_4  \n",
              "0           1           3           1  \n",
              "1           1           3           1  \n",
              "2           0           1           3  "
            ],
            "text/html": [
              "\n",
              "  <div id=\"df-c06628ce-e772-400c-b3dd-b781cf58b068\" class=\"colab-df-container\">\n",
              "    <div>\n",
              "<style scoped>\n",
              "    .dataframe tbody tr th:only-of-type {\n",
              "        vertical-align: middle;\n",
              "    }\n",
              "\n",
              "    .dataframe tbody tr th {\n",
              "        vertical-align: top;\n",
              "    }\n",
              "\n",
              "    .dataframe thead th {\n",
              "        text-align: right;\n",
              "    }\n",
              "</style>\n",
              "<table border=\"1\" class=\"dataframe\">\n",
              "  <thead>\n",
              "    <tr style=\"text-align: right;\">\n",
              "      <th></th>\n",
              "      <th>Gender</th>\n",
              "      <th>Age</th>\n",
              "      <th>Annual Income (k$)</th>\n",
              "      <th>Spending Score (1-100)</th>\n",
              "      <th>kmeans_2_4</th>\n",
              "      <th>kmeans_3_4</th>\n",
              "      <th>kmeans_4_4</th>\n",
              "      <th>kmeans_5_4</th>\n",
              "    </tr>\n",
              "  </thead>\n",
              "  <tbody>\n",
              "    <tr>\n",
              "      <th>0</th>\n",
              "      <td>1</td>\n",
              "      <td>19</td>\n",
              "      <td>15</td>\n",
              "      <td>39</td>\n",
              "      <td>1</td>\n",
              "      <td>1</td>\n",
              "      <td>3</td>\n",
              "      <td>1</td>\n",
              "    </tr>\n",
              "    <tr>\n",
              "      <th>1</th>\n",
              "      <td>1</td>\n",
              "      <td>21</td>\n",
              "      <td>15</td>\n",
              "      <td>81</td>\n",
              "      <td>1</td>\n",
              "      <td>1</td>\n",
              "      <td>3</td>\n",
              "      <td>1</td>\n",
              "    </tr>\n",
              "    <tr>\n",
              "      <th>2</th>\n",
              "      <td>0</td>\n",
              "      <td>20</td>\n",
              "      <td>16</td>\n",
              "      <td>6</td>\n",
              "      <td>0</td>\n",
              "      <td>0</td>\n",
              "      <td>1</td>\n",
              "      <td>3</td>\n",
              "    </tr>\n",
              "  </tbody>\n",
              "</table>\n",
              "</div>\n",
              "    <div class=\"colab-df-buttons\">\n",
              "\n",
              "  <div class=\"colab-df-container\">\n",
              "    <button class=\"colab-df-convert\" onclick=\"convertToInteractive('df-c06628ce-e772-400c-b3dd-b781cf58b068')\"\n",
              "            title=\"Convert this dataframe to an interactive table.\"\n",
              "            style=\"display:none;\">\n",
              "\n",
              "  <svg xmlns=\"http://www.w3.org/2000/svg\" height=\"24px\" viewBox=\"0 -960 960 960\">\n",
              "    <path d=\"M120-120v-720h720v720H120Zm60-500h600v-160H180v160Zm220 220h160v-160H400v160Zm0 220h160v-160H400v160ZM180-400h160v-160H180v160Zm440 0h160v-160H620v160ZM180-180h160v-160H180v160Zm440 0h160v-160H620v160Z\"/>\n",
              "  </svg>\n",
              "    </button>\n",
              "\n",
              "  <style>\n",
              "    .colab-df-container {\n",
              "      display:flex;\n",
              "      gap: 12px;\n",
              "    }\n",
              "\n",
              "    .colab-df-convert {\n",
              "      background-color: #E8F0FE;\n",
              "      border: none;\n",
              "      border-radius: 50%;\n",
              "      cursor: pointer;\n",
              "      display: none;\n",
              "      fill: #1967D2;\n",
              "      height: 32px;\n",
              "      padding: 0 0 0 0;\n",
              "      width: 32px;\n",
              "    }\n",
              "\n",
              "    .colab-df-convert:hover {\n",
              "      background-color: #E2EBFA;\n",
              "      box-shadow: 0px 1px 2px rgba(60, 64, 67, 0.3), 0px 1px 3px 1px rgba(60, 64, 67, 0.15);\n",
              "      fill: #174EA6;\n",
              "    }\n",
              "\n",
              "    .colab-df-buttons div {\n",
              "      margin-bottom: 4px;\n",
              "    }\n",
              "\n",
              "    [theme=dark] .colab-df-convert {\n",
              "      background-color: #3B4455;\n",
              "      fill: #D2E3FC;\n",
              "    }\n",
              "\n",
              "    [theme=dark] .colab-df-convert:hover {\n",
              "      background-color: #434B5C;\n",
              "      box-shadow: 0px 1px 3px 1px rgba(0, 0, 0, 0.15);\n",
              "      filter: drop-shadow(0px 1px 2px rgba(0, 0, 0, 0.3));\n",
              "      fill: #FFFFFF;\n",
              "    }\n",
              "  </style>\n",
              "\n",
              "    <script>\n",
              "      const buttonEl =\n",
              "        document.querySelector('#df-c06628ce-e772-400c-b3dd-b781cf58b068 button.colab-df-convert');\n",
              "      buttonEl.style.display =\n",
              "        google.colab.kernel.accessAllowed ? 'block' : 'none';\n",
              "\n",
              "      async function convertToInteractive(key) {\n",
              "        const element = document.querySelector('#df-c06628ce-e772-400c-b3dd-b781cf58b068');\n",
              "        const dataTable =\n",
              "          await google.colab.kernel.invokeFunction('convertToInteractive',\n",
              "                                                    [key], {});\n",
              "        if (!dataTable) return;\n",
              "\n",
              "        const docLinkHtml = 'Like what you see? Visit the ' +\n",
              "          '<a target=\"_blank\" href=https://colab.research.google.com/notebooks/data_table.ipynb>data table notebook</a>'\n",
              "          + ' to learn more about interactive tables.';\n",
              "        element.innerHTML = '';\n",
              "        dataTable['output_type'] = 'display_data';\n",
              "        await google.colab.output.renderOutput(dataTable, element);\n",
              "        const docLink = document.createElement('div');\n",
              "        docLink.innerHTML = docLinkHtml;\n",
              "        element.appendChild(docLink);\n",
              "      }\n",
              "    </script>\n",
              "  </div>\n",
              "\n",
              "\n",
              "<div id=\"df-16096dbd-c994-4b27-9859-c2d2f499e5ee\">\n",
              "  <button class=\"colab-df-quickchart\" onclick=\"quickchart('df-16096dbd-c994-4b27-9859-c2d2f499e5ee')\"\n",
              "            title=\"Suggest charts.\"\n",
              "            style=\"display:none;\">\n",
              "\n",
              "<svg xmlns=\"http://www.w3.org/2000/svg\" height=\"24px\"viewBox=\"0 0 24 24\"\n",
              "     width=\"24px\">\n",
              "    <g>\n",
              "        <path d=\"M19 3H5c-1.1 0-2 .9-2 2v14c0 1.1.9 2 2 2h14c1.1 0 2-.9 2-2V5c0-1.1-.9-2-2-2zM9 17H7v-7h2v7zm4 0h-2V7h2v10zm4 0h-2v-4h2v4z\"/>\n",
              "    </g>\n",
              "</svg>\n",
              "  </button>\n",
              "\n",
              "<style>\n",
              "  .colab-df-quickchart {\n",
              "      --bg-color: #E8F0FE;\n",
              "      --fill-color: #1967D2;\n",
              "      --hover-bg-color: #E2EBFA;\n",
              "      --hover-fill-color: #174EA6;\n",
              "      --disabled-fill-color: #AAA;\n",
              "      --disabled-bg-color: #DDD;\n",
              "  }\n",
              "\n",
              "  [theme=dark] .colab-df-quickchart {\n",
              "      --bg-color: #3B4455;\n",
              "      --fill-color: #D2E3FC;\n",
              "      --hover-bg-color: #434B5C;\n",
              "      --hover-fill-color: #FFFFFF;\n",
              "      --disabled-bg-color: #3B4455;\n",
              "      --disabled-fill-color: #666;\n",
              "  }\n",
              "\n",
              "  .colab-df-quickchart {\n",
              "    background-color: var(--bg-color);\n",
              "    border: none;\n",
              "    border-radius: 50%;\n",
              "    cursor: pointer;\n",
              "    display: none;\n",
              "    fill: var(--fill-color);\n",
              "    height: 32px;\n",
              "    padding: 0;\n",
              "    width: 32px;\n",
              "  }\n",
              "\n",
              "  .colab-df-quickchart:hover {\n",
              "    background-color: var(--hover-bg-color);\n",
              "    box-shadow: 0 1px 2px rgba(60, 64, 67, 0.3), 0 1px 3px 1px rgba(60, 64, 67, 0.15);\n",
              "    fill: var(--button-hover-fill-color);\n",
              "  }\n",
              "\n",
              "  .colab-df-quickchart-complete:disabled,\n",
              "  .colab-df-quickchart-complete:disabled:hover {\n",
              "    background-color: var(--disabled-bg-color);\n",
              "    fill: var(--disabled-fill-color);\n",
              "    box-shadow: none;\n",
              "  }\n",
              "\n",
              "  .colab-df-spinner {\n",
              "    border: 2px solid var(--fill-color);\n",
              "    border-color: transparent;\n",
              "    border-bottom-color: var(--fill-color);\n",
              "    animation:\n",
              "      spin 1s steps(1) infinite;\n",
              "  }\n",
              "\n",
              "  @keyframes spin {\n",
              "    0% {\n",
              "      border-color: transparent;\n",
              "      border-bottom-color: var(--fill-color);\n",
              "      border-left-color: var(--fill-color);\n",
              "    }\n",
              "    20% {\n",
              "      border-color: transparent;\n",
              "      border-left-color: var(--fill-color);\n",
              "      border-top-color: var(--fill-color);\n",
              "    }\n",
              "    30% {\n",
              "      border-color: transparent;\n",
              "      border-left-color: var(--fill-color);\n",
              "      border-top-color: var(--fill-color);\n",
              "      border-right-color: var(--fill-color);\n",
              "    }\n",
              "    40% {\n",
              "      border-color: transparent;\n",
              "      border-right-color: var(--fill-color);\n",
              "      border-top-color: var(--fill-color);\n",
              "    }\n",
              "    60% {\n",
              "      border-color: transparent;\n",
              "      border-right-color: var(--fill-color);\n",
              "    }\n",
              "    80% {\n",
              "      border-color: transparent;\n",
              "      border-right-color: var(--fill-color);\n",
              "      border-bottom-color: var(--fill-color);\n",
              "    }\n",
              "    90% {\n",
              "      border-color: transparent;\n",
              "      border-bottom-color: var(--fill-color);\n",
              "    }\n",
              "  }\n",
              "</style>\n",
              "\n",
              "  <script>\n",
              "    async function quickchart(key) {\n",
              "      const quickchartButtonEl =\n",
              "        document.querySelector('#' + key + ' button');\n",
              "      quickchartButtonEl.disabled = true;  // To prevent multiple clicks.\n",
              "      quickchartButtonEl.classList.add('colab-df-spinner');\n",
              "      try {\n",
              "        const charts = await google.colab.kernel.invokeFunction(\n",
              "            'suggestCharts', [key], {});\n",
              "      } catch (error) {\n",
              "        console.error('Error during call to suggestCharts:', error);\n",
              "      }\n",
              "      quickchartButtonEl.classList.remove('colab-df-spinner');\n",
              "      quickchartButtonEl.classList.add('colab-df-quickchart-complete');\n",
              "    }\n",
              "    (() => {\n",
              "      let quickchartButtonEl =\n",
              "        document.querySelector('#df-16096dbd-c994-4b27-9859-c2d2f499e5ee button');\n",
              "      quickchartButtonEl.style.display =\n",
              "        google.colab.kernel.accessAllowed ? 'block' : 'none';\n",
              "    })();\n",
              "  </script>\n",
              "</div>\n",
              "    </div>\n",
              "  </div>\n"
            ]
          },
          "metadata": {},
          "execution_count": 166
        }
      ]
    },
    {
      "cell_type": "markdown",
      "source": [
        "#KESIMPULAN KMEANS"
      ],
      "metadata": {
        "id": "E9IDBWUmbL6r"
      }
    },
    {
      "cell_type": "markdown",
      "source": [
        "DARI SEMUA MODEL YANG SUDAH DICOBA DIDAPATKAN HASIL SCORE TERBAIK ADALAH DENGAN MENGGUNAKAN SELECTION FEATURE PCA. HASIL TERBAIK YAITU DENGAN 3 FETAURE DAN N_CLUSTER= 6. DIDAPATKAN SCORE SILHOUTE = 0,468. Namun terdapat kekurangan dalam model ini yaitu terjadinya overlapping."
      ],
      "metadata": {
        "id": "ouqsxv5dX80e"
      }
    },
    {
      "cell_type": "markdown",
      "source": [
        "\n",
        "## Algoritma Agglomerative Hierarchical Clustering\n",
        "Tahapan:\n",
        "* Lakukan data preprocessing sehingga bisa dilakukan clustering dengan algortima hierarchical.\n",
        "* Buat dendogram dari dataset untuk menentukan jumlah klaster yang optimal dan buat tiga variasi nilai k, saran variasi: klaster-1 optimal, klaster optimal, dan klaster+1 optimal\n",
        "* Visualisasikan hasil clustering berdasarkan fitur yang digunakan (gunakan 2 fitur terbaik yang dapat merepresentasikan clustering jika clustering dilakukan > 2 fitur). Pastikan setiap cluster ditampilkan dengan warna berbeda, dengan legend yang jelas.\n",
        "* Lakukan analisis mengenai variasi mana yang paling menggambarkan karakteristik data, dan jelaskan mengapa."
      ],
      "metadata": {
        "id": "3736CuCS6XM7"
      }
    },
    {
      "cell_type": "code",
      "source": [
        "df_feat_hirarki = df[['Age','Annual Income (k$)','Spending Score (1-100)']]"
      ],
      "metadata": {
        "id": "QdcXhUdtIDHH"
      },
      "execution_count": 167,
      "outputs": []
    },
    {
      "cell_type": "code",
      "source": [
        "df_feat_hirarki.head()"
      ],
      "metadata": {
        "id": "SIqOfypITQIJ",
        "colab": {
          "base_uri": "https://localhost:8080/",
          "height": 206
        },
        "outputId": "49031ae6-1bed-47f9-c30c-6a051a034232"
      },
      "execution_count": 168,
      "outputs": [
        {
          "output_type": "execute_result",
          "data": {
            "text/plain": [
              "   Age  Annual Income (k$)  Spending Score (1-100)\n",
              "0   19                  15                      39\n",
              "1   21                  15                      81\n",
              "2   20                  16                       6\n",
              "3   23                  16                      77\n",
              "4   31                  17                      40"
            ],
            "text/html": [
              "\n",
              "  <div id=\"df-02f11ae9-bd27-4c19-855b-1ead2115a483\" class=\"colab-df-container\">\n",
              "    <div>\n",
              "<style scoped>\n",
              "    .dataframe tbody tr th:only-of-type {\n",
              "        vertical-align: middle;\n",
              "    }\n",
              "\n",
              "    .dataframe tbody tr th {\n",
              "        vertical-align: top;\n",
              "    }\n",
              "\n",
              "    .dataframe thead th {\n",
              "        text-align: right;\n",
              "    }\n",
              "</style>\n",
              "<table border=\"1\" class=\"dataframe\">\n",
              "  <thead>\n",
              "    <tr style=\"text-align: right;\">\n",
              "      <th></th>\n",
              "      <th>Age</th>\n",
              "      <th>Annual Income (k$)</th>\n",
              "      <th>Spending Score (1-100)</th>\n",
              "    </tr>\n",
              "  </thead>\n",
              "  <tbody>\n",
              "    <tr>\n",
              "      <th>0</th>\n",
              "      <td>19</td>\n",
              "      <td>15</td>\n",
              "      <td>39</td>\n",
              "    </tr>\n",
              "    <tr>\n",
              "      <th>1</th>\n",
              "      <td>21</td>\n",
              "      <td>15</td>\n",
              "      <td>81</td>\n",
              "    </tr>\n",
              "    <tr>\n",
              "      <th>2</th>\n",
              "      <td>20</td>\n",
              "      <td>16</td>\n",
              "      <td>6</td>\n",
              "    </tr>\n",
              "    <tr>\n",
              "      <th>3</th>\n",
              "      <td>23</td>\n",
              "      <td>16</td>\n",
              "      <td>77</td>\n",
              "    </tr>\n",
              "    <tr>\n",
              "      <th>4</th>\n",
              "      <td>31</td>\n",
              "      <td>17</td>\n",
              "      <td>40</td>\n",
              "    </tr>\n",
              "  </tbody>\n",
              "</table>\n",
              "</div>\n",
              "    <div class=\"colab-df-buttons\">\n",
              "\n",
              "  <div class=\"colab-df-container\">\n",
              "    <button class=\"colab-df-convert\" onclick=\"convertToInteractive('df-02f11ae9-bd27-4c19-855b-1ead2115a483')\"\n",
              "            title=\"Convert this dataframe to an interactive table.\"\n",
              "            style=\"display:none;\">\n",
              "\n",
              "  <svg xmlns=\"http://www.w3.org/2000/svg\" height=\"24px\" viewBox=\"0 -960 960 960\">\n",
              "    <path d=\"M120-120v-720h720v720H120Zm60-500h600v-160H180v160Zm220 220h160v-160H400v160Zm0 220h160v-160H400v160ZM180-400h160v-160H180v160Zm440 0h160v-160H620v160ZM180-180h160v-160H180v160Zm440 0h160v-160H620v160Z\"/>\n",
              "  </svg>\n",
              "    </button>\n",
              "\n",
              "  <style>\n",
              "    .colab-df-container {\n",
              "      display:flex;\n",
              "      gap: 12px;\n",
              "    }\n",
              "\n",
              "    .colab-df-convert {\n",
              "      background-color: #E8F0FE;\n",
              "      border: none;\n",
              "      border-radius: 50%;\n",
              "      cursor: pointer;\n",
              "      display: none;\n",
              "      fill: #1967D2;\n",
              "      height: 32px;\n",
              "      padding: 0 0 0 0;\n",
              "      width: 32px;\n",
              "    }\n",
              "\n",
              "    .colab-df-convert:hover {\n",
              "      background-color: #E2EBFA;\n",
              "      box-shadow: 0px 1px 2px rgba(60, 64, 67, 0.3), 0px 1px 3px 1px rgba(60, 64, 67, 0.15);\n",
              "      fill: #174EA6;\n",
              "    }\n",
              "\n",
              "    .colab-df-buttons div {\n",
              "      margin-bottom: 4px;\n",
              "    }\n",
              "\n",
              "    [theme=dark] .colab-df-convert {\n",
              "      background-color: #3B4455;\n",
              "      fill: #D2E3FC;\n",
              "    }\n",
              "\n",
              "    [theme=dark] .colab-df-convert:hover {\n",
              "      background-color: #434B5C;\n",
              "      box-shadow: 0px 1px 3px 1px rgba(0, 0, 0, 0.15);\n",
              "      filter: drop-shadow(0px 1px 2px rgba(0, 0, 0, 0.3));\n",
              "      fill: #FFFFFF;\n",
              "    }\n",
              "  </style>\n",
              "\n",
              "    <script>\n",
              "      const buttonEl =\n",
              "        document.querySelector('#df-02f11ae9-bd27-4c19-855b-1ead2115a483 button.colab-df-convert');\n",
              "      buttonEl.style.display =\n",
              "        google.colab.kernel.accessAllowed ? 'block' : 'none';\n",
              "\n",
              "      async function convertToInteractive(key) {\n",
              "        const element = document.querySelector('#df-02f11ae9-bd27-4c19-855b-1ead2115a483');\n",
              "        const dataTable =\n",
              "          await google.colab.kernel.invokeFunction('convertToInteractive',\n",
              "                                                    [key], {});\n",
              "        if (!dataTable) return;\n",
              "\n",
              "        const docLinkHtml = 'Like what you see? Visit the ' +\n",
              "          '<a target=\"_blank\" href=https://colab.research.google.com/notebooks/data_table.ipynb>data table notebook</a>'\n",
              "          + ' to learn more about interactive tables.';\n",
              "        element.innerHTML = '';\n",
              "        dataTable['output_type'] = 'display_data';\n",
              "        await google.colab.output.renderOutput(dataTable, element);\n",
              "        const docLink = document.createElement('div');\n",
              "        docLink.innerHTML = docLinkHtml;\n",
              "        element.appendChild(docLink);\n",
              "      }\n",
              "    </script>\n",
              "  </div>\n",
              "\n",
              "\n",
              "<div id=\"df-164acb7e-c9d0-4dc8-8f4e-dc4758f248c9\">\n",
              "  <button class=\"colab-df-quickchart\" onclick=\"quickchart('df-164acb7e-c9d0-4dc8-8f4e-dc4758f248c9')\"\n",
              "            title=\"Suggest charts.\"\n",
              "            style=\"display:none;\">\n",
              "\n",
              "<svg xmlns=\"http://www.w3.org/2000/svg\" height=\"24px\"viewBox=\"0 0 24 24\"\n",
              "     width=\"24px\">\n",
              "    <g>\n",
              "        <path d=\"M19 3H5c-1.1 0-2 .9-2 2v14c0 1.1.9 2 2 2h14c1.1 0 2-.9 2-2V5c0-1.1-.9-2-2-2zM9 17H7v-7h2v7zm4 0h-2V7h2v10zm4 0h-2v-4h2v4z\"/>\n",
              "    </g>\n",
              "</svg>\n",
              "  </button>\n",
              "\n",
              "<style>\n",
              "  .colab-df-quickchart {\n",
              "      --bg-color: #E8F0FE;\n",
              "      --fill-color: #1967D2;\n",
              "      --hover-bg-color: #E2EBFA;\n",
              "      --hover-fill-color: #174EA6;\n",
              "      --disabled-fill-color: #AAA;\n",
              "      --disabled-bg-color: #DDD;\n",
              "  }\n",
              "\n",
              "  [theme=dark] .colab-df-quickchart {\n",
              "      --bg-color: #3B4455;\n",
              "      --fill-color: #D2E3FC;\n",
              "      --hover-bg-color: #434B5C;\n",
              "      --hover-fill-color: #FFFFFF;\n",
              "      --disabled-bg-color: #3B4455;\n",
              "      --disabled-fill-color: #666;\n",
              "  }\n",
              "\n",
              "  .colab-df-quickchart {\n",
              "    background-color: var(--bg-color);\n",
              "    border: none;\n",
              "    border-radius: 50%;\n",
              "    cursor: pointer;\n",
              "    display: none;\n",
              "    fill: var(--fill-color);\n",
              "    height: 32px;\n",
              "    padding: 0;\n",
              "    width: 32px;\n",
              "  }\n",
              "\n",
              "  .colab-df-quickchart:hover {\n",
              "    background-color: var(--hover-bg-color);\n",
              "    box-shadow: 0 1px 2px rgba(60, 64, 67, 0.3), 0 1px 3px 1px rgba(60, 64, 67, 0.15);\n",
              "    fill: var(--button-hover-fill-color);\n",
              "  }\n",
              "\n",
              "  .colab-df-quickchart-complete:disabled,\n",
              "  .colab-df-quickchart-complete:disabled:hover {\n",
              "    background-color: var(--disabled-bg-color);\n",
              "    fill: var(--disabled-fill-color);\n",
              "    box-shadow: none;\n",
              "  }\n",
              "\n",
              "  .colab-df-spinner {\n",
              "    border: 2px solid var(--fill-color);\n",
              "    border-color: transparent;\n",
              "    border-bottom-color: var(--fill-color);\n",
              "    animation:\n",
              "      spin 1s steps(1) infinite;\n",
              "  }\n",
              "\n",
              "  @keyframes spin {\n",
              "    0% {\n",
              "      border-color: transparent;\n",
              "      border-bottom-color: var(--fill-color);\n",
              "      border-left-color: var(--fill-color);\n",
              "    }\n",
              "    20% {\n",
              "      border-color: transparent;\n",
              "      border-left-color: var(--fill-color);\n",
              "      border-top-color: var(--fill-color);\n",
              "    }\n",
              "    30% {\n",
              "      border-color: transparent;\n",
              "      border-left-color: var(--fill-color);\n",
              "      border-top-color: var(--fill-color);\n",
              "      border-right-color: var(--fill-color);\n",
              "    }\n",
              "    40% {\n",
              "      border-color: transparent;\n",
              "      border-right-color: var(--fill-color);\n",
              "      border-top-color: var(--fill-color);\n",
              "    }\n",
              "    60% {\n",
              "      border-color: transparent;\n",
              "      border-right-color: var(--fill-color);\n",
              "    }\n",
              "    80% {\n",
              "      border-color: transparent;\n",
              "      border-right-color: var(--fill-color);\n",
              "      border-bottom-color: var(--fill-color);\n",
              "    }\n",
              "    90% {\n",
              "      border-color: transparent;\n",
              "      border-bottom-color: var(--fill-color);\n",
              "    }\n",
              "  }\n",
              "</style>\n",
              "\n",
              "  <script>\n",
              "    async function quickchart(key) {\n",
              "      const quickchartButtonEl =\n",
              "        document.querySelector('#' + key + ' button');\n",
              "      quickchartButtonEl.disabled = true;  // To prevent multiple clicks.\n",
              "      quickchartButtonEl.classList.add('colab-df-spinner');\n",
              "      try {\n",
              "        const charts = await google.colab.kernel.invokeFunction(\n",
              "            'suggestCharts', [key], {});\n",
              "      } catch (error) {\n",
              "        console.error('Error during call to suggestCharts:', error);\n",
              "      }\n",
              "      quickchartButtonEl.classList.remove('colab-df-spinner');\n",
              "      quickchartButtonEl.classList.add('colab-df-quickchart-complete');\n",
              "    }\n",
              "    (() => {\n",
              "      let quickchartButtonEl =\n",
              "        document.querySelector('#df-164acb7e-c9d0-4dc8-8f4e-dc4758f248c9 button');\n",
              "      quickchartButtonEl.style.display =\n",
              "        google.colab.kernel.accessAllowed ? 'block' : 'none';\n",
              "    })();\n",
              "  </script>\n",
              "</div>\n",
              "    </div>\n",
              "  </div>\n"
            ]
          },
          "metadata": {},
          "execution_count": 168
        }
      ]
    },
    {
      "cell_type": "code",
      "source": [
        "#NORMALISASI\n",
        "from sklearn.preprocessing import MinMaxScaler\n",
        "x = df_feat_hirarki.values #returns a numpy array\n",
        "min_max_scaler = MinMaxScaler()\n",
        "df_feat_hirarki_t = min_max_scaler.fit_transform(x)\n",
        "df_feat_hirarki_t [0:5]"
      ],
      "metadata": {
        "colab": {
          "base_uri": "https://localhost:8080/"
        },
        "id": "TL35HTTJLIEe",
        "outputId": "8f3a6be6-cfdf-4720-994b-5c2fa19407ee"
      },
      "execution_count": 169,
      "outputs": [
        {
          "output_type": "execute_result",
          "data": {
            "text/plain": [
              "array([[0.01923077, 0.        , 0.3877551 ],\n",
              "       [0.05769231, 0.        , 0.81632653],\n",
              "       [0.03846154, 0.00819672, 0.05102041],\n",
              "       [0.09615385, 0.00819672, 0.7755102 ],\n",
              "       [0.25      , 0.01639344, 0.39795918]])"
            ]
          },
          "metadata": {},
          "execution_count": 169
        }
      ]
    },
    {
      "cell_type": "code",
      "source": [
        "#CLUSTERING USING EUCLIDIEN DISTANCE\n",
        "\n",
        "from sklearn.metrics.pairwise import euclidean_distances\n",
        "dist_matrix = euclidean_distances(df_feat_hirarki_t,df_feat_hirarki_t)\n",
        "print(dist_matrix)"
      ],
      "metadata": {
        "colab": {
          "base_uri": "https://localhost:8080/"
        },
        "id": "jlJJrFFCLZ07",
        "outputId": "e0a23c2d-5193-4692-c00e-cb55cb20d682"
      },
      "execution_count": 170,
      "outputs": [
        {
          "output_type": "stream",
          "name": "stdout",
          "text": [
            "[[0.         0.43029381 0.33738296 ... 1.00888686 1.0528145  1.11639204]\n",
            " [0.43029381 0.         0.76559158 ... 0.93683095 1.20748243 1.01507247]\n",
            " [0.33738296 0.76559158 0.         ... 1.16089362 1.02563246 1.27984489]\n",
            " ...\n",
            " [1.00888686 0.93683095 1.16089362 ... 0.         0.57849818 0.13432353]\n",
            " [1.0528145  1.20748243 1.02563246 ... 0.57849818 0.         0.66437953]\n",
            " [1.11639204 1.01507247 1.27984489 ... 0.13432353 0.66437953 0.        ]]\n"
          ]
        }
      ]
    },
    {
      "cell_type": "markdown",
      "source": [
        "#Menggunakan Linkage Complete"
      ],
      "metadata": {
        "id": "X1b-c-Gqho4K"
      }
    },
    {
      "cell_type": "code",
      "source": [
        "complete = hierarchy.linkage(dist_matrix, 'complete')\n",
        "dendro_comp = hierarchy.dendrogram(complete)"
      ],
      "metadata": {
        "colab": {
          "base_uri": "https://localhost:8080/",
          "height": 498
        },
        "id": "hS_O0hg6LiyI",
        "outputId": "7be3674b-4825-4e3f-fb3e-c42c2bb93350"
      },
      "execution_count": 171,
      "outputs": [
        {
          "output_type": "stream",
          "name": "stderr",
          "text": [
            "<ipython-input-171-c93043a81965>:1: ClusterWarning:\n",
            "\n",
            "scipy.cluster: The symmetric non-negative hollow observation matrix looks suspiciously like an uncondensed distance matrix\n",
            "\n"
          ]
        },
        {
          "output_type": "display_data",
          "data": {
            "text/plain": [
              "<Figure size 640x480 with 1 Axes>"
            ],
            "image/png": "[encoded data removed]"
          },
          "metadata": {}
        }
      ]
    },
    {
      "cell_type": "markdown",
      "source": [
        "n_cluster optimal dari visualisasi di atas adalah 7"
      ],
      "metadata": {
        "id": "VfKQBCjL8QCo"
      }
    },
    {
      "cell_type": "code",
      "source": [
        "##TESTING dengan n_cluster = 5\n",
        "\n",
        "agglom = AgglomerativeClustering(n_clusters = 5, linkage = 'complete')\n",
        "agglom.fit(dist_matrix)\n",
        "\n",
        "df_feat_hirarki['kmeans_5'] = agglom.labels_"
      ],
      "metadata": {
        "colab": {
          "base_uri": "https://localhost:8080/"
        },
        "id": "WwPbO4g3Li15",
        "outputId": "9c444d3a-880d-4fd0-b769-413c50c81950"
      },
      "execution_count": 172,
      "outputs": [
        {
          "output_type": "stream",
          "name": "stderr",
          "text": [
            "/usr/local/lib/python3.10/dist-packages/sklearn/cluster/_agglomerative.py:544: ClusterWarning:\n",
            "\n",
            "scipy.cluster: The symmetric non-negative hollow observation matrix looks suspiciously like an uncondensed distance matrix\n",
            "\n",
            "<ipython-input-172-e6d65660d6a2>:6: SettingWithCopyWarning:\n",
            "\n",
            "\n",
            "A value is trying to be set on a copy of a slice from a DataFrame.\n",
            "Try using .loc[row_indexer,col_indexer] = value instead\n",
            "\n",
            "See the caveats in the documentation: https://pandas.pydata.org/pandas-docs/stable/user_guide/indexing.html#returning-a-view-versus-a-copy\n",
            "\n"
          ]
        }
      ]
    },
    {
      "cell_type": "code",
      "source": [
        "from sklearn.metrics import silhouette_score as ss\n",
        "ss(dist_matrix, df_feat_hirarki['kmeans_5'])"
      ],
      "metadata": {
        "colab": {
          "base_uri": "https://localhost:8080/"
        },
        "id": "YqQZSPiCePya",
        "outputId": "e633c40d-2b8f-451e-f347-0db41bac5bde"
      },
      "execution_count": 173,
      "outputs": [
        {
          "output_type": "execute_result",
          "data": {
            "text/plain": [
              "0.22703517721460678"
            ]
          },
          "metadata": {},
          "execution_count": 173
        }
      ]
    },
    {
      "cell_type": "code",
      "source": [
        "##TESTING dengan n_cluster = 6\n",
        "\n",
        "agglom = AgglomerativeClustering(n_clusters = 6, linkage = 'complete')\n",
        "agglom.fit(dist_matrix)\n",
        "\n",
        "df_feat_hirarki['kmeans_6'] = agglom.labels_"
      ],
      "metadata": {
        "colab": {
          "base_uri": "https://localhost:8080/"
        },
        "id": "OVq9yV67euzf",
        "outputId": "8b527f9e-7376-4df4-f0b3-b5dc9908c4b5"
      },
      "execution_count": 174,
      "outputs": [
        {
          "output_type": "stream",
          "name": "stderr",
          "text": [
            "/usr/local/lib/python3.10/dist-packages/sklearn/cluster/_agglomerative.py:544: ClusterWarning:\n",
            "\n",
            "scipy.cluster: The symmetric non-negative hollow observation matrix looks suspiciously like an uncondensed distance matrix\n",
            "\n"
          ]
        }
      ]
    },
    {
      "cell_type": "code",
      "source": [
        "from sklearn.metrics import silhouette_score as ss\n",
        "ss(dist_matrix, df_feat_hirarki['kmeans_6'])"
      ],
      "metadata": {
        "colab": {
          "base_uri": "https://localhost:8080/"
        },
        "id": "_gv0aXJVe0Oh",
        "outputId": "eb9a95e8-4463-4763-c904-4b45bf53af4c"
      },
      "execution_count": 175,
      "outputs": [
        {
          "output_type": "execute_result",
          "data": {
            "text/plain": [
              "0.2507377813698712"
            ]
          },
          "metadata": {},
          "execution_count": 175
        }
      ]
    },
    {
      "cell_type": "code",
      "source": [
        "##TESTING dengan n_cluster = 7\n",
        "\n",
        "agglom = AgglomerativeClustering(n_clusters = 7, linkage = 'complete')\n",
        "agglom.fit(dist_matrix)\n",
        "\n",
        "df_feat_hirarki['kmeans_7'] = agglom.labels_"
      ],
      "metadata": {
        "colab": {
          "base_uri": "https://localhost:8080/"
        },
        "id": "Y_mrc6Nde6NV",
        "outputId": "d68fcb6f-59e2-4bed-ff80-7387278e8b76"
      },
      "execution_count": 176,
      "outputs": [
        {
          "output_type": "stream",
          "name": "stderr",
          "text": [
            "/usr/local/lib/python3.10/dist-packages/sklearn/cluster/_agglomerative.py:544: ClusterWarning:\n",
            "\n",
            "scipy.cluster: The symmetric non-negative hollow observation matrix looks suspiciously like an uncondensed distance matrix\n",
            "\n"
          ]
        }
      ]
    },
    {
      "cell_type": "code",
      "source": [
        "from sklearn.metrics import silhouette_score as ss\n",
        "ss(dist_matrix, df_feat_hirarki['kmeans_7'])"
      ],
      "metadata": {
        "colab": {
          "base_uri": "https://localhost:8080/"
        },
        "id": "MBY2f5Xme_Ds",
        "outputId": "e76c06be-155b-44ad-a58a-91f607de97dd"
      },
      "execution_count": 177,
      "outputs": [
        {
          "output_type": "execute_result",
          "data": {
            "text/plain": [
              "0.26166557570616006"
            ]
          },
          "metadata": {},
          "execution_count": 177
        }
      ]
    },
    {
      "cell_type": "code",
      "source": [
        "##TESTING dengan n_cluster = 8\n",
        "\n",
        "agglom = AgglomerativeClustering(n_clusters = 8, linkage = 'complete')\n",
        "agglom.fit(dist_matrix)\n",
        "\n",
        "df_feat_hirarki['kmeans_8'] = agglom.labels_"
      ],
      "metadata": {
        "colab": {
          "base_uri": "https://localhost:8080/"
        },
        "id": "wZP03g_mgocy",
        "outputId": "e94d1a7c-0a4a-482d-d292-e4a5549f1a42"
      },
      "execution_count": 178,
      "outputs": [
        {
          "output_type": "stream",
          "name": "stderr",
          "text": [
            "/usr/local/lib/python3.10/dist-packages/sklearn/cluster/_agglomerative.py:544: ClusterWarning:\n",
            "\n",
            "scipy.cluster: The symmetric non-negative hollow observation matrix looks suspiciously like an uncondensed distance matrix\n",
            "\n"
          ]
        }
      ]
    },
    {
      "cell_type": "code",
      "source": [
        "from sklearn.metrics import silhouette_score as ss\n",
        "ss(dist_matrix, df_feat_hirarki['kmeans_8'])"
      ],
      "metadata": {
        "colab": {
          "base_uri": "https://localhost:8080/"
        },
        "id": "rFPyRkDSgxMJ",
        "outputId": "52c39a7a-51a4-4bfa-8943-267a380b37a7"
      },
      "execution_count": 179,
      "outputs": [
        {
          "output_type": "execute_result",
          "data": {
            "text/plain": [
              "0.2708746050330789"
            ]
          },
          "metadata": {},
          "execution_count": 179
        }
      ]
    },
    {
      "cell_type": "code",
      "source": [
        "df_feat_hirarki.head()"
      ],
      "metadata": {
        "colab": {
          "base_uri": "https://localhost:8080/",
          "height": 206
        },
        "id": "C32iGVAcg3j3",
        "outputId": "1e511bed-8956-4c0c-e773-f8f1e5820b2a"
      },
      "execution_count": 180,
      "outputs": [
        {
          "output_type": "execute_result",
          "data": {
            "text/plain": [
              "   Age  Annual Income (k$)  Spending Score (1-100)  kmeans_5  kmeans_6  \\\n",
              "0   19                  15                      39         1         0   \n",
              "1   21                  15                      81         2         2   \n",
              "2   20                  16                       6         1         0   \n",
              "3   23                  16                      77         2         2   \n",
              "4   31                  17                      40         0         5   \n",
              "\n",
              "   kmeans_7  kmeans_8  \n",
              "0         6         6  \n",
              "1         2         0  \n",
              "2         6         6  \n",
              "3         2         0  \n",
              "4         5         2  "
            ],
            "text/html": [
              "\n",
              "  <div id=\"df-0ffc7e3f-3bd7-4154-a091-0b4c85d95fbd\" class=\"colab-df-container\">\n",
              "    <div>\n",
              "<style scoped>\n",
              "    .dataframe tbody tr th:only-of-type {\n",
              "        vertical-align: middle;\n",
              "    }\n",
              "\n",
              "    .dataframe tbody tr th {\n",
              "        vertical-align: top;\n",
              "    }\n",
              "\n",
              "    .dataframe thead th {\n",
              "        text-align: right;\n",
              "    }\n",
              "</style>\n",
              "<table border=\"1\" class=\"dataframe\">\n",
              "  <thead>\n",
              "    <tr style=\"text-align: right;\">\n",
              "      <th></th>\n",
              "      <th>Age</th>\n",
              "      <th>Annual Income (k$)</th>\n",
              "      <th>Spending Score (1-100)</th>\n",
              "      <th>kmeans_5</th>\n",
              "      <th>kmeans_6</th>\n",
              "      <th>kmeans_7</th>\n",
              "      <th>kmeans_8</th>\n",
              "    </tr>\n",
              "  </thead>\n",
              "  <tbody>\n",
              "    <tr>\n",
              "      <th>0</th>\n",
              "      <td>19</td>\n",
              "      <td>15</td>\n",
              "      <td>39</td>\n",
              "      <td>1</td>\n",
              "      <td>0</td>\n",
              "      <td>6</td>\n",
              "      <td>6</td>\n",
              "    </tr>\n",
              "    <tr>\n",
              "      <th>1</th>\n",
              "      <td>21</td>\n",
              "      <td>15</td>\n",
              "      <td>81</td>\n",
              "      <td>2</td>\n",
              "      <td>2</td>\n",
              "      <td>2</td>\n",
              "      <td>0</td>\n",
              "    </tr>\n",
              "    <tr>\n",
              "      <th>2</th>\n",
              "      <td>20</td>\n",
              "      <td>16</td>\n",
              "      <td>6</td>\n",
              "      <td>1</td>\n",
              "      <td>0</td>\n",
              "      <td>6</td>\n",
              "      <td>6</td>\n",
              "    </tr>\n",
              "    <tr>\n",
              "      <th>3</th>\n",
              "      <td>23</td>\n",
              "      <td>16</td>\n",
              "      <td>77</td>\n",
              "      <td>2</td>\n",
              "      <td>2</td>\n",
              "      <td>2</td>\n",
              "      <td>0</td>\n",
              "    </tr>\n",
              "    <tr>\n",
              "      <th>4</th>\n",
              "      <td>31</td>\n",
              "      <td>17</td>\n",
              "      <td>40</td>\n",
              "      <td>0</td>\n",
              "      <td>5</td>\n",
              "      <td>5</td>\n",
              "      <td>2</td>\n",
              "    </tr>\n",
              "  </tbody>\n",
              "</table>\n",
              "</div>\n",
              "    <div class=\"colab-df-buttons\">\n",
              "\n",
              "  <div class=\"colab-df-container\">\n",
              "    <button class=\"colab-df-convert\" onclick=\"convertToInteractive('df-0ffc7e3f-3bd7-4154-a091-0b4c85d95fbd')\"\n",
              "            title=\"Convert this dataframe to an interactive table.\"\n",
              "            style=\"display:none;\">\n",
              "\n",
              "  <svg xmlns=\"http://www.w3.org/2000/svg\" height=\"24px\" viewBox=\"0 -960 960 960\">\n",
              "    <path d=\"M120-120v-720h720v720H120Zm60-500h600v-160H180v160Zm220 220h160v-160H400v160Zm0 220h160v-160H400v160ZM180-400h160v-160H180v160Zm440 0h160v-160H620v160ZM180-180h160v-160H180v160Zm440 0h160v-160H620v160Z\"/>\n",
              "  </svg>\n",
              "    </button>\n",
              "\n",
              "  <style>\n",
              "    .colab-df-container {\n",
              "      display:flex;\n",
              "      gap: 12px;\n",
              "    }\n",
              "\n",
              "    .colab-df-convert {\n",
              "      background-color: #E8F0FE;\n",
              "      border: none;\n",
              "      border-radius: 50%;\n",
              "      cursor: pointer;\n",
              "      display: none;\n",
              "      fill: #1967D2;\n",
              "      height: 32px;\n",
              "      padding: 0 0 0 0;\n",
              "      width: 32px;\n",
              "    }\n",
              "\n",
              "    .colab-df-convert:hover {\n",
              "      background-color: #E2EBFA;\n",
              "      box-shadow: 0px 1px 2px rgba(60, 64, 67, 0.3), 0px 1px 3px 1px rgba(60, 64, 67, 0.15);\n",
              "      fill: #174EA6;\n",
              "    }\n",
              "\n",
              "    .colab-df-buttons div {\n",
              "      margin-bottom: 4px;\n",
              "    }\n",
              "\n",
              "    [theme=dark] .colab-df-convert {\n",
              "      background-color: #3B4455;\n",
              "      fill: #D2E3FC;\n",
              "    }\n",
              "\n",
              "    [theme=dark] .colab-df-convert:hover {\n",
              "      background-color: #434B5C;\n",
              "      box-shadow: 0px 1px 3px 1px rgba(0, 0, 0, 0.15);\n",
              "      filter: drop-shadow(0px 1px 2px rgba(0, 0, 0, 0.3));\n",
              "      fill: #FFFFFF;\n",
              "    }\n",
              "  </style>\n",
              "\n",
              "    <script>\n",
              "      const buttonEl =\n",
              "        document.querySelector('#df-0ffc7e3f-3bd7-4154-a091-0b4c85d95fbd button.colab-df-convert');\n",
              "      buttonEl.style.display =\n",
              "        google.colab.kernel.accessAllowed ? 'block' : 'none';\n",
              "\n",
              "      async function convertToInteractive(key) {\n",
              "        const element = document.querySelector('#df-0ffc7e3f-3bd7-4154-a091-0b4c85d95fbd');\n",
              "        const dataTable =\n",
              "          await google.colab.kernel.invokeFunction('convertToInteractive',\n",
              "                                                    [key], {});\n",
              "        if (!dataTable) return;\n",
              "\n",
              "        const docLinkHtml = 'Like what you see? Visit the ' +\n",
              "          '<a target=\"_blank\" href=https://colab.research.google.com/notebooks/data_table.ipynb>data table notebook</a>'\n",
              "          + ' to learn more about interactive tables.';\n",
              "        element.innerHTML = '';\n",
              "        dataTable['output_type'] = 'display_data';\n",
              "        await google.colab.output.renderOutput(dataTable, element);\n",
              "        const docLink = document.createElement('div');\n",
              "        docLink.innerHTML = docLinkHtml;\n",
              "        element.appendChild(docLink);\n",
              "      }\n",
              "    </script>\n",
              "  </div>\n",
              "\n",
              "\n",
              "<div id=\"df-ab582870-63dc-4ed7-bd3d-1e000d3d750e\">\n",
              "  <button class=\"colab-df-quickchart\" onclick=\"quickchart('df-ab582870-63dc-4ed7-bd3d-1e000d3d750e')\"\n",
              "            title=\"Suggest charts.\"\n",
              "            style=\"display:none;\">\n",
              "\n",
              "<svg xmlns=\"http://www.w3.org/2000/svg\" height=\"24px\"viewBox=\"0 0 24 24\"\n",
              "     width=\"24px\">\n",
              "    <g>\n",
              "        <path d=\"M19 3H5c-1.1 0-2 .9-2 2v14c0 1.1.9 2 2 2h14c1.1 0 2-.9 2-2V5c0-1.1-.9-2-2-2zM9 17H7v-7h2v7zm4 0h-2V7h2v10zm4 0h-2v-4h2v4z\"/>\n",
              "    </g>\n",
              "</svg>\n",
              "  </button>\n",
              "\n",
              "<style>\n",
              "  .colab-df-quickchart {\n",
              "      --bg-color: #E8F0FE;\n",
              "      --fill-color: #1967D2;\n",
              "      --hover-bg-color: #E2EBFA;\n",
              "      --hover-fill-color: #174EA6;\n",
              "      --disabled-fill-color: #AAA;\n",
              "      --disabled-bg-color: #DDD;\n",
              "  }\n",
              "\n",
              "  [theme=dark] .colab-df-quickchart {\n",
              "      --bg-color: #3B4455;\n",
              "      --fill-color: #D2E3FC;\n",
              "      --hover-bg-color: #434B5C;\n",
              "      --hover-fill-color: #FFFFFF;\n",
              "      --disabled-bg-color: #3B4455;\n",
              "      --disabled-fill-color: #666;\n",
              "  }\n",
              "\n",
              "  .colab-df-quickchart {\n",
              "    background-color: var(--bg-color);\n",
              "    border: none;\n",
              "    border-radius: 50%;\n",
              "    cursor: pointer;\n",
              "    display: none;\n",
              "    fill: var(--fill-color);\n",
              "    height: 32px;\n",
              "    padding: 0;\n",
              "    width: 32px;\n",
              "  }\n",
              "\n",
              "  .colab-df-quickchart:hover {\n",
              "    background-color: var(--hover-bg-color);\n",
              "    box-shadow: 0 1px 2px rgba(60, 64, 67, 0.3), 0 1px 3px 1px rgba(60, 64, 67, 0.15);\n",
              "    fill: var(--button-hover-fill-color);\n",
              "  }\n",
              "\n",
              "  .colab-df-quickchart-complete:disabled,\n",
              "  .colab-df-quickchart-complete:disabled:hover {\n",
              "    background-color: var(--disabled-bg-color);\n",
              "    fill: var(--disabled-fill-color);\n",
              "    box-shadow: none;\n",
              "  }\n",
              "\n",
              "  .colab-df-spinner {\n",
              "    border: 2px solid var(--fill-color);\n",
              "    border-color: transparent;\n",
              "    border-bottom-color: var(--fill-color);\n",
              "    animation:\n",
              "      spin 1s steps(1) infinite;\n",
              "  }\n",
              "\n",
              "  @keyframes spin {\n",
              "    0% {\n",
              "      border-color: transparent;\n",
              "      border-bottom-color: var(--fill-color);\n",
              "      border-left-color: var(--fill-color);\n",
              "    }\n",
              "    20% {\n",
              "      border-color: transparent;\n",
              "      border-left-color: var(--fill-color);\n",
              "      border-top-color: var(--fill-color);\n",
              "    }\n",
              "    30% {\n",
              "      border-color: transparent;\n",
              "      border-left-color: var(--fill-color);\n",
              "      border-top-color: var(--fill-color);\n",
              "      border-right-color: var(--fill-color);\n",
              "    }\n",
              "    40% {\n",
              "      border-color: transparent;\n",
              "      border-right-color: var(--fill-color);\n",
              "      border-top-color: var(--fill-color);\n",
              "    }\n",
              "    60% {\n",
              "      border-color: transparent;\n",
              "      border-right-color: var(--fill-color);\n",
              "    }\n",
              "    80% {\n",
              "      border-color: transparent;\n",
              "      border-right-color: var(--fill-color);\n",
              "      border-bottom-color: var(--fill-color);\n",
              "    }\n",
              "    90% {\n",
              "      border-color: transparent;\n",
              "      border-bottom-color: var(--fill-color);\n",
              "    }\n",
              "  }\n",
              "</style>\n",
              "\n",
              "  <script>\n",
              "    async function quickchart(key) {\n",
              "      const quickchartButtonEl =\n",
              "        document.querySelector('#' + key + ' button');\n",
              "      quickchartButtonEl.disabled = true;  // To prevent multiple clicks.\n",
              "      quickchartButtonEl.classList.add('colab-df-spinner');\n",
              "      try {\n",
              "        const charts = await google.colab.kernel.invokeFunction(\n",
              "            'suggestCharts', [key], {});\n",
              "      } catch (error) {\n",
              "        console.error('Error during call to suggestCharts:', error);\n",
              "      }\n",
              "      quickchartButtonEl.classList.remove('colab-df-spinner');\n",
              "      quickchartButtonEl.classList.add('colab-df-quickchart-complete');\n",
              "    }\n",
              "    (() => {\n",
              "      let quickchartButtonEl =\n",
              "        document.querySelector('#df-ab582870-63dc-4ed7-bd3d-1e000d3d750e button');\n",
              "      quickchartButtonEl.style.display =\n",
              "        google.colab.kernel.accessAllowed ? 'block' : 'none';\n",
              "    })();\n",
              "  </script>\n",
              "</div>\n",
              "    </div>\n",
              "  </div>\n"
            ]
          },
          "metadata": {},
          "execution_count": 180
        }
      ]
    },
    {
      "cell_type": "markdown",
      "source": [
        "#Menggunakan Linkage Average"
      ],
      "metadata": {
        "id": "whou7sHThf0A"
      }
    },
    {
      "cell_type": "code",
      "source": [
        "average = hierarchy.linkage(dist_matrix, 'average')\n",
        "dendro_avg = hierarchy.dendrogram(average)"
      ],
      "metadata": {
        "colab": {
          "base_uri": "https://localhost:8080/",
          "height": 498
        },
        "id": "26sYH5m3hugj",
        "outputId": "478a0eba-64aa-4d17-942c-1f1d2ccaff76"
      },
      "execution_count": 181,
      "outputs": [
        {
          "output_type": "stream",
          "name": "stderr",
          "text": [
            "<ipython-input-181-28113871fea4>:1: ClusterWarning:\n",
            "\n",
            "scipy.cluster: The symmetric non-negative hollow observation matrix looks suspiciously like an uncondensed distance matrix\n",
            "\n"
          ]
        },
        {
          "output_type": "display_data",
          "data": {
            "text/plain": [
              "<Figure size 640x480 with 1 Axes>"
            ],
            "image/png": "[encoded data removed]"
          },
          "metadata": {}
        }
      ]
    },
    {
      "cell_type": "code",
      "source": [
        "##TESTING dengan n_cluster = 4\n",
        "\n",
        "agglom = AgglomerativeClustering(n_clusters = 4, linkage = 'average')\n",
        "agglom.fit(dist_matrix)\n",
        "\n",
        "df_feat_hirarki['kmeans_avg_4'] = agglom.labels_"
      ],
      "metadata": {
        "colab": {
          "base_uri": "https://localhost:8080/"
        },
        "id": "Jew9LWvRi4MT",
        "outputId": "c20206f7-8f3c-4c48-9b61-2dccbccf4881"
      },
      "execution_count": 182,
      "outputs": [
        {
          "output_type": "stream",
          "name": "stderr",
          "text": [
            "/usr/local/lib/python3.10/dist-packages/sklearn/cluster/_agglomerative.py:544: ClusterWarning:\n",
            "\n",
            "scipy.cluster: The symmetric non-negative hollow observation matrix looks suspiciously like an uncondensed distance matrix\n",
            "\n"
          ]
        }
      ]
    },
    {
      "cell_type": "code",
      "source": [
        "from sklearn.metrics import silhouette_score as ss\n",
        "ss(dist_matrix, df_feat_hirarki['kmeans_avg_4'])"
      ],
      "metadata": {
        "colab": {
          "base_uri": "https://localhost:8080/"
        },
        "id": "Spjif6Sqi_u4",
        "outputId": "4c46bd3e-0205-4f78-f949-bc09bc10dbd1"
      },
      "execution_count": 183,
      "outputs": [
        {
          "output_type": "execute_result",
          "data": {
            "text/plain": [
              "0.34169507492884515"
            ]
          },
          "metadata": {},
          "execution_count": 183
        }
      ]
    },
    {
      "cell_type": "code",
      "source": [
        "##TESTING dengan n_cluster = 5\n",
        "\n",
        "agglom = AgglomerativeClustering(n_clusters = 5, linkage = 'average')\n",
        "agglom.fit(dist_matrix)\n",
        "\n",
        "df_feat_hirarki['kmeans_avg_5'] = agglom.labels_"
      ],
      "metadata": {
        "colab": {
          "base_uri": "https://localhost:8080/"
        },
        "id": "leEUe-vwh8CB",
        "outputId": "f5aba0eb-03df-4044-87f4-b127aadfa24a"
      },
      "execution_count": 184,
      "outputs": [
        {
          "output_type": "stream",
          "name": "stderr",
          "text": [
            "/usr/local/lib/python3.10/dist-packages/sklearn/cluster/_agglomerative.py:544: ClusterWarning:\n",
            "\n",
            "scipy.cluster: The symmetric non-negative hollow observation matrix looks suspiciously like an uncondensed distance matrix\n",
            "\n"
          ]
        }
      ]
    },
    {
      "cell_type": "code",
      "source": [
        "from sklearn.metrics import silhouette_score as ss\n",
        "ss(dist_matrix, df_feat_hirarki['kmeans_avg_5'])"
      ],
      "metadata": {
        "colab": {
          "base_uri": "https://localhost:8080/"
        },
        "id": "JWLU4d_biFOX",
        "outputId": "94e1c615-62dd-4f8e-d9d0-02ee417c12ac"
      },
      "execution_count": 185,
      "outputs": [
        {
          "output_type": "execute_result",
          "data": {
            "text/plain": [
              "0.35917057572391475"
            ]
          },
          "metadata": {},
          "execution_count": 185
        }
      ]
    },
    {
      "cell_type": "code",
      "source": [
        "##TESTING dengan n_cluster = 6\n",
        "\n",
        "agglom = AgglomerativeClustering(n_clusters = 6, linkage = 'average')\n",
        "agglom.fit(dist_matrix)\n",
        "\n",
        "df_feat_hirarki['kmeans_avg_6'] = agglom.labels_"
      ],
      "metadata": {
        "colab": {
          "base_uri": "https://localhost:8080/"
        },
        "id": "2wy8kpNSiTdM",
        "outputId": "df7c29d6-0296-4a20-f095-1fa6e745c6c5"
      },
      "execution_count": 186,
      "outputs": [
        {
          "output_type": "stream",
          "name": "stderr",
          "text": [
            "/usr/local/lib/python3.10/dist-packages/sklearn/cluster/_agglomerative.py:544: ClusterWarning:\n",
            "\n",
            "scipy.cluster: The symmetric non-negative hollow observation matrix looks suspiciously like an uncondensed distance matrix\n",
            "\n"
          ]
        }
      ]
    },
    {
      "cell_type": "code",
      "source": [
        "from sklearn.metrics import silhouette_score as ss\n",
        "ss(dist_matrix, df_feat_hirarki['kmeans_avg_6'])"
      ],
      "metadata": {
        "colab": {
          "base_uri": "https://localhost:8080/"
        },
        "id": "A9AfphlIieiU",
        "outputId": "7ef61969-d4c7-4264-c596-60890af94332"
      },
      "execution_count": 187,
      "outputs": [
        {
          "output_type": "execute_result",
          "data": {
            "text/plain": [
              "0.35965051977068035"
            ]
          },
          "metadata": {},
          "execution_count": 187
        }
      ]
    },
    {
      "cell_type": "code",
      "source": [
        "##TESTING dengan n_cluster = 7\n",
        "\n",
        "agglom = AgglomerativeClustering(n_clusters = 7, linkage = 'average')\n",
        "agglom.fit(dist_matrix)\n",
        "\n",
        "df_feat_hirarki['kmeans_avg_7'] = agglom.labels_"
      ],
      "metadata": {
        "colab": {
          "base_uri": "https://localhost:8080/"
        },
        "id": "j1kcDJnEil8B",
        "outputId": "0ea7e64b-57e9-4705-f32a-bf2fbe6b8fef"
      },
      "execution_count": 188,
      "outputs": [
        {
          "output_type": "stream",
          "name": "stderr",
          "text": [
            "/usr/local/lib/python3.10/dist-packages/sklearn/cluster/_agglomerative.py:544: ClusterWarning:\n",
            "\n",
            "scipy.cluster: The symmetric non-negative hollow observation matrix looks suspiciously like an uncondensed distance matrix\n",
            "\n"
          ]
        }
      ]
    },
    {
      "cell_type": "code",
      "source": [
        "from sklearn.metrics import silhouette_score as ss\n",
        "ss(dist_matrix, df_feat_hirarki['kmeans_avg_7'])"
      ],
      "metadata": {
        "colab": {
          "base_uri": "https://localhost:8080/"
        },
        "id": "YAABzfm-irBe",
        "outputId": "401ebf04-835d-4c1d-f5a0-b8677bf708fe"
      },
      "execution_count": 189,
      "outputs": [
        {
          "output_type": "execute_result",
          "data": {
            "text/plain": [
              "0.36477875536332116"
            ]
          },
          "metadata": {},
          "execution_count": 189
        }
      ]
    },
    {
      "cell_type": "code",
      "source": [
        "##TESTING dengan n_cluster = 8\n",
        "\n",
        "agglom = AgglomerativeClustering(n_clusters = 8, linkage = 'average')\n",
        "agglom.fit(dist_matrix)\n",
        "\n",
        "df_feat_hirarki['kmeans_avg_8'] = agglom.labels_"
      ],
      "metadata": {
        "colab": {
          "base_uri": "https://localhost:8080/"
        },
        "id": "dVVx72ODivG1",
        "outputId": "8801e627-3a39-45df-ad67-924f5d1b3133"
      },
      "execution_count": 190,
      "outputs": [
        {
          "output_type": "stream",
          "name": "stderr",
          "text": [
            "/usr/local/lib/python3.10/dist-packages/sklearn/cluster/_agglomerative.py:544: ClusterWarning:\n",
            "\n",
            "scipy.cluster: The symmetric non-negative hollow observation matrix looks suspiciously like an uncondensed distance matrix\n",
            "\n"
          ]
        }
      ]
    },
    {
      "cell_type": "code",
      "source": [
        "from sklearn.metrics import silhouette_score as ss\n",
        "ss(dist_matrix, df_feat_hirarki['kmeans_avg_8'])"
      ],
      "metadata": {
        "colab": {
          "base_uri": "https://localhost:8080/"
        },
        "id": "uvahyWC-izuX",
        "outputId": "fbfc5bdf-07f3-4d1a-8c9b-367b2b606e91"
      },
      "execution_count": 191,
      "outputs": [
        {
          "output_type": "execute_result",
          "data": {
            "text/plain": [
              "0.3965943955447762"
            ]
          },
          "metadata": {},
          "execution_count": 191
        }
      ]
    },
    {
      "cell_type": "code",
      "source": [
        "df_feat_hirarki.head()"
      ],
      "metadata": {
        "colab": {
          "base_uri": "https://localhost:8080/",
          "height": 261
        },
        "id": "8SLq1TsJk3B1",
        "outputId": "2a3233bc-645a-4db7-b4b9-841ad78e5185"
      },
      "execution_count": 192,
      "outputs": [
        {
          "output_type": "execute_result",
          "data": {
            "text/plain": [
              "   Age  Annual Income (k$)  Spending Score (1-100)  kmeans_5  kmeans_6  \\\n",
              "0   19                  15                      39         1         0   \n",
              "1   21                  15                      81         2         2   \n",
              "2   20                  16                       6         1         0   \n",
              "3   23                  16                      77         2         2   \n",
              "4   31                  17                      40         0         5   \n",
              "\n",
              "   kmeans_7  kmeans_8  kmeans_avg_4  kmeans_avg_5  kmeans_avg_6  kmeans_avg_7  \\\n",
              "0         6         6             0             2             2             0   \n",
              "1         2         0             0             2             2             0   \n",
              "2         6         6             2             0             5             2   \n",
              "3         2         0             0             2             2             0   \n",
              "4         5         2             3             3             3             3   \n",
              "\n",
              "   kmeans_avg_8  \n",
              "0             4  \n",
              "1             4  \n",
              "2             2  \n",
              "3             4  \n",
              "4             3  "
            ],
            "text/html": [
              "\n",
              "  <div id=\"df-72fdd6a7-1baa-4d5f-b961-8276f0882407\" class=\"colab-df-container\">\n",
              "    <div>\n",
              "<style scoped>\n",
              "    .dataframe tbody tr th:only-of-type {\n",
              "        vertical-align: middle;\n",
              "    }\n",
              "\n",
              "    .dataframe tbody tr th {\n",
              "        vertical-align: top;\n",
              "    }\n",
              "\n",
              "    .dataframe thead th {\n",
              "        text-align: right;\n",
              "    }\n",
              "</style>\n",
              "<table border=\"1\" class=\"dataframe\">\n",
              "  <thead>\n",
              "    <tr style=\"text-align: right;\">\n",
              "      <th></th>\n",
              "      <th>Age</th>\n",
              "      <th>Annual Income (k$)</th>\n",
              "      <th>Spending Score (1-100)</th>\n",
              "      <th>kmeans_5</th>\n",
              "      <th>kmeans_6</th>\n",
              "      <th>kmeans_7</th>\n",
              "      <th>kmeans_8</th>\n",
              "      <th>kmeans_avg_4</th>\n",
              "      <th>kmeans_avg_5</th>\n",
              "      <th>kmeans_avg_6</th>\n",
              "      <th>kmeans_avg_7</th>\n",
              "      <th>kmeans_avg_8</th>\n",
              "    </tr>\n",
              "  </thead>\n",
              "  <tbody>\n",
              "    <tr>\n",
              "      <th>0</th>\n",
              "      <td>19</td>\n",
              "      <td>15</td>\n",
              "      <td>39</td>\n",
              "      <td>1</td>\n",
              "      <td>0</td>\n",
              "      <td>6</td>\n",
              "      <td>6</td>\n",
              "      <td>0</td>\n",
              "      <td>2</td>\n",
              "      <td>2</td>\n",
              "      <td>0</td>\n",
              "      <td>4</td>\n",
              "    </tr>\n",
              "    <tr>\n",
              "      <th>1</th>\n",
              "      <td>21</td>\n",
              "      <td>15</td>\n",
              "      <td>81</td>\n",
              "      <td>2</td>\n",
              "      <td>2</td>\n",
              "      <td>2</td>\n",
              "      <td>0</td>\n",
              "      <td>0</td>\n",
              "      <td>2</td>\n",
              "      <td>2</td>\n",
              "      <td>0</td>\n",
              "      <td>4</td>\n",
              "    </tr>\n",
              "    <tr>\n",
              "      <th>2</th>\n",
              "      <td>20</td>\n",
              "      <td>16</td>\n",
              "      <td>6</td>\n",
              "      <td>1</td>\n",
              "      <td>0</td>\n",
              "      <td>6</td>\n",
              "      <td>6</td>\n",
              "      <td>2</td>\n",
              "      <td>0</td>\n",
              "      <td>5</td>\n",
              "      <td>2</td>\n",
              "      <td>2</td>\n",
              "    </tr>\n",
              "    <tr>\n",
              "      <th>3</th>\n",
              "      <td>23</td>\n",
              "      <td>16</td>\n",
              "      <td>77</td>\n",
              "      <td>2</td>\n",
              "      <td>2</td>\n",
              "      <td>2</td>\n",
              "      <td>0</td>\n",
              "      <td>0</td>\n",
              "      <td>2</td>\n",
              "      <td>2</td>\n",
              "      <td>0</td>\n",
              "      <td>4</td>\n",
              "    </tr>\n",
              "    <tr>\n",
              "      <th>4</th>\n",
              "      <td>31</td>\n",
              "      <td>17</td>\n",
              "      <td>40</td>\n",
              "      <td>0</td>\n",
              "      <td>5</td>\n",
              "      <td>5</td>\n",
              "      <td>2</td>\n",
              "      <td>3</td>\n",
              "      <td>3</td>\n",
              "      <td>3</td>\n",
              "      <td>3</td>\n",
              "      <td>3</td>\n",
              "    </tr>\n",
              "  </tbody>\n",
              "</table>\n",
              "</div>\n",
              "    <div class=\"colab-df-buttons\">\n",
              "\n",
              "  <div class=\"colab-df-container\">\n",
              "    <button class=\"colab-df-convert\" onclick=\"convertToInteractive('df-72fdd6a7-1baa-4d5f-b961-8276f0882407')\"\n",
              "            title=\"Convert this dataframe to an interactive table.\"\n",
              "            style=\"display:none;\">\n",
              "\n",
              "  <svg xmlns=\"http://www.w3.org/2000/svg\" height=\"24px\" viewBox=\"0 -960 960 960\">\n",
              "    <path d=\"M120-120v-720h720v720H120Zm60-500h600v-160H180v160Zm220 220h160v-160H400v160Zm0 220h160v-160H400v160ZM180-400h160v-160H180v160Zm440 0h160v-160H620v160ZM180-180h160v-160H180v160Zm440 0h160v-160H620v160Z\"/>\n",
              "  </svg>\n",
              "    </button>\n",
              "\n",
              "  <style>\n",
              "    .colab-df-container {\n",
              "      display:flex;\n",
              "      gap: 12px;\n",
              "    }\n",
              "\n",
              "    .colab-df-convert {\n",
              "      background-color: #E8F0FE;\n",
              "      border: none;\n",
              "      border-radius: 50%;\n",
              "      cursor: pointer;\n",
              "      display: none;\n",
              "      fill: #1967D2;\n",
              "      height: 32px;\n",
              "      padding: 0 0 0 0;\n",
              "      width: 32px;\n",
              "    }\n",
              "\n",
              "    .colab-df-convert:hover {\n",
              "      background-color: #E2EBFA;\n",
              "      box-shadow: 0px 1px 2px rgba(60, 64, 67, 0.3), 0px 1px 3px 1px rgba(60, 64, 67, 0.15);\n",
              "      fill: #174EA6;\n",
              "    }\n",
              "\n",
              "    .colab-df-buttons div {\n",
              "      margin-bottom: 4px;\n",
              "    }\n",
              "\n",
              "    [theme=dark] .colab-df-convert {\n",
              "      background-color: #3B4455;\n",
              "      fill: #D2E3FC;\n",
              "    }\n",
              "\n",
              "    [theme=dark] .colab-df-convert:hover {\n",
              "      background-color: #434B5C;\n",
              "      box-shadow: 0px 1px 3px 1px rgba(0, 0, 0, 0.15);\n",
              "      filter: drop-shadow(0px 1px 2px rgba(0, 0, 0, 0.3));\n",
              "      fill: #FFFFFF;\n",
              "    }\n",
              "  </style>\n",
              "\n",
              "    <script>\n",
              "      const buttonEl =\n",
              "        document.querySelector('#df-72fdd6a7-1baa-4d5f-b961-8276f0882407 button.colab-df-convert');\n",
              "      buttonEl.style.display =\n",
              "        google.colab.kernel.accessAllowed ? 'block' : 'none';\n",
              "\n",
              "      async function convertToInteractive(key) {\n",
              "        const element = document.querySelector('#df-72fdd6a7-1baa-4d5f-b961-8276f0882407');\n",
              "        const dataTable =\n",
              "          await google.colab.kernel.invokeFunction('convertToInteractive',\n",
              "                                                    [key], {});\n",
              "        if (!dataTable) return;\n",
              "\n",
              "        const docLinkHtml = 'Like what you see? Visit the ' +\n",
              "          '<a target=\"_blank\" href=https://colab.research.google.com/notebooks/data_table.ipynb>data table notebook</a>'\n",
              "          + ' to learn more about interactive tables.';\n",
              "        element.innerHTML = '';\n",
              "        dataTable['output_type'] = 'display_data';\n",
              "        await google.colab.output.renderOutput(dataTable, element);\n",
              "        const docLink = document.createElement('div');\n",
              "        docLink.innerHTML = docLinkHtml;\n",
              "        element.appendChild(docLink);\n",
              "      }\n",
              "    </script>\n",
              "  </div>\n",
              "\n",
              "\n",
              "<div id=\"df-9ec0e49e-0ece-494a-b835-ed9c219993c4\">\n",
              "  <button class=\"colab-df-quickchart\" onclick=\"quickchart('df-9ec0e49e-0ece-494a-b835-ed9c219993c4')\"\n",
              "            title=\"Suggest charts.\"\n",
              "            style=\"display:none;\">\n",
              "\n",
              "<svg xmlns=\"http://www.w3.org/2000/svg\" height=\"24px\"viewBox=\"0 0 24 24\"\n",
              "     width=\"24px\">\n",
              "    <g>\n",
              "        <path d=\"M19 3H5c-1.1 0-2 .9-2 2v14c0 1.1.9 2 2 2h14c1.1 0 2-.9 2-2V5c0-1.1-.9-2-2-2zM9 17H7v-7h2v7zm4 0h-2V7h2v10zm4 0h-2v-4h2v4z\"/>\n",
              "    </g>\n",
              "</svg>\n",
              "  </button>\n",
              "\n",
              "<style>\n",
              "  .colab-df-quickchart {\n",
              "      --bg-color: #E8F0FE;\n",
              "      --fill-color: #1967D2;\n",
              "      --hover-bg-color: #E2EBFA;\n",
              "      --hover-fill-color: #174EA6;\n",
              "      --disabled-fill-color: #AAA;\n",
              "      --disabled-bg-color: #DDD;\n",
              "  }\n",
              "\n",
              "  [theme=dark] .colab-df-quickchart {\n",
              "      --bg-color: #3B4455;\n",
              "      --fill-color: #D2E3FC;\n",
              "      --hover-bg-color: #434B5C;\n",
              "      --hover-fill-color: #FFFFFF;\n",
              "      --disabled-bg-color: #3B4455;\n",
              "      --disabled-fill-color: #666;\n",
              "  }\n",
              "\n",
              "  .colab-df-quickchart {\n",
              "    background-color: var(--bg-color);\n",
              "    border: none;\n",
              "    border-radius: 50%;\n",
              "    cursor: pointer;\n",
              "    display: none;\n",
              "    fill: var(--fill-color);\n",
              "    height: 32px;\n",
              "    padding: 0;\n",
              "    width: 32px;\n",
              "  }\n",
              "\n",
              "  .colab-df-quickchart:hover {\n",
              "    background-color: var(--hover-bg-color);\n",
              "    box-shadow: 0 1px 2px rgba(60, 64, 67, 0.3), 0 1px 3px 1px rgba(60, 64, 67, 0.15);\n",
              "    fill: var(--button-hover-fill-color);\n",
              "  }\n",
              "\n",
              "  .colab-df-quickchart-complete:disabled,\n",
              "  .colab-df-quickchart-complete:disabled:hover {\n",
              "    background-color: var(--disabled-bg-color);\n",
              "    fill: var(--disabled-fill-color);\n",
              "    box-shadow: none;\n",
              "  }\n",
              "\n",
              "  .colab-df-spinner {\n",
              "    border: 2px solid var(--fill-color);\n",
              "    border-color: transparent;\n",
              "    border-bottom-color: var(--fill-color);\n",
              "    animation:\n",
              "      spin 1s steps(1) infinite;\n",
              "  }\n",
              "\n",
              "  @keyframes spin {\n",
              "    0% {\n",
              "      border-color: transparent;\n",
              "      border-bottom-color: var(--fill-color);\n",
              "      border-left-color: var(--fill-color);\n",
              "    }\n",
              "    20% {\n",
              "      border-color: transparent;\n",
              "      border-left-color: var(--fill-color);\n",
              "      border-top-color: var(--fill-color);\n",
              "    }\n",
              "    30% {\n",
              "      border-color: transparent;\n",
              "      border-left-color: var(--fill-color);\n",
              "      border-top-color: var(--fill-color);\n",
              "      border-right-color: var(--fill-color);\n",
              "    }\n",
              "    40% {\n",
              "      border-color: transparent;\n",
              "      border-right-color: var(--fill-color);\n",
              "      border-top-color: var(--fill-color);\n",
              "    }\n",
              "    60% {\n",
              "      border-color: transparent;\n",
              "      border-right-color: var(--fill-color);\n",
              "    }\n",
              "    80% {\n",
              "      border-color: transparent;\n",
              "      border-right-color: var(--fill-color);\n",
              "      border-bottom-color: var(--fill-color);\n",
              "    }\n",
              "    90% {\n",
              "      border-color: transparent;\n",
              "      border-bottom-color: var(--fill-color);\n",
              "    }\n",
              "  }\n",
              "</style>\n",
              "\n",
              "  <script>\n",
              "    async function quickchart(key) {\n",
              "      const quickchartButtonEl =\n",
              "        document.querySelector('#' + key + ' button');\n",
              "      quickchartButtonEl.disabled = true;  // To prevent multiple clicks.\n",
              "      quickchartButtonEl.classList.add('colab-df-spinner');\n",
              "      try {\n",
              "        const charts = await google.colab.kernel.invokeFunction(\n",
              "            'suggestCharts', [key], {});\n",
              "      } catch (error) {\n",
              "        console.error('Error during call to suggestCharts:', error);\n",
              "      }\n",
              "      quickchartButtonEl.classList.remove('colab-df-spinner');\n",
              "      quickchartButtonEl.classList.add('colab-df-quickchart-complete');\n",
              "    }\n",
              "    (() => {\n",
              "      let quickchartButtonEl =\n",
              "        document.querySelector('#df-9ec0e49e-0ece-494a-b835-ed9c219993c4 button');\n",
              "      quickchartButtonEl.style.display =\n",
              "        google.colab.kernel.accessAllowed ? 'block' : 'none';\n",
              "    })();\n",
              "  </script>\n",
              "</div>\n",
              "    </div>\n",
              "  </div>\n"
            ]
          },
          "metadata": {},
          "execution_count": 192
        }
      ]
    },
    {
      "cell_type": "markdown",
      "source": [
        "# Kesimpulan Hirarki Klastering\n",
        "\n",
        "Dilakukan uji coba terhadap linkage complete dan average. Hasil modeling menggunakan linkage average lebih baik dibanding menggunakan linkage complete. Score tertinggi adalah 0.39 dengan 8 klaster."
      ],
      "metadata": {
        "id": "lXdhbqBn1Zp8"
      }
    },
    {
      "cell_type": "markdown",
      "source": [
        "\n",
        "## Algoritma DBSCAN (Bonus)\n",
        "Tahapan:\n",
        "* Lakukan data preprocessing sehingga bisa dilakukan clustering dengan algortima DBSCAN.\n",
        "* Lakukan clustering dengan nilai eps dengan tiga variasi jumlah cluster berbeda\n",
        "* Visualisasikan hasil clustering berdasarkan fitur yang digunakan (gunakan 2 fitur terbaik yang dapat merepresentasikan clustering jika clustering dilakukan > 2 fitur). Pastikan setiap cluster ditampilkan dengan warna berbeda, dengan legend yang jelas.\n",
        "* Lakukan analisis mengenai variasi mana yang paling menggambarkan karakteristik data, dan jelaskan mengapa."
      ],
      "metadata": {
        "id": "aMVaLdpb6Wzs"
      }
    },
    {
      "cell_type": "code",
      "source": [
        "df_feat_dbscan = df[['Age','Annual Income (k$)', 'Spending Score (1-100)']]"
      ],
      "metadata": {
        "id": "fm_-00jVKtam"
      },
      "execution_count": 193,
      "outputs": []
    },
    {
      "cell_type": "code",
      "source": [
        "#NORMALISASI PADA 3 ATRIBUT\n",
        "from sklearn.preprocessing import StandardScaler\n",
        "\n",
        "scaler = StandardScaler()\n",
        "df_feat_dbscan_t = scaler.fit_transform(df_feat_dbscan)\n",
        "df_feat_dbscan_t [0:5]"
      ],
      "metadata": {
        "colab": {
          "base_uri": "https://localhost:8080/"
        },
        "id": "gu1XKcsTpr-e",
        "outputId": "67618ddc-cb90-448a-d002-59cc91cfd73a"
      },
      "execution_count": 194,
      "outputs": [
        {
          "output_type": "execute_result",
          "data": {
            "text/plain": [
              "array([[-1.42456879, -1.73899919, -0.43480148],\n",
              "       [-1.28103541, -1.73899919,  1.19570407],\n",
              "       [-1.3528021 , -1.70082976, -1.71591298],\n",
              "       [-1.13750203, -1.70082976,  1.04041783],\n",
              "       [-0.56336851, -1.66266033, -0.39597992]])"
            ]
          },
          "metadata": {},
          "execution_count": 194
        }
      ]
    },
    {
      "cell_type": "code",
      "source": [
        "##GUNAKAN GRID SEARCH\n",
        "\n",
        "epsilons = np.linspace(0.01, 1, num = 15)\n",
        "epsilons"
      ],
      "metadata": {
        "colab": {
          "base_uri": "https://localhost:8080/"
        },
        "id": "GkG0-qMRp_2Y",
        "outputId": "09319527-7e43-4f8d-c93c-295a7991f7a3"
      },
      "execution_count": 195,
      "outputs": [
        {
          "output_type": "execute_result",
          "data": {
            "text/plain": [
              "array([0.01      , 0.08071429, 0.15142857, 0.22214286, 0.29285714,\n",
              "       0.36357143, 0.43428571, 0.505     , 0.57571429, 0.64642857,\n",
              "       0.71714286, 0.78785714, 0.85857143, 0.92928571, 1.        ])"
            ]
          },
          "metadata": {},
          "execution_count": 195
        }
      ]
    },
    {
      "cell_type": "code",
      "source": [
        "min_samples = np.arange(2, 20, step=3)\n",
        "min_samples"
      ],
      "metadata": {
        "colab": {
          "base_uri": "https://localhost:8080/"
        },
        "id": "MWSRjcapqcYf",
        "outputId": "29530fad-6c00-471b-cde3-aad29ae7e8cb"
      },
      "execution_count": 196,
      "outputs": [
        {
          "output_type": "execute_result",
          "data": {
            "text/plain": [
              "array([ 2,  5,  8, 11, 14, 17])"
            ]
          },
          "metadata": {},
          "execution_count": 196
        }
      ]
    },
    {
      "cell_type": "code",
      "source": [
        "import itertools\n",
        "\n",
        "combinations = list(itertools.product(epsilons, min_samples))"
      ],
      "metadata": {
        "id": "_-SPYaMRqkab"
      },
      "execution_count": 197,
      "outputs": []
    },
    {
      "cell_type": "code",
      "source": [
        "n=len(combinations)\n",
        "n"
      ],
      "metadata": {
        "colab": {
          "base_uri": "https://localhost:8080/"
        },
        "id": "T2mYGRK9qxXu",
        "outputId": "eb5c6e9c-df85-44cd-cbf7-b1ad8cfa3f40"
      },
      "execution_count": 198,
      "outputs": [
        {
          "output_type": "execute_result",
          "data": {
            "text/plain": [
              "90"
            ]
          },
          "metadata": {},
          "execution_count": 198
        }
      ]
    },
    {
      "cell_type": "code",
      "source": [
        "from sklearn.cluster import DBSCAN"
      ],
      "metadata": {
        "id": "XyUER_y4rQUW"
      },
      "execution_count": 199,
      "outputs": []
    },
    {
      "cell_type": "code",
      "source": [
        "def get_scores_and_labels(combinations, X):\n",
        "    scores=[]\n",
        "    all_labels_list = []\n",
        "    for i, (eps, num_samples) in enumerate(combinations):\n",
        "        dbscan_cluster_model = DBSCAN(eps=eps, min_samples=num_samples).fit(X)\n",
        "        labels = dbscan_cluster_model.labels_\n",
        "        labels_set = set(labels)\n",
        "        num_clusters = len(labels_set)\n",
        "        if -1 in labels_set:\n",
        "            num_clusters -= 1\n",
        "        if (num_clusters<2) or (num_clusters> 11):\n",
        "            scores.append(-10)\n",
        "            all_labels_list.append('bad')\n",
        "            c = (eps, num_samples)\n",
        "            print(f\"Kombinasi dalam iterasi {i+1} of {n} mempunyai {num_clusters} clusters. Moving on\")\n",
        "            continue\n",
        "        scores.append(ss(X, labels))\n",
        "        all_labels_list.append(labels)\n",
        "        print(f\"Index: {i}, Score: {scores[-1]}, Labels: {all_labels_list[-1]}, Num Cluster : {num_clusters}\")\n",
        "    best_index = np.argmax(scores)\n",
        "    best_parameters = combinations[best_index]\n",
        "    best_labels = all_labels_list[best_index]\n",
        "    best_score = scores[best_index]\n",
        "\n",
        "    return {'best_epsilon':best_parameters[0],\n",
        "            'best_min_samples': best_parameters[1],\n",
        "            'best_labels': best_labels,\n",
        "            'best_score': best_score}\n",
        "best_dict = get_scores_and_labels(combinations, df_feat_dbscan_t)"
      ],
      "metadata": {
        "colab": {
          "base_uri": "https://localhost:8080/"
        },
        "id": "7whyhA5bq3vr",
        "outputId": "c7ccccf8-0b9f-43e1-9749-9dee7b57bf2b"
      },
      "execution_count": 200,
      "outputs": [
        {
          "output_type": "stream",
          "name": "stdout",
          "text": [
            "Kombinasi dalam iterasi 1 of 90 mempunyai 0 clusters. Moving on\n",
            "Kombinasi dalam iterasi 2 of 90 mempunyai 0 clusters. Moving on\n",
            "Kombinasi dalam iterasi 3 of 90 mempunyai 0 clusters. Moving on\n",
            "Kombinasi dalam iterasi 4 of 90 mempunyai 0 clusters. Moving on\n",
            "Kombinasi dalam iterasi 5 of 90 mempunyai 0 clusters. Moving on\n",
            "Kombinasi dalam iterasi 6 of 90 mempunyai 0 clusters. Moving on\n",
            "Index: 6, Score: -0.3675756110129569, Labels: [-1 -1 -1 -1 -1 -1 -1 -1 -1 -1 -1 -1 -1 -1 -1 -1 -1 -1 -1 -1 -1 -1 -1 -1\n",
            " -1 -1 -1 -1 -1 -1 -1 -1 -1 -1 -1 -1 -1 -1 -1 -1 -1 -1 -1 -1 -1 -1 -1 -1\n",
            " -1 -1 -1 -1 -1 -1 -1 -1 -1 -1 -1 -1 -1 -1 -1 -1 -1  0 -1 -1  0 -1 -1 -1\n",
            " -1 -1 -1 -1 -1 -1 -1 -1 -1 -1 -1 -1 -1 -1 -1 -1 -1 -1 -1 -1 -1 -1 -1 -1\n",
            " -1 -1 -1 -1 -1 -1 -1 -1 -1 -1  1 -1 -1  1 -1 -1 -1 -1 -1 -1 -1 -1 -1 -1\n",
            " -1 -1 -1 -1 -1 -1 -1 -1 -1  2 -1  2 -1 -1 -1 -1 -1 -1 -1 -1 -1 -1 -1 -1\n",
            " -1 -1 -1 -1 -1 -1 -1 -1 -1 -1 -1 -1 -1 -1 -1 -1 -1 -1 -1 -1 -1 -1 -1 -1\n",
            " -1 -1 -1 -1 -1 -1 -1 -1 -1 -1 -1 -1 -1 -1 -1 -1 -1 -1 -1 -1 -1 -1 -1 -1\n",
            " -1 -1 -1 -1 -1 -1 -1 -1], Num Cluster : 3\n",
            "Kombinasi dalam iterasi 8 of 90 mempunyai 0 clusters. Moving on\n",
            "Kombinasi dalam iterasi 9 of 90 mempunyai 0 clusters. Moving on\n",
            "Kombinasi dalam iterasi 10 of 90 mempunyai 0 clusters. Moving on\n",
            "Kombinasi dalam iterasi 11 of 90 mempunyai 0 clusters. Moving on\n",
            "Kombinasi dalam iterasi 12 of 90 mempunyai 0 clusters. Moving on\n",
            "Kombinasi dalam iterasi 13 of 90 mempunyai 14 clusters. Moving on\n",
            "Kombinasi dalam iterasi 14 of 90 mempunyai 0 clusters. Moving on\n",
            "Kombinasi dalam iterasi 15 of 90 mempunyai 0 clusters. Moving on\n",
            "Kombinasi dalam iterasi 16 of 90 mempunyai 0 clusters. Moving on\n",
            "Kombinasi dalam iterasi 17 of 90 mempunyai 0 clusters. Moving on\n",
            "Kombinasi dalam iterasi 18 of 90 mempunyai 0 clusters. Moving on\n",
            "Kombinasi dalam iterasi 19 of 90 mempunyai 26 clusters. Moving on\n",
            "Index: 19, Score: -0.18243924256383268, Labels: [-1  0 -1  0 -1  0 -1 -1 -1 -1 -1 -1 -1  0 -1  0 -1 -1 -1 -1 -1 -1 -1 -1\n",
            " -1 -1 -1 -1 -1 -1 -1 -1 -1 -1 -1 -1 -1 -1 -1 -1 -1 -1 -1 -1 -1 -1 -1 -1\n",
            " -1 -1 -1 -1 -1 -1 -1 -1 -1 -1 -1 -1 -1 -1 -1 -1 -1 -1 -1 -1 -1 -1 -1 -1\n",
            " -1 -1 -1 -1 -1 -1 -1 -1 -1 -1 -1 -1 -1 -1 -1 -1 -1 -1 -1 -1 -1 -1 -1 -1\n",
            " -1 -1 -1  1 -1 -1 -1 -1 -1 -1 -1 -1 -1 -1 -1  1 -1  1  1  1 -1 -1 -1 -1\n",
            " -1 -1 -1 -1 -1  2 -1 -1 -1 -1 -1 -1 -1  2 -1 -1 -1  2 -1  2 -1 -1 -1 -1\n",
            " -1 -1 -1  2 -1 -1 -1 -1 -1 -1 -1 -1 -1 -1 -1 -1 -1 -1 -1 -1 -1 -1 -1 -1\n",
            " -1 -1 -1 -1 -1 -1 -1 -1 -1 -1 -1 -1 -1 -1 -1 -1 -1 -1 -1 -1 -1 -1 -1 -1\n",
            " -1 -1 -1 -1 -1 -1 -1 -1], Num Cluster : 3\n",
            "Kombinasi dalam iterasi 21 of 90 mempunyai 0 clusters. Moving on\n",
            "Kombinasi dalam iterasi 22 of 90 mempunyai 0 clusters. Moving on\n",
            "Kombinasi dalam iterasi 23 of 90 mempunyai 0 clusters. Moving on\n",
            "Kombinasi dalam iterasi 24 of 90 mempunyai 0 clusters. Moving on\n",
            "Kombinasi dalam iterasi 25 of 90 mempunyai 24 clusters. Moving on\n",
            "Index: 25, Score: -0.23270700465157945, Labels: [-1  0 -1  0 -1  0 -1 -1 -1 -1 -1 -1 -1  0 -1  0 -1 -1 -1 -1 -1  0 -1 -1\n",
            " -1 -1 -1 -1 -1 -1 -1 -1 -1 -1 -1 -1 -1 -1 -1 -1 -1 -1 -1 -1 -1 -1  1 -1\n",
            " -1 -1  1 -1 -1 -1  1  1  1 -1 -1  1  2 -1  2 -1  2 -1 -1  2 -1 -1  2  3\n",
            "  4  4  4  5 -1 -1  5  3  4 -1 -1  3  5  3 -1  5 -1  3 -1  6  3 -1 -1  5\n",
            "  3  5  3  6  6  3 -1  5  3  6 -1 -1 -1 -1 -1  6 -1  6  6  6 -1 -1 -1 -1\n",
            " -1 -1 -1 -1 -1  7 -1 -1 -1 -1 -1 -1 -1  7 -1  8 -1  7 -1  7 -1  8 -1  8\n",
            " -1 -1 -1  7 -1  8 -1 -1 -1 -1 -1 -1 -1  7 -1  7 -1  8 -1 -1 -1 -1 -1 -1\n",
            " -1 -1 -1 -1 -1 -1 -1 -1 -1 -1 -1 -1 -1 -1 -1 -1 -1 -1 -1 -1 -1 -1 -1 -1\n",
            " -1 -1 -1 -1 -1 -1 -1 -1], Num Cluster : 9\n",
            "Kombinasi dalam iterasi 27 of 90 mempunyai 0 clusters. Moving on\n",
            "Kombinasi dalam iterasi 28 of 90 mempunyai 0 clusters. Moving on\n",
            "Kombinasi dalam iterasi 29 of 90 mempunyai 0 clusters. Moving on\n",
            "Kombinasi dalam iterasi 30 of 90 mempunyai 0 clusters. Moving on\n",
            "Kombinasi dalam iterasi 31 of 90 mempunyai 22 clusters. Moving on\n",
            "Index: 31, Score: -0.019912356502568992, Labels: [-1  0 -1  0 -1  0 -1 -1 -1 -1 -1 -1 -1  0 -1  0 -1 -1 -1 -1 -1  0 -1 -1\n",
            " -1 -1 -1 -1 -1 -1 -1 -1 -1 -1 -1 -1 -1 -1 -1 -1 -1 -1 -1  1 -1 -1  2 -1\n",
            " -1 -1  2  1  1  4  2  2  2  3  1  2  3  5  3 -1  3  5  2  3  5  1  3  2\n",
            "  4  4  4  5  2 -1  5  2  4 -1  3  2  5  2  4  5 -1  2  6  5  2 -1 -1  5\n",
            "  2  5  2  5  5  2  6  5  2  5  6  2  6  6  6  5 -1  5  5  5  6  2  2  2\n",
            "  5 -1 -1 -1 -1  7 -1 -1 -1  7 -1  7 -1  7 -1  7 -1  7 -1  7 -1  7 -1  7\n",
            " -1  7 -1  7 -1  7 -1 -1 -1  7 -1  7 -1  7 -1  7 -1  7 -1  7 -1  7 -1  7\n",
            " -1 -1 -1 -1 -1 -1 -1 -1 -1 -1 -1 -1 -1 -1 -1 -1 -1 -1 -1 -1 -1 -1 -1 -1\n",
            " -1 -1 -1 -1 -1 -1 -1 -1], Num Cluster : 8\n",
            "Index: 32, Score: -0.2018388431380178, Labels: [-1 -1 -1 -1 -1 -1 -1 -1 -1 -1 -1 -1 -1 -1 -1 -1 -1 -1 -1 -1 -1 -1 -1 -1\n",
            " -1 -1 -1 -1 -1 -1 -1 -1 -1 -1 -1 -1 -1 -1 -1 -1 -1 -1 -1 -1 -1 -1 -1 -1\n",
            " -1 -1 -1 -1 -1 -1 -1 -1 -1 -1 -1 -1 -1 -1 -1 -1 -1 -1 -1 -1 -1 -1 -1  0\n",
            " -1 -1 -1  1  0 -1  1  0 -1 -1 -1  0  1  0 -1  1 -1  0 -1  1  0 -1 -1  1\n",
            "  0 -1  0  1  1  0 -1  1  0  1 -1  0 -1 -1 -1  1 -1  1  1  1 -1 -1  0 -1\n",
            " -1 -1 -1 -1 -1 -1 -1 -1 -1 -1 -1 -1 -1 -1 -1 -1 -1 -1 -1 -1 -1 -1 -1 -1\n",
            " -1 -1 -1 -1 -1 -1 -1 -1 -1 -1 -1 -1 -1 -1 -1 -1 -1 -1 -1 -1 -1 -1 -1 -1\n",
            " -1 -1 -1 -1 -1 -1 -1 -1 -1 -1 -1 -1 -1 -1 -1 -1 -1 -1 -1 -1 -1 -1 -1 -1\n",
            " -1 -1 -1 -1 -1 -1 -1 -1], Num Cluster : 2\n",
            "Kombinasi dalam iterasi 34 of 90 mempunyai 0 clusters. Moving on\n",
            "Kombinasi dalam iterasi 35 of 90 mempunyai 0 clusters. Moving on\n",
            "Kombinasi dalam iterasi 36 of 90 mempunyai 0 clusters. Moving on\n",
            "Kombinasi dalam iterasi 37 of 90 mempunyai 20 clusters. Moving on\n",
            "Index: 37, Score: 0.12492447703370044, Labels: [-1  0 -1  0 -1  0 -1 -1 -1  0 -1 -1 -1  0 -1  0 -1 -1 -1 -1 -1  0 -1  0\n",
            " -1  0 -1 -1 -1 -1 -1  0 -1 -1 -1 -1 -1  0 -1 -1 -1 -1  1  2 -1 -1  1  2\n",
            "  2  2  1  2  2  1  1  1  1  3  2  1  3  2  3  1  3  2  1  3  2  2  3  1\n",
            "  3  3  3  2  1  1  2  1  3  1  3  1  2  1  1  2 -1  1  3  2  1  1 -1  2\n",
            "  1  2  1  2  2  1  3  2  1  2  3  1  3  3  3  2 -1  2  2  2  3  1  1  1\n",
            "  2 -1 -1  4 -1  4 -1  4 -1  4 -1  4 -1  4 -1  4 -1  4 -1  4 -1  4 -1  4\n",
            " -1  4 -1  4 -1  4  5  4  5  4  5  4 -1  4 -1  4 -1  4 -1  4 -1  4  5  4\n",
            " -1 -1  5  4 -1  4 -1  4 -1 -1 -1  4 -1  4 -1  4 -1 -1 -1 -1 -1  4 -1 -1\n",
            " -1 -1 -1 -1 -1 -1 -1 -1], Num Cluster : 6\n",
            "Index: 38, Score: -0.0183222219664955, Labels: [-1 -1 -1  0 -1  0 -1 -1 -1  0 -1 -1 -1  0 -1  0 -1 -1 -1 -1 -1  0 -1  0\n",
            " -1 -1 -1 -1 -1 -1 -1  0 -1 -1 -1 -1 -1 -1 -1 -1 -1 -1  1 -1 -1 -1  1 -1\n",
            " -1 -1  1 -1 -1 -1  1  1  1 -1  2  1 -1  2 -1 -1 -1  2  1 -1  2 -1 -1  1\n",
            " -1 -1 -1  2  1 -1  2  1 -1 -1 -1  1  2  1 -1  2 -1  1 -1  2  1 -1 -1  2\n",
            "  1  2  1  2  2  1 -1  2  1  2 -1  1 -1 -1 -1  2 -1  2  2  2 -1 -1  1  1\n",
            "  2 -1 -1 -1 -1  3 -1 -1 -1  3 -1  3 -1  3 -1  3 -1  3 -1  3 -1  3 -1  3\n",
            " -1  3 -1  3 -1  3 -1  3 -1  3 -1  3 -1  3 -1  3 -1  3 -1  3 -1  3 -1  3\n",
            " -1 -1 -1  3 -1  3 -1  3 -1 -1 -1 -1 -1 -1 -1 -1 -1 -1 -1 -1 -1 -1 -1 -1\n",
            " -1 -1 -1 -1 -1 -1 -1 -1], Num Cluster : 4\n",
            "Index: 39, Score: -0.17024090019606816, Labels: [-1 -1 -1 -1 -1 -1 -1 -1 -1 -1 -1 -1 -1 -1 -1 -1 -1 -1 -1 -1 -1 -1 -1 -1\n",
            " -1 -1 -1 -1 -1 -1 -1 -1 -1 -1 -1 -1 -1 -1 -1 -1 -1 -1 -1 -1 -1 -1 -1 -1\n",
            " -1 -1 -1 -1 -1 -1 -1 -1 -1 -1 -1 -1 -1 -1 -1 -1 -1 -1  0 -1  1 -1 -1  0\n",
            " -1 -1 -1  1  0 -1  1  0 -1 -1 -1  0  1  0 -1  1 -1  0 -1  1  0 -1 -1  1\n",
            "  0  1  0  1  1  0 -1  1  0  1 -1  0 -1 -1 -1  1 -1  1  1  1 -1 -1  0  0\n",
            "  1 -1 -1 -1 -1 -1 -1 -1 -1 -1 -1 -1 -1 -1 -1  2 -1 -1 -1 -1 -1  2 -1  2\n",
            " -1  2 -1 -1 -1  2 -1 -1 -1 -1 -1  2 -1 -1 -1 -1 -1  2 -1  2 -1 -1 -1  2\n",
            " -1 -1 -1 -1 -1  2 -1  2 -1 -1 -1 -1 -1 -1 -1 -1 -1 -1 -1 -1 -1 -1 -1 -1\n",
            " -1 -1 -1 -1 -1 -1 -1 -1], Num Cluster : 3\n",
            "Kombinasi dalam iterasi 41 of 90 mempunyai 0 clusters. Moving on\n",
            "Kombinasi dalam iterasi 42 of 90 mempunyai 0 clusters. Moving on\n",
            "Kombinasi dalam iterasi 43 of 90 mempunyai 14 clusters. Moving on\n",
            "Index: 43, Score: 0.20117719154634237, Labels: [-1  0 -1  0 -1  0 -1  0 -1  0 -1 -1 -1  0 -1  0  1  0 -1 -1  1  0 -1  0\n",
            " -1  0  1 -1  1  0 -1  0 -1  0 -1  0 -1  0  1  0 -1  0  2  3  2 -1  2  3\n",
            "  3  3  2  3  3  2  2  2  2  2  3  2  2  3  2  2  2  3  2  2  3  3  2  2\n",
            "  2  2  2  3  2  2  3  2  2  2  2  2  3  2  2  3 -1  2  2  3  2  2  2  3\n",
            "  2  3  2  3  3  2  2  3  2  3  2  2  2  2  2  3  2  3  3  3  2  2  2  2\n",
            "  3  2 -1  4 -1  4 -1  4 -1  4  5  4  3  4 -1  4  5  4 -1  4 -1  4 -1  4\n",
            " -1  4 -1  4 -1  4  5  4  5  4  5  4 -1  4 -1  4 -1  4 -1  4 -1  4  5  4\n",
            " -1  4  5  4 -1  4 -1  4 -1  4 -1  4 -1  4 -1  4 -1  4 -1  4 -1  4 -1 -1\n",
            " -1 -1 -1 -1 -1 -1 -1 -1], Num Cluster : 6\n",
            "Index: 44, Score: 0.15377660582701466, Labels: [-1  0 -1  0 -1  0 -1 -1 -1  0 -1 -1 -1  0 -1  0 -1  0 -1 -1 -1  0 -1  0\n",
            " -1  0 -1 -1 -1  0 -1  0 -1 -1 -1 -1 -1 -1 -1 -1 -1 -1  1  2 -1 -1  1  2\n",
            "  2  2  1  2  2  1  1  1  1  1  2  1  1  3  1  1  1  3  1  1  3  2  1  1\n",
            "  1  1  1  3  1  1  3  1  1  1  1  1  3  1  1  3 -1  1  1  3  1 -1  3  3\n",
            "  1  3  1  3  3  1  1  3  1  3  1  1  1  1  1  3 -1  3  3  3  1  1  1  1\n",
            "  3 -1 -1  4 -1  4 -1 -1 -1  4 -1  4  3  4 -1  4 -1  4 -1  4 -1  4 -1  4\n",
            " -1  4 -1  4 -1  4 -1  4 -1  4 -1  4 -1  4 -1  4 -1  4 -1  4 -1  4 -1  4\n",
            " -1 -1 -1  4 -1  4 -1  4 -1  4 -1  4 -1  4 -1  4 -1 -1 -1 -1 -1 -1 -1 -1\n",
            " -1 -1 -1 -1 -1 -1 -1 -1], Num Cluster : 5\n",
            "Index: 45, Score: -0.009228969613900304, Labels: [-1 -1 -1 -1 -1 -1 -1 -1 -1 -1 -1 -1 -1 -1 -1 -1 -1 -1 -1 -1 -1 -1 -1 -1\n",
            " -1 -1 -1 -1 -1 -1 -1 -1 -1 -1 -1 -1 -1 -1 -1 -1 -1 -1  0 -1 -1 -1 -1 -1\n",
            " -1 -1  0 -1 -1 -1  0  0  0 -1  1  0 -1  1 -1 -1 -1  1  0 -1  1 -1 -1  0\n",
            " -1 -1 -1  1  0  0  1  0 -1 -1 -1  0  1  0 -1  1 -1  0 -1  1  0 -1 -1  1\n",
            "  0  1  0  1  1  0 -1  1  0  1 -1  0 -1 -1 -1  1 -1  1  1  1 -1  0  0  0\n",
            "  1 -1 -1  2 -1  2 -1 -1 -1  2 -1  2 -1  2 -1  2 -1  2 -1  2 -1  2 -1  2\n",
            " -1  2 -1  2 -1  2 -1  2 -1  2 -1  2 -1  2 -1  2 -1  2 -1  2 -1  2 -1  2\n",
            " -1 -1 -1  2 -1  2 -1  2 -1 -1 -1  2 -1  2 -1  2 -1 -1 -1 -1 -1 -1 -1 -1\n",
            " -1 -1 -1 -1 -1 -1 -1 -1], Num Cluster : 3\n",
            "Index: 46, Score: -0.11614434411995891, Labels: [-1 -1 -1 -1 -1 -1 -1 -1 -1 -1 -1 -1 -1 -1 -1 -1 -1 -1 -1 -1 -1 -1 -1 -1\n",
            " -1 -1 -1 -1 -1 -1 -1 -1 -1 -1 -1 -1 -1 -1 -1 -1 -1 -1  0 -1 -1 -1 -1 -1\n",
            " -1 -1  0 -1 -1 -1  0  0  0 -1 -1  0 -1  1 -1 -1 -1  1  0 -1  1 -1 -1  0\n",
            " -1 -1 -1  1  0 -1  1  0 -1 -1 -1  0  1  0 -1  1 -1  0 -1 -1  0 -1 -1  1\n",
            "  0  1  0  1  1  0 -1  1  0  1 -1  0 -1 -1 -1  1 -1  1  1  1 -1  0  0  0\n",
            "  1 -1 -1 -1 -1  2 -1 -1 -1 -1 -1 -1 -1 -1 -1  2 -1  2 -1 -1 -1  2 -1  2\n",
            " -1 -1 -1  2 -1  2 -1 -1 -1 -1 -1  2 -1  2 -1  2 -1  2 -1  2 -1 -1 -1 -1\n",
            " -1 -1 -1  2 -1 -1 -1  2 -1 -1 -1 -1 -1 -1 -1 -1 -1 -1 -1 -1 -1 -1 -1 -1\n",
            " -1 -1 -1 -1 -1 -1 -1 -1], Num Cluster : 3\n",
            "Kombinasi dalam iterasi 48 of 90 mempunyai 0 clusters. Moving on\n",
            "Index: 48, Score: -0.02286407327141801, Labels: [-1  0 -1  0  0  0  1  0  0  0  0  2  0  0  1  0  0  0  0  2  0  0  0  0\n",
            "  0  0  0  0  0  0  0  0  0  0  0  0  0  0  0  0  0  0  0  0  0  0  0  0\n",
            "  0  0  0  0  0  0  0  0  0  0  0  0  0  0  0  0  0  0  0  0  0  0  0  0\n",
            "  0  0  0  0  0  0  0  0  0  0  0  0  0  0  0  0  0  0  0  0  0  0  0  0\n",
            "  0  0  0  0  0  0  0  0  0  0  0  0  0  0  0  0  0  0  0  0  0  0  0  0\n",
            "  0  0 -1  3  0  3  0  3  4  3  0  3  0  3  5  3  0  3  5  3  4  3  0  3\n",
            "  5  3  0  3  0  3  0  3  0  3  0  3  0  3  0  3 -1  3  5  3  0  3  0  3\n",
            "  0  3  0  3  0  3  0  3  0  3  0  3  0  3  0  3  0  3 -1  3  0  3  0  3\n",
            " -1  3  6  7  6  7 -1  7], Num Cluster : 8\n",
            "Index: 49, Score: 0.10660436205673506, Labels: [-1  0 -1  0 -1  0 -1  0 -1  0 -1 -1 -1  0 -1  0  0  0  0 -1  0  0  1  0\n",
            "  1  0  0  0  0  0 -1  0  1  0  1  0  1  0  0  0  0  0  0  0  0  0  0  0\n",
            "  0  0  0  0  0  0  0  0  0  0  0  0  0  0  0  0  0  0  0  0  0  0  0  0\n",
            "  0  0  0  0  0  0  0  0  0  0  0  0  0  0  0  0  0  0  0  0  0  0  0  0\n",
            "  0  0  0  0  0  0  0  0  0  0  0  0  0  0  0  0  0  0  0  0  0  0  0  0\n",
            "  0  0 -1  2  0  2  0  2 -1  2  3  2  0  2 -1  2  3  2 -1  2 -1  2  0  2\n",
            " -1  2  0  2 -1  2  3  2  3  2  3  2 -1  2 -1  2 -1  2 -1  2  3  2  3  2\n",
            "  3  2  3  2  3  2  3  2  3  2  3  2 -1  2  3  2 -1  2 -1  2 -1  2 -1 -1\n",
            " -1  2 -1 -1 -1 -1 -1 -1], Num Cluster : 4\n",
            "Index: 50, Score: 0.24580468336184316, Labels: [-1  0 -1  0 -1  0 -1  0 -1  0 -1 -1 -1  0 -1  0 -1  0 -1 -1 -1  0 -1  0\n",
            " -1  0 -1 -1 -1  0 -1  0 -1  0 -1  0 -1  0 -1  0  1  0  1  2  1  0  1  2\n",
            "  2  2  1  2  2  1  1  1  1  1  2  1  1  2  1  1  1  2  1  1  2  2  1  1\n",
            "  1  1  1  2  1  1  2  1  1  1  1  1  2  1  1  2 -1  1  1  2  1  1  2  2\n",
            "  1  2  1  2  2  1  1  2  1  2  1  1  1  1  1  2  1  2  2  2  1  1  1  1\n",
            "  2 -1 -1  3  2  3 -1  3 -1  3  4  3  2  3 -1  3  4  3 -1  3 -1  3 -1  3\n",
            " -1  3  1  3 -1  3  4  3  4  3  4  3 -1  3 -1  3 -1  3 -1  3  4  3  4  3\n",
            " -1  3  4  3 -1  3  4  3 -1  3 -1  3 -1  3 -1  3 -1  3 -1 -1 -1  3 -1 -1\n",
            " -1 -1 -1 -1 -1 -1 -1 -1], Num Cluster : 5\n",
            "Index: 51, Score: 0.24654440232255403, Labels: [-1  0 -1  0 -1  0 -1 -1 -1  0 -1 -1 -1  0 -1  0 -1  0 -1 -1 -1  0 -1  0\n",
            " -1  0 -1 -1 -1  0 -1  0 -1 -1 -1  0 -1  0 -1  0 -1 -1  1  2  1  0  1  2\n",
            "  2  2  1  2  2  1  1  1  1  1  2  1  1  2  1  1  1  2  1  1  2  2  1  1\n",
            "  1  1  1  2  1  1  2  1  1  1  1  1  2  1  1  2 -1  1  1  2  1  1  2  2\n",
            "  1  2  1  2  2  1  1  2  1  2  1  1  1  1  1  2 -1  2  2  2 -1  1  1  1\n",
            "  2 -1 -1  3  2  3 -1  3 -1  3 -1  3  2  3 -1  3 -1  3 -1  3 -1  3 -1  3\n",
            " -1  3  1  3 -1  3 -1  3 -1  3 -1  3 -1  3 -1  3 -1  3 -1  3 -1  3 -1  3\n",
            " -1  3 -1  3 -1  3 -1  3 -1  3 -1  3 -1  3 -1  3 -1  3 -1 -1 -1 -1 -1 -1\n",
            " -1 -1 -1 -1 -1 -1 -1 -1], Num Cluster : 4\n",
            "Index: 52, Score: 0.027998538154809308, Labels: [-1 -1 -1 -1 -1 -1 -1 -1 -1 -1 -1 -1 -1 -1 -1 -1 -1 -1 -1 -1 -1 -1 -1 -1\n",
            " -1 -1 -1 -1 -1 -1 -1 -1 -1 -1 -1 -1 -1 -1 -1 -1 -1 -1  0 -1 -1 -1  0 -1\n",
            " -1 -1  0 -1 -1 -1  0  0  0 -1  1  0 -1  1 -1  0 -1  1  0 -1  1 -1 -1  0\n",
            "  0 -1  0  1  0  0  1  0  0  0 -1  0  1  0  0  1 -1  0 -1  1  0  0 -1  1\n",
            "  0  1  0  1  1  0 -1  1  0  1 -1  0 -1 -1 -1  1 -1  1  1  1 -1  0  0  0\n",
            "  1 -1 -1  2 -1  2 -1  2 -1  2 -1  2 -1  2 -1  2 -1  2 -1  2 -1  2 -1  2\n",
            " -1  2 -1  2 -1  2 -1  2 -1  2 -1  2 -1  2 -1  2 -1  2 -1  2 -1  2 -1  2\n",
            " -1  2 -1  2 -1  2 -1  2 -1  2 -1 -1 -1 -1 -1 -1 -1 -1 -1 -1 -1 -1 -1 -1\n",
            " -1 -1 -1 -1 -1 -1 -1 -1], Num Cluster : 3\n",
            "Index: 53, Score: -0.07329241964463609, Labels: [-1 -1 -1 -1 -1 -1 -1 -1 -1 -1 -1 -1 -1 -1 -1 -1 -1 -1 -1 -1 -1 -1 -1 -1\n",
            " -1 -1 -1 -1 -1 -1 -1 -1 -1 -1 -1 -1 -1 -1 -1 -1 -1 -1  0 -1 -1 -1 -1 -1\n",
            " -1 -1  0 -1 -1 -1  0  0  0 -1  1  0 -1  1 -1 -1 -1  1  0 -1  1 -1 -1  0\n",
            " -1 -1 -1  1  0  0  1  0  0 -1 -1  0  1  0 -1  1 -1  0 -1 -1  0  0 -1  1\n",
            "  0  1  0  1  1  0 -1  1  0  1 -1  0 -1 -1 -1  1 -1  1  1  1 -1  0  0  0\n",
            "  1 -1 -1 -1 -1  2 -1 -1 -1 -1 -1 -1 -1 -1 -1  2 -1  2 -1 -1 -1  2 -1  2\n",
            " -1  2 -1  2 -1  2 -1  2 -1 -1 -1  2 -1  2 -1  2 -1  2 -1  2 -1 -1 -1  2\n",
            " -1 -1 -1 -1 -1  2 -1  2 -1 -1 -1 -1 -1 -1 -1 -1 -1 -1 -1 -1 -1 -1 -1 -1\n",
            " -1 -1 -1 -1 -1 -1 -1 -1], Num Cluster : 3\n",
            "Index: 54, Score: 0.05516911714309886, Labels: [-1  0 -1  0  0  0  1  0  0  0  0  2  0  0  1  0  0  0  0  2  0  0  0  0\n",
            "  0  0  0  0  0  0  0  0  0  0  0  0  0  0  0  0  0  0  0  0  0  0  0  0\n",
            "  0  0  0  0  0  0  0  0  0  0  0  0  0  0  0  0  0  0  0  0  0  0  0  0\n",
            "  0  0  0  0  0  0  0  0  0  0  0  0  0  0  0  0  0  0  0  0  0  0  0  0\n",
            "  0  0  0  0  0  0  0  0  0  0  0  0  0  0  0  0  0  0  0  0  0  0  0  0\n",
            "  0  0  0  3  0  3  0  3  0  3  0  3  0  3  4  3  0  3  4  3  0  3  0  3\n",
            "  4  3  0  3  0  3  0  3  0  3  0  3  0  3  0  3  0  3  4  3  0  3  0  3\n",
            "  0  3  0  3  0  3  0  3  0  3  0  3  0  3  0  3  0  3  0  3  0  3  0  3\n",
            " -1  3  5  3  5  3 -1  3], Num Cluster : 6\n",
            "Index: 55, Score: 0.19615970448355416, Labels: [-1  0 -1  0  0  0 -1  0  0  0 -1 -1  0  0 -1  0  0  0  0 -1  0  0  0  0\n",
            "  0  0  0  0  0  0  0  0  0  0  0  0  0  0  0  0  0  0  0  0  0  0  0  0\n",
            "  0  0  0  0  0  0  0  0  0  0  0  0  0  0  0  0  0  0  0  0  0  0  0  0\n",
            "  0  0  0  0  0  0  0  0  0  0  0  0  0  0  0  0  0  0  0  0  0  0  0  0\n",
            "  0  0  0  0  0  0  0  0  0  0  0  0  0  0  0  0  0  0  0  0  0  0  0  0\n",
            "  0  0  0  1  0  1  0  1 -1  1  0  1  0  1 -1  1  0  1 -1  1 -1  1  0  1\n",
            " -1  1  0  1  0  1  0  1  0  1  0  1  0  1  0  1  0  1 -1  1  0  1  0  1\n",
            "  0  1  0  1  0  1  0  1  0  1  0  1  0  1  0  1 -1  1 -1  1  0  1  0  1\n",
            " -1  1 -1 -1 -1 -1 -1 -1], Num Cluster : 2\n",
            "Index: 56, Score: 0.1376783662602878, Labels: [-1  0 -1  0 -1  0 -1  0 -1  0 -1 -1 -1  0 -1  0 -1  0 -1 -1 -1  0 -1  0\n",
            " -1  0  0  0 -1  0 -1  0 -1  0 -1  0 -1  0 -1  0  0  0  0  0  0  0  0  0\n",
            "  0  0  0  0  0  0  0  0  0  0  0  0  0  0  0  0  0  0  0  0  0  0  0  0\n",
            "  0  0  0  0  0  0  0  0  0  0  0  0  0  0  0  0  0  0  0  0  0  0  0  0\n",
            "  0  0  0  0  0  0  0  0  0  0  0  0  0  0  0  0  0  0  0  0  0  0  0  0\n",
            "  0  0  0  1  0  1  0  1 -1  1  2  1  0  1 -1  1  2  1 -1  1 -1  1  0  1\n",
            " -1  1  0  1 -1  1  2  1  2  1  2  1  2  1 -1  1 -1  1 -1  1  2  1  2  1\n",
            "  2  1  2  1  2  1  2  1 -1  1 -1  1 -1  1  2  1 -1  1 -1  1  2  1 -1 -1\n",
            " -1 -1 -1 -1 -1 -1 -1 -1], Num Cluster : 3\n",
            "Index: 57, Score: 0.2258340427870236, Labels: [-1  0 -1  0 -1  0 -1  0 -1  0 -1 -1 -1  0 -1  0 -1  0 -1 -1 -1  0 -1  0\n",
            " -1  0 -1 -1 -1  0 -1  0 -1  0 -1  0 -1  0 -1  0 -1  0  1  1  1  0  1  1\n",
            "  1  1  1  1  1  1  1  1  1  1  1  1  1  1  1  1  1  1  1  1  1  1  1  1\n",
            "  1  1  1  1  1  1  1  1  1  1  1  1  1  1  1  1  1  1  1  1  1  1  1  1\n",
            "  1  1  1  1  1  1  1  1  1  1  1  1  1  1  1  1  1  1  1  1  1  1  1  1\n",
            "  1  1 -1  2  1  2  1  2 -1  2 -1  2  1  2 -1  2 -1  2 -1  2 -1  2  1  2\n",
            " -1  2  1  2 -1  2 -1  2 -1  2 -1  2 -1  2 -1  2 -1  2 -1  2 -1  2 -1  2\n",
            " -1  2 -1  2 -1  2 -1  2 -1  2 -1  2 -1  2 -1  2 -1  2 -1  2 -1  2 -1 -1\n",
            " -1 -1 -1 -1 -1 -1 -1 -1], Num Cluster : 3\n",
            "Index: 58, Score: 0.2847218569718596, Labels: [-1  0 -1  0 -1  0 -1  0 -1  0 -1 -1 -1  0 -1  0 -1  0 -1 -1 -1  0 -1  0\n",
            " -1  0 -1 -1 -1  0 -1  0 -1  0 -1  0 -1  0 -1  0 -1  0  1  2  1  2  1  2\n",
            "  2  2  1  2  2  1  1  1  1  1  2  1  1  2  1  1  1  2  1  1  2  2  1  1\n",
            "  1  1  1  2  1  1  2  1  1  1  1  1  2  1  1  2  2  1  1  2  1  1  2  2\n",
            "  1  2  1  2  2  1  1  2  1  2  1  1  1  1  1  2 -1  2  2  2  1  1  1  1\n",
            "  2 -1 -1  3  2  3  1  3 -1  3 -1  3  2  3 -1  3 -1  3 -1  3 -1  3  2  3\n",
            " -1  3  1  3 -1  3 -1  3 -1  3 -1  3 -1  3 -1  3 -1  3 -1  3 -1  3 -1  3\n",
            " -1  3 -1  3 -1  3 -1  3 -1  3 -1  3 -1  3 -1  3 -1  3 -1 -1 -1 -1 -1 -1\n",
            " -1 -1 -1 -1 -1 -1 -1 -1], Num Cluster : 4\n",
            "Index: 59, Score: 0.09765975660390516, Labels: [-1 -1 -1 -1 -1 -1 -1 -1 -1 -1 -1 -1 -1 -1 -1 -1 -1 -1 -1 -1 -1 -1 -1 -1\n",
            " -1 -1 -1 -1 -1 -1 -1 -1 -1 -1 -1 -1 -1 -1 -1 -1 -1 -1  1  0 -1  0  1  0\n",
            "  0  0  1  0  0 -1  1  1  1 -1  0  1 -1  0 -1  1 -1  0  1 -1  0  0 -1  1\n",
            "  1 -1  1  0  1  1  0  1  1  1 -1  1  0  1  1  0  0  1 -1  0  1  1  0  0\n",
            "  1  0  1  0  0  1 -1  0  1  0 -1  1 -1 -1 -1  0 -1  0  0  0 -1  1  1  1\n",
            "  0 -1 -1  2  0  2 -1  2 -1  2 -1  2  0  2 -1  2 -1  2 -1  2 -1  2  0  2\n",
            " -1  2 -1  2 -1  2 -1  2 -1  2 -1  2 -1  2 -1  2 -1  2 -1  2 -1  2 -1  2\n",
            " -1  2 -1  2 -1  2 -1  2 -1  2 -1  2 -1  2 -1  2 -1  2 -1 -1 -1 -1 -1 -1\n",
            " -1 -1 -1 -1 -1 -1 -1 -1], Num Cluster : 3\n",
            "Index: 60, Score: 0.0022200375291758358, Labels: [-1  0 -1  0  0  0  0  0  0  0  0  1  0  0  0  0  0  0  0  1  0  0  0  0\n",
            "  0  0  0  0  0  0  0  0  0  0  0  0  0  0  0  0  0  0  0  0  0  0  0  0\n",
            "  0  0  0  0  0  0  0  0  0  0  0  0  0  0  0  0  0  0  0  0  0  0  0  0\n",
            "  0  0  0  0  0  0  0  0  0  0  0  0  0  0  0  0  0  0  0  0  0  0  0  0\n",
            "  0  0  0  0  0  0  0  0  0  0  0  0  0  0  0  0  0  0  0  0  0  0  0  0\n",
            "  0  0  0  0  0  0  0  0  0  0  0  0  0  0  2  0  0  0  2  0  0  0  0  0\n",
            "  2  0  0  0  0  0  0  0  0  0  0  0  0  0  0  0  0  0  2  0  0  0  0  0\n",
            "  0  0  0  0  0  0  0  0  0  0  0  0  0  0  0  0  0  0  0  0  0  0  0  0\n",
            "  0  0  3  0  3  0 -1  0], Num Cluster : 4\n",
            "Kombinasi dalam iterasi 62 of 90 mempunyai 1 clusters. Moving on\n",
            "Kombinasi dalam iterasi 63 of 90 mempunyai 1 clusters. Moving on\n",
            "Index: 63, Score: 0.11961574069172938, Labels: [-1  0 -1  0 -1  0 -1  0 -1  0 -1 -1 -1  0 -1  0 -1  0 -1 -1 -1  0 -1  0\n",
            " -1  0  0  0  0  0 -1  0 -1  0 -1  0 -1  0 -1  0  0  0  0  0  0  0  0  0\n",
            "  0  0  0  0  0  0  0  0  0  0  0  0  0  0  0  0  0  0  0  0  0  0  0  0\n",
            "  0  0  0  0  0  0  0  0  0  0  0  0  0  0  0  0  0  0  0  0  0  0  0  0\n",
            "  0  0  0  0  0  0  0  0  0  0  0  0  0  0  0  0  0  0  0  0  0  0  0  0\n",
            "  0  0  0  0  0  0  0  0 -1  0 -1  0  0  0 -1  0  1  0 -1  0 -1  0  0  0\n",
            " -1  0  0  0  1  0  1  0  1  0  1  0  1  0 -1  0  0  0 -1  0  1  0  1  0\n",
            "  1  0  1  0  1  0 -1  0 -1  0 -1  0 -1  0  1  0 -1  0 -1  0  1  0 -1  0\n",
            " -1 -1 -1 -1 -1 -1 -1 -1], Num Cluster : 2\n",
            "Kombinasi dalam iterasi 65 of 90 mempunyai 1 clusters. Moving on\n",
            "Index: 65, Score: 0.19385046890933583, Labels: [-1 -1 -1 -1 -1 -1 -1 -1 -1 -1 -1 -1 -1 -1 -1 -1 -1 -1 -1 -1 -1 -1 -1 -1\n",
            " -1 -1  0 -1 -1 -1 -1 -1 -1 -1 -1 -1 -1 -1 -1 -1  0 -1  0  1  0  1  0  1\n",
            "  1  1  0  1  1  0  0  0  0  0  1  0  0  1  0  0  0  1  0  0  1  0  0  0\n",
            "  0  0  0  1  0  0  1  0  0  0  0  0  1  0  0  1  0  0  0  1  0  0  0  1\n",
            "  0  1  0  1  1  0  0  1  0  1  0  0  0  0  0  1  0  1  1  1  0  0  0  0\n",
            "  1  0  0  1  1  1  0  1 -1  1 -1  1  1  1 -1  1 -1  1 -1  1 -1  1  1  1\n",
            " -1  1  0  1 -1  1 -1  1 -1  1 -1  1 -1  1 -1  1 -1  1 -1  1 -1  1 -1  1\n",
            " -1  1 -1  1 -1  1 -1  1 -1  1 -1  1 -1  1 -1  1 -1  1 -1  1 -1  1 -1  1\n",
            " -1 -1 -1 -1 -1 -1 -1 -1], Num Cluster : 2\n",
            "Kombinasi dalam iterasi 67 of 90 mempunyai 1 clusters. Moving on\n",
            "Kombinasi dalam iterasi 68 of 90 mempunyai 1 clusters. Moving on\n",
            "Kombinasi dalam iterasi 69 of 90 mempunyai 1 clusters. Moving on\n",
            "Kombinasi dalam iterasi 70 of 90 mempunyai 1 clusters. Moving on\n",
            "Index: 70, Score: 0.14278430021528096, Labels: [-1  0 -1  0 -1  0 -1  0 -1  0 -1 -1 -1  0 -1  0 -1  0  0  0 -1  0 -1  0\n",
            " -1  0  0  0  0  0 -1  0 -1  0 -1  0 -1  0 -1  0  0  0  0  0  0  0  0  0\n",
            "  0  0  0  0  0  0  0  0  0  0  0  0  0  0  0  0  0  0  0  0  0  0  0  0\n",
            "  0  0  0  0  0  0  0  0  0  0  0  0  0  0  0  0  0  0  0  0  0  0  0  0\n",
            "  0  0  0  0  0  0  0  0  0  0  0  0  0  0  0  0  0  0  0  0  0  0  0  0\n",
            "  0  0  0  0  0  0  0  0 -1  0  1  0  0  0 -1  0  1  0 -1  0 -1  0  0  0\n",
            " -1  0  0  0  1  0  1  0  1  0  1  0  1  0 -1  0  0  0 -1  0  1  0  1  0\n",
            "  1  0  1  0  1  0  1  0 -1  0 -1  0  1  0  1  0 -1  0 -1  0  1  0 -1  0\n",
            " -1  0 -1 -1 -1 -1 -1 -1], Num Cluster : 2\n",
            "Kombinasi dalam iterasi 72 of 90 mempunyai 1 clusters. Moving on\n",
            "Kombinasi dalam iterasi 73 of 90 mempunyai 1 clusters. Moving on\n",
            "Kombinasi dalam iterasi 74 of 90 mempunyai 1 clusters. Moving on\n",
            "Kombinasi dalam iterasi 75 of 90 mempunyai 1 clusters. Moving on\n",
            "Kombinasi dalam iterasi 76 of 90 mempunyai 1 clusters. Moving on\n",
            "Kombinasi dalam iterasi 77 of 90 mempunyai 1 clusters. Moving on\n",
            "Kombinasi dalam iterasi 78 of 90 mempunyai 1 clusters. Moving on\n",
            "Kombinasi dalam iterasi 79 of 90 mempunyai 1 clusters. Moving on\n",
            "Kombinasi dalam iterasi 80 of 90 mempunyai 1 clusters. Moving on\n",
            "Kombinasi dalam iterasi 81 of 90 mempunyai 1 clusters. Moving on\n",
            "Kombinasi dalam iterasi 82 of 90 mempunyai 1 clusters. Moving on\n",
            "Kombinasi dalam iterasi 83 of 90 mempunyai 1 clusters. Moving on\n",
            "Kombinasi dalam iterasi 84 of 90 mempunyai 1 clusters. Moving on\n",
            "Kombinasi dalam iterasi 85 of 90 mempunyai 1 clusters. Moving on\n",
            "Kombinasi dalam iterasi 86 of 90 mempunyai 1 clusters. Moving on\n",
            "Kombinasi dalam iterasi 87 of 90 mempunyai 1 clusters. Moving on\n",
            "Kombinasi dalam iterasi 88 of 90 mempunyai 1 clusters. Moving on\n",
            "Kombinasi dalam iterasi 89 of 90 mempunyai 1 clusters. Moving on\n",
            "Kombinasi dalam iterasi 90 of 90 mempunyai 1 clusters. Moving on\n"
          ]
        }
      ]
    },
    {
      "cell_type": "code",
      "source": [
        "best_dict"
      ],
      "metadata": {
        "colab": {
          "base_uri": "https://localhost:8080/"
        },
        "id": "s7-k43GyrsO3",
        "outputId": "9e596c7b-204d-4949-c699-39c3814fe36b"
      },
      "execution_count": 201,
      "outputs": [
        {
          "output_type": "execute_result",
          "data": {
            "text/plain": [
              "{'best_epsilon': 0.6464285714285715,\n",
              " 'best_min_samples': 14,\n",
              " 'best_labels': array([-1,  0, -1,  0, -1,  0, -1,  0, -1,  0, -1, -1, -1,  0, -1,  0, -1,\n",
              "         0, -1, -1, -1,  0, -1,  0, -1,  0, -1, -1, -1,  0, -1,  0, -1,  0,\n",
              "        -1,  0, -1,  0, -1,  0, -1,  0,  1,  2,  1,  2,  1,  2,  2,  2,  1,\n",
              "         2,  2,  1,  1,  1,  1,  1,  2,  1,  1,  2,  1,  1,  1,  2,  1,  1,\n",
              "         2,  2,  1,  1,  1,  1,  1,  2,  1,  1,  2,  1,  1,  1,  1,  1,  2,\n",
              "         1,  1,  2,  2,  1,  1,  2,  1,  1,  2,  2,  1,  2,  1,  2,  2,  1,\n",
              "         1,  2,  1,  2,  1,  1,  1,  1,  1,  2, -1,  2,  2,  2,  1,  1,  1,\n",
              "         1,  2, -1, -1,  3,  2,  3,  1,  3, -1,  3, -1,  3,  2,  3, -1,  3,\n",
              "        -1,  3, -1,  3, -1,  3,  2,  3, -1,  3,  1,  3, -1,  3, -1,  3, -1,\n",
              "         3, -1,  3, -1,  3, -1,  3, -1,  3, -1,  3, -1,  3, -1,  3, -1,  3,\n",
              "        -1,  3, -1,  3, -1,  3, -1,  3, -1,  3, -1,  3, -1,  3, -1,  3, -1,\n",
              "        -1, -1, -1, -1, -1, -1, -1, -1, -1, -1, -1, -1, -1]),\n",
              " 'best_score': 0.2847218569718596}"
            ]
          },
          "metadata": {},
          "execution_count": 201
        }
      ]
    },
    {
      "cell_type": "code",
      "source": [
        "df_feat_dbscan['kmeans_dbscan'] = best_dict['best_labels']\n",
        "df_feat_dbscan['kmeans_dbscan'].value_counts()"
      ],
      "metadata": {
        "colab": {
          "base_uri": "https://localhost:8080/"
        },
        "id": "8zqeXt0er_xb",
        "outputId": "66aaade7-65af-499d-c600-2ba721774dbd"
      },
      "execution_count": 202,
      "outputs": [
        {
          "output_type": "stream",
          "name": "stderr",
          "text": [
            "<ipython-input-202-c6d0073b9bb8>:1: SettingWithCopyWarning:\n",
            "\n",
            "\n",
            "A value is trying to be set on a copy of a slice from a DataFrame.\n",
            "Try using .loc[row_indexer,col_indexer] = value instead\n",
            "\n",
            "See the caveats in the documentation: https://pandas.pydata.org/pandas-docs/stable/user_guide/indexing.html#returning-a-view-versus-a-copy\n",
            "\n"
          ]
        },
        {
          "output_type": "execute_result",
          "data": {
            "text/plain": [
              "-1    67\n",
              " 1    50\n",
              " 2    33\n",
              " 3    32\n",
              " 0    18\n",
              "Name: kmeans_dbscan, dtype: int64"
            ]
          },
          "metadata": {},
          "execution_count": 202
        }
      ]
    },
    {
      "cell_type": "code",
      "source": [
        "df_feat_dbscan.head()"
      ],
      "metadata": {
        "colab": {
          "base_uri": "https://localhost:8080/",
          "height": 206
        },
        "id": "uYXi43cxsYMQ",
        "outputId": "948d63bb-e448-497e-c902-76778327b7ee"
      },
      "execution_count": 203,
      "outputs": [
        {
          "output_type": "execute_result",
          "data": {
            "text/plain": [
              "   Age  Annual Income (k$)  Spending Score (1-100)  kmeans_dbscan\n",
              "0   19                  15                      39             -1\n",
              "1   21                  15                      81              0\n",
              "2   20                  16                       6             -1\n",
              "3   23                  16                      77              0\n",
              "4   31                  17                      40             -1"
            ],
            "text/html": [
              "\n",
              "  <div id=\"df-ff1fb3e4-62a0-4bdf-b1af-8f6775d012cd\" class=\"colab-df-container\">\n",
              "    <div>\n",
              "<style scoped>\n",
              "    .dataframe tbody tr th:only-of-type {\n",
              "        vertical-align: middle;\n",
              "    }\n",
              "\n",
              "    .dataframe tbody tr th {\n",
              "        vertical-align: top;\n",
              "    }\n",
              "\n",
              "    .dataframe thead th {\n",
              "        text-align: right;\n",
              "    }\n",
              "</style>\n",
              "<table border=\"1\" class=\"dataframe\">\n",
              "  <thead>\n",
              "    <tr style=\"text-align: right;\">\n",
              "      <th></th>\n",
              "      <th>Age</th>\n",
              "      <th>Annual Income (k$)</th>\n",
              "      <th>Spending Score (1-100)</th>\n",
              "      <th>kmeans_dbscan</th>\n",
              "    </tr>\n",
              "  </thead>\n",
              "  <tbody>\n",
              "    <tr>\n",
              "      <th>0</th>\n",
              "      <td>19</td>\n",
              "      <td>15</td>\n",
              "      <td>39</td>\n",
              "      <td>-1</td>\n",
              "    </tr>\n",
              "    <tr>\n",
              "      <th>1</th>\n",
              "      <td>21</td>\n",
              "      <td>15</td>\n",
              "      <td>81</td>\n",
              "      <td>0</td>\n",
              "    </tr>\n",
              "    <tr>\n",
              "      <th>2</th>\n",
              "      <td>20</td>\n",
              "      <td>16</td>\n",
              "      <td>6</td>\n",
              "      <td>-1</td>\n",
              "    </tr>\n",
              "    <tr>\n",
              "      <th>3</th>\n",
              "      <td>23</td>\n",
              "      <td>16</td>\n",
              "      <td>77</td>\n",
              "      <td>0</td>\n",
              "    </tr>\n",
              "    <tr>\n",
              "      <th>4</th>\n",
              "      <td>31</td>\n",
              "      <td>17</td>\n",
              "      <td>40</td>\n",
              "      <td>-1</td>\n",
              "    </tr>\n",
              "  </tbody>\n",
              "</table>\n",
              "</div>\n",
              "    <div class=\"colab-df-buttons\">\n",
              "\n",
              "  <div class=\"colab-df-container\">\n",
              "    <button class=\"colab-df-convert\" onclick=\"convertToInteractive('df-ff1fb3e4-62a0-4bdf-b1af-8f6775d012cd')\"\n",
              "            title=\"Convert this dataframe to an interactive table.\"\n",
              "            style=\"display:none;\">\n",
              "\n",
              "  <svg xmlns=\"http://www.w3.org/2000/svg\" height=\"24px\" viewBox=\"0 -960 960 960\">\n",
              "    <path d=\"M120-120v-720h720v720H120Zm60-500h600v-160H180v160Zm220 220h160v-160H400v160Zm0 220h160v-160H400v160ZM180-400h160v-160H180v160Zm440 0h160v-160H620v160ZM180-180h160v-160H180v160Zm440 0h160v-160H620v160Z\"/>\n",
              "  </svg>\n",
              "    </button>\n",
              "\n",
              "  <style>\n",
              "    .colab-df-container {\n",
              "      display:flex;\n",
              "      gap: 12px;\n",
              "    }\n",
              "\n",
              "    .colab-df-convert {\n",
              "      background-color: #E8F0FE;\n",
              "      border: none;\n",
              "      border-radius: 50%;\n",
              "      cursor: pointer;\n",
              "      display: none;\n",
              "      fill: #1967D2;\n",
              "      height: 32px;\n",
              "      padding: 0 0 0 0;\n",
              "      width: 32px;\n",
              "    }\n",
              "\n",
              "    .colab-df-convert:hover {\n",
              "      background-color: #E2EBFA;\n",
              "      box-shadow: 0px 1px 2px rgba(60, 64, 67, 0.3), 0px 1px 3px 1px rgba(60, 64, 67, 0.15);\n",
              "      fill: #174EA6;\n",
              "    }\n",
              "\n",
              "    .colab-df-buttons div {\n",
              "      margin-bottom: 4px;\n",
              "    }\n",
              "\n",
              "    [theme=dark] .colab-df-convert {\n",
              "      background-color: #3B4455;\n",
              "      fill: #D2E3FC;\n",
              "    }\n",
              "\n",
              "    [theme=dark] .colab-df-convert:hover {\n",
              "      background-color: #434B5C;\n",
              "      box-shadow: 0px 1px 3px 1px rgba(0, 0, 0, 0.15);\n",
              "      filter: drop-shadow(0px 1px 2px rgba(0, 0, 0, 0.3));\n",
              "      fill: #FFFFFF;\n",
              "    }\n",
              "  </style>\n",
              "\n",
              "    <script>\n",
              "      const buttonEl =\n",
              "        document.querySelector('#df-ff1fb3e4-62a0-4bdf-b1af-8f6775d012cd button.colab-df-convert');\n",
              "      buttonEl.style.display =\n",
              "        google.colab.kernel.accessAllowed ? 'block' : 'none';\n",
              "\n",
              "      async function convertToInteractive(key) {\n",
              "        const element = document.querySelector('#df-ff1fb3e4-62a0-4bdf-b1af-8f6775d012cd');\n",
              "        const dataTable =\n",
              "          await google.colab.kernel.invokeFunction('convertToInteractive',\n",
              "                                                    [key], {});\n",
              "        if (!dataTable) return;\n",
              "\n",
              "        const docLinkHtml = 'Like what you see? Visit the ' +\n",
              "          '<a target=\"_blank\" href=https://colab.research.google.com/notebooks/data_table.ipynb>data table notebook</a>'\n",
              "          + ' to learn more about interactive tables.';\n",
              "        element.innerHTML = '';\n",
              "        dataTable['output_type'] = 'display_data';\n",
              "        await google.colab.output.renderOutput(dataTable, element);\n",
              "        const docLink = document.createElement('div');\n",
              "        docLink.innerHTML = docLinkHtml;\n",
              "        element.appendChild(docLink);\n",
              "      }\n",
              "    </script>\n",
              "  </div>\n",
              "\n",
              "\n",
              "<div id=\"df-a3f69f61-b017-4167-9916-2f6d4ba8a120\">\n",
              "  <button class=\"colab-df-quickchart\" onclick=\"quickchart('df-a3f69f61-b017-4167-9916-2f6d4ba8a120')\"\n",
              "            title=\"Suggest charts.\"\n",
              "            style=\"display:none;\">\n",
              "\n",
              "<svg xmlns=\"http://www.w3.org/2000/svg\" height=\"24px\"viewBox=\"0 0 24 24\"\n",
              "     width=\"24px\">\n",
              "    <g>\n",
              "        <path d=\"M19 3H5c-1.1 0-2 .9-2 2v14c0 1.1.9 2 2 2h14c1.1 0 2-.9 2-2V5c0-1.1-.9-2-2-2zM9 17H7v-7h2v7zm4 0h-2V7h2v10zm4 0h-2v-4h2v4z\"/>\n",
              "    </g>\n",
              "</svg>\n",
              "  </button>\n",
              "\n",
              "<style>\n",
              "  .colab-df-quickchart {\n",
              "      --bg-color: #E8F0FE;\n",
              "      --fill-color: #1967D2;\n",
              "      --hover-bg-color: #E2EBFA;\n",
              "      --hover-fill-color: #174EA6;\n",
              "      --disabled-fill-color: #AAA;\n",
              "      --disabled-bg-color: #DDD;\n",
              "  }\n",
              "\n",
              "  [theme=dark] .colab-df-quickchart {\n",
              "      --bg-color: #3B4455;\n",
              "      --fill-color: #D2E3FC;\n",
              "      --hover-bg-color: #434B5C;\n",
              "      --hover-fill-color: #FFFFFF;\n",
              "      --disabled-bg-color: #3B4455;\n",
              "      --disabled-fill-color: #666;\n",
              "  }\n",
              "\n",
              "  .colab-df-quickchart {\n",
              "    background-color: var(--bg-color);\n",
              "    border: none;\n",
              "    border-radius: 50%;\n",
              "    cursor: pointer;\n",
              "    display: none;\n",
              "    fill: var(--fill-color);\n",
              "    height: 32px;\n",
              "    padding: 0;\n",
              "    width: 32px;\n",
              "  }\n",
              "\n",
              "  .colab-df-quickchart:hover {\n",
              "    background-color: var(--hover-bg-color);\n",
              "    box-shadow: 0 1px 2px rgba(60, 64, 67, 0.3), 0 1px 3px 1px rgba(60, 64, 67, 0.15);\n",
              "    fill: var(--button-hover-fill-color);\n",
              "  }\n",
              "\n",
              "  .colab-df-quickchart-complete:disabled,\n",
              "  .colab-df-quickchart-complete:disabled:hover {\n",
              "    background-color: var(--disabled-bg-color);\n",
              "    fill: var(--disabled-fill-color);\n",
              "    box-shadow: none;\n",
              "  }\n",
              "\n",
              "  .colab-df-spinner {\n",
              "    border: 2px solid var(--fill-color);\n",
              "    border-color: transparent;\n",
              "    border-bottom-color: var(--fill-color);\n",
              "    animation:\n",
              "      spin 1s steps(1) infinite;\n",
              "  }\n",
              "\n",
              "  @keyframes spin {\n",
              "    0% {\n",
              "      border-color: transparent;\n",
              "      border-bottom-color: var(--fill-color);\n",
              "      border-left-color: var(--fill-color);\n",
              "    }\n",
              "    20% {\n",
              "      border-color: transparent;\n",
              "      border-left-color: var(--fill-color);\n",
              "      border-top-color: var(--fill-color);\n",
              "    }\n",
              "    30% {\n",
              "      border-color: transparent;\n",
              "      border-left-color: var(--fill-color);\n",
              "      border-top-color: var(--fill-color);\n",
              "      border-right-color: var(--fill-color);\n",
              "    }\n",
              "    40% {\n",
              "      border-color: transparent;\n",
              "      border-right-color: var(--fill-color);\n",
              "      border-top-color: var(--fill-color);\n",
              "    }\n",
              "    60% {\n",
              "      border-color: transparent;\n",
              "      border-right-color: var(--fill-color);\n",
              "    }\n",
              "    80% {\n",
              "      border-color: transparent;\n",
              "      border-right-color: var(--fill-color);\n",
              "      border-bottom-color: var(--fill-color);\n",
              "    }\n",
              "    90% {\n",
              "      border-color: transparent;\n",
              "      border-bottom-color: var(--fill-color);\n",
              "    }\n",
              "  }\n",
              "</style>\n",
              "\n",
              "  <script>\n",
              "    async function quickchart(key) {\n",
              "      const quickchartButtonEl =\n",
              "        document.querySelector('#' + key + ' button');\n",
              "      quickchartButtonEl.disabled = true;  // To prevent multiple clicks.\n",
              "      quickchartButtonEl.classList.add('colab-df-spinner');\n",
              "      try {\n",
              "        const charts = await google.colab.kernel.invokeFunction(\n",
              "            'suggestCharts', [key], {});\n",
              "      } catch (error) {\n",
              "        console.error('Error during call to suggestCharts:', error);\n",
              "      }\n",
              "      quickchartButtonEl.classList.remove('colab-df-spinner');\n",
              "      quickchartButtonEl.classList.add('colab-df-quickchart-complete');\n",
              "    }\n",
              "    (() => {\n",
              "      let quickchartButtonEl =\n",
              "        document.querySelector('#df-a3f69f61-b017-4167-9916-2f6d4ba8a120 button');\n",
              "      quickchartButtonEl.style.display =\n",
              "        google.colab.kernel.accessAllowed ? 'block' : 'none';\n",
              "    })();\n",
              "  </script>\n",
              "</div>\n",
              "    </div>\n",
              "  </div>\n"
            ]
          },
          "metadata": {},
          "execution_count": 203
        }
      ]
    },
    {
      "cell_type": "code",
      "source": [
        "from sklearn.metrics import silhouette_score as ss\n",
        "ss(df_feat_dbscan_t, df_feat_dbscan['kmeans_dbscan'])"
      ],
      "metadata": {
        "colab": {
          "base_uri": "https://localhost:8080/"
        },
        "id": "YoiPxP1Asi2I",
        "outputId": "8abd5e05-06f5-4b91-a631-68fbbcb6e587"
      },
      "execution_count": 204,
      "outputs": [
        {
          "output_type": "execute_result",
          "data": {
            "text/plain": [
              "0.2847218569718596"
            ]
          },
          "metadata": {},
          "execution_count": 204
        }
      ]
    },
    {
      "cell_type": "code",
      "source": [
        "x= df_feat_dbscan['Annual Income (k$)']\n",
        "y= df_feat_dbscan['Spending Score (1-100)']\n",
        "fig = px.scatter(x=x, y=y, color=df_feat_dbscan['kmeans_dbscan'])\n",
        "fig.show()"
      ],
      "metadata": {
        "colab": {
          "base_uri": "https://localhost:8080/",
          "height": 542
        },
        "id": "wm0HSg_ntJwO",
        "outputId": "2e453133-2113-4dbd-f04b-f183715308a0"
      },
      "execution_count": 205,
      "outputs": [
        {
          "output_type": "display_data",
          "data": {
            "text/html": [
              "<html>\n",
              "<head><meta charset=\"utf-8\" /></head>\n",
              "<body>\n",
              "    <div>            <script src=\"https://cdnjs.cloudflare.com/ajax/libs/mathjax/2.7.5/MathJax.js?config=TeX-AMS-MML_SVG\"></script><script type=\"text/javascript\">if (window.MathJax && window.MathJax.Hub && window.MathJax.Hub.Config) {window.MathJax.Hub.Config({SVG: {font: \"STIX-Web\"}});}</script>                <script type=\"text/javascript\">window.PlotlyConfig = {MathJaxConfig: 'local'};</script>\n",
              "        <script charset=\"utf-8\" src=\"https://cdn.plot.ly/plotly-2.24.1.min.js\"></script>                <div id=\"8631b8bd-4e67-4f9e-954a-092ebb0fbefd\" class=\"plotly-graph-div\" style=\"height:525px; width:100%;\"></div>            <script type=\"text/javascript\">                                    window.PLOTLYENV=window.PLOTLYENV || {};                                    if (document.getElementById(\"8631b8bd-4e67-4f9e-954a-092ebb0fbefd\")) {                    Plotly.newPlot(                        \"8631b8bd-4e67-4f9e-954a-092ebb0fbefd\",                        [{\"hovertemplate\":\"x=%{x}\\u003cbr\\u003ey=%{y}\\u003cbr\\u003ecolor=%{marker.color}\\u003cextra\\u003e\\u003c\\u002fextra\\u003e\",\"legendgroup\":\"\",\"marker\":{\"color\":[-1,0,-1,0,-1,0,-1,0,-1,0,-1,-1,-1,0,-1,0,-1,0,-1,-1,-1,0,-1,0,-1,0,-1,-1,-1,0,-1,0,-1,0,-1,0,-1,0,-1,0,-1,0,1,2,1,2,1,2,2,2,1,2,2,1,1,1,1,1,2,1,1,2,1,1,1,2,1,1,2,2,1,1,1,1,1,2,1,1,2,1,1,1,1,1,2,1,1,2,2,1,1,2,1,1,2,2,1,2,1,2,2,1,1,2,1,2,1,1,1,1,1,2,-1,2,2,2,1,1,1,1,2,-1,-1,3,2,3,1,3,-1,3,-1,3,2,3,-1,3,-1,3,-1,3,-1,3,2,3,-1,3,1,3,-1,3,-1,3,-1,3,-1,3,-1,3,-1,3,-1,3,-1,3,-1,3,-1,3,-1,3,-1,3,-1,3,-1,3,-1,3,-1,3,-1,3,-1,3,-1,3,-1,-1,-1,-1,-1,-1,-1,-1,-1,-1,-1,-1,-1,-1],\"coloraxis\":\"coloraxis\",\"symbol\":\"circle\"},\"mode\":\"markers\",\"name\":\"\",\"orientation\":\"v\",\"showlegend\":false,\"x\":[15,15,16,16,17,17,18,18,19,19,19,19,20,20,20,20,21,21,23,23,24,24,25,25,28,28,28,28,29,29,30,30,33,33,33,33,34,34,37,37,38,38,39,39,39,39,40,40,40,40,42,42,43,43,43,43,44,44,46,46,46,46,47,47,48,48,48,48,48,48,49,49,50,50,54,54,54,54,54,54,54,54,54,54,54,54,57,57,58,58,59,59,60,60,60,60,60,60,61,61,62,62,62,62,62,62,63,63,63,63,63,63,64,64,65,65,65,65,67,67,67,67,69,69,70,70,71,71,71,71,71,71,72,72,73,73,73,73,74,74,75,75,76,76,77,77,77,77,78,78,78,78,78,78,78,78,78,78,78,78,79,79,81,81,85,85,86,86,87,87,87,87,87,87,88,88,88,88,93,93,97,97,98,98,99,99,101,101,103,103,103,103,113,113,120,120,126,126,137,137],\"xaxis\":\"x\",\"y\":[39,81,6,77,40,76,6,94,3,72,14,99,15,77,13,79,35,66,29,98,35,73,5,73,14,82,32,61,31,87,4,73,4,92,14,81,17,73,26,75,35,92,36,61,28,65,55,47,42,42,52,60,54,60,45,41,50,46,51,46,56,55,52,59,51,59,50,48,59,47,55,42,49,56,47,54,53,48,52,42,51,55,41,44,57,46,58,55,60,46,55,41,49,40,42,52,47,50,42,49,41,48,59,55,56,42,50,46,43,48,52,54,42,46,48,50,43,59,43,57,56,40,58,91,29,77,35,95,11,75,9,75,34,71,5,88,7,73,10,72,5,93,40,87,12,97,36,74,22,90,17,88,20,76,16,89,1,78,1,73,35,83,5,93,26,75,20,95,27,63,13,75,10,92,13,86,15,69,14,90,32,86,15,88,39,97,24,68,17,85,23,69,8,91,16,79,28,74,18,83],\"yaxis\":\"y\",\"type\":\"scatter\"}],                        {\"template\":{\"data\":{\"histogram2dcontour\":[{\"type\":\"histogram2dcontour\",\"colorbar\":{\"outlinewidth\":0,\"ticks\":\"\"},\"colorscale\":[[0.0,\"#0d0887\"],[0.1111111111111111,\"#46039f\"],[0.2222222222222222,\"#7201a8\"],[0.3333333333333333,\"#9c179e\"],[0.4444444444444444,\"#bd3786\"],[0.5555555555555556,\"#d8576b\"],[0.6666666666666666,\"#ed7953\"],[0.7777777777777778,\"#fb9f3a\"],[0.8888888888888888,\"#fdca26\"],[1.0,\"#f0f921\"]]}],\"choropleth\":[{\"type\":\"choropleth\",\"colorbar\":{\"outlinewidth\":0,\"ticks\":\"\"}}],\"histogram2d\":[{\"type\":\"histogram2d\",\"colorbar\":{\"outlinewidth\":0,\"ticks\":\"\"},\"colorscale\":[[0.0,\"#0d0887\"],[0.1111111111111111,\"#46039f\"],[0.2222222222222222,\"#7201a8\"],[0.3333333333333333,\"#9c179e\"],[0.4444444444444444,\"#bd3786\"],[0.5555555555555556,\"#d8576b\"],[0.6666666666666666,\"#ed7953\"],[0.7777777777777778,\"#fb9f3a\"],[0.8888888888888888,\"#fdca26\"],[1.0,\"#f0f921\"]]}],\"heatmap\":[{\"type\":\"heatmap\",\"colorbar\":{\"outlinewidth\":0,\"ticks\":\"\"},\"colorscale\":[[0.0,\"#0d0887\"],[0.1111111111111111,\"#46039f\"],[0.2222222222222222,\"#7201a8\"],[0.3333333333333333,\"#9c179e\"],[0.4444444444444444,\"#bd3786\"],[0.5555555555555556,\"#d8576b\"],[0.6666666666666666,\"#ed7953\"],[0.7777777777777778,\"#fb9f3a\"],[0.8888888888888888,\"#fdca26\"],[1.0,\"#f0f921\"]]}],\"heatmapgl\":[{\"type\":\"heatmapgl\",\"colorbar\":{\"outlinewidth\":0,\"ticks\":\"\"},\"colorscale\":[[0.0,\"#0d0887\"],[0.1111111111111111,\"#46039f\"],[0.2222222222222222,\"#7201a8\"],[0.3333333333333333,\"#9c179e\"],[0.4444444444444444,\"#bd3786\"],[0.5555555555555556,\"#d8576b\"],[0.6666666666666666,\"#ed7953\"],[0.7777777777777778,\"#fb9f3a\"],[0.8888888888888888,\"#fdca26\"],[1.0,\"#f0f921\"]]}],\"contourcarpet\":[{\"type\":\"contourcarpet\",\"colorbar\":{\"outlinewidth\":0,\"ticks\":\"\"}}],\"contour\":[{\"type\":\"contour\",\"colorbar\":{\"outlinewidth\":0,\"ticks\":\"\"},\"colorscale\":[[0.0,\"#0d0887\"],[0.1111111111111111,\"#46039f\"],[0.2222222222222222,\"#7201a8\"],[0.3333333333333333,\"#9c179e\"],[0.4444444444444444,\"#bd3786\"],[0.5555555555555556,\"#d8576b\"],[0.6666666666666666,\"#ed7953\"],[0.7777777777777778,\"#fb9f3a\"],[0.8888888888888888,\"#fdca26\"],[1.0,\"#f0f921\"]]}],\"surface\":[{\"type\":\"surface\",\"colorbar\":{\"outlinewidth\":0,\"ticks\":\"\"},\"colorscale\":[[0.0,\"#0d0887\"],[0.1111111111111111,\"#46039f\"],[0.2222222222222222,\"#7201a8\"],[0.3333333333333333,\"#9c179e\"],[0.4444444444444444,\"#bd3786\"],[0.5555555555555556,\"#d8576b\"],[0.6666666666666666,\"#ed7953\"],[0.7777777777777778,\"#fb9f3a\"],[0.8888888888888888,\"#fdca26\"],[1.0,\"#f0f921\"]]}],\"mesh3d\":[{\"type\":\"mesh3d\",\"colorbar\":{\"outlinewidth\":0,\"ticks\":\"\"}}],\"scatter\":[{\"fillpattern\":{\"fillmode\":\"overlay\",\"size\":10,\"solidity\":0.2},\"type\":\"scatter\"}],\"parcoords\":[{\"type\":\"parcoords\",\"line\":{\"colorbar\":{\"outlinewidth\":0,\"ticks\":\"\"}}}],\"scatterpolargl\":[{\"type\":\"scatterpolargl\",\"marker\":{\"colorbar\":{\"outlinewidth\":0,\"ticks\":\"\"}}}],\"bar\":[{\"error_x\":{\"color\":\"#2a3f5f\"},\"error_y\":{\"color\":\"#2a3f5f\"},\"marker\":{\"line\":{\"color\":\"#E5ECF6\",\"width\":0.5},\"pattern\":{\"fillmode\":\"overlay\",\"size\":10,\"solidity\":0.2}},\"type\":\"bar\"}],\"scattergeo\":[{\"type\":\"scattergeo\",\"marker\":{\"colorbar\":{\"outlinewidth\":0,\"ticks\":\"\"}}}],\"scatterpolar\":[{\"type\":\"scatterpolar\",\"marker\":{\"colorbar\":{\"outlinewidth\":0,\"ticks\":\"\"}}}],\"histogram\":[{\"marker\":{\"pattern\":{\"fillmode\":\"overlay\",\"size\":10,\"solidity\":0.2}},\"type\":\"histogram\"}],\"scattergl\":[{\"type\":\"scattergl\",\"marker\":{\"colorbar\":{\"outlinewidth\":0,\"ticks\":\"\"}}}],\"scatter3d\":[{\"type\":\"scatter3d\",\"line\":{\"colorbar\":{\"outlinewidth\":0,\"ticks\":\"\"}},\"marker\":{\"colorbar\":{\"outlinewidth\":0,\"ticks\":\"\"}}}],\"scattermapbox\":[{\"type\":\"scattermapbox\",\"marker\":{\"colorbar\":{\"outlinewidth\":0,\"ticks\":\"\"}}}],\"scatterternary\":[{\"type\":\"scatterternary\",\"marker\":{\"colorbar\":{\"outlinewidth\":0,\"ticks\":\"\"}}}],\"scattercarpet\":[{\"type\":\"scattercarpet\",\"marker\":{\"colorbar\":{\"outlinewidth\":0,\"ticks\":\"\"}}}],\"carpet\":[{\"aaxis\":{\"endlinecolor\":\"#2a3f5f\",\"gridcolor\":\"white\",\"linecolor\":\"white\",\"minorgridcolor\":\"white\",\"startlinecolor\":\"#2a3f5f\"},\"baxis\":{\"endlinecolor\":\"#2a3f5f\",\"gridcolor\":\"white\",\"linecolor\":\"white\",\"minorgridcolor\":\"white\",\"startlinecolor\":\"#2a3f5f\"},\"type\":\"carpet\"}],\"table\":[{\"cells\":{\"fill\":{\"color\":\"#EBF0F8\"},\"line\":{\"color\":\"white\"}},\"header\":{\"fill\":{\"color\":\"#C8D4E3\"},\"line\":{\"color\":\"white\"}},\"type\":\"table\"}],\"barpolar\":[{\"marker\":{\"line\":{\"color\":\"#E5ECF6\",\"width\":0.5},\"pattern\":{\"fillmode\":\"overlay\",\"size\":10,\"solidity\":0.2}},\"type\":\"barpolar\"}],\"pie\":[{\"automargin\":true,\"type\":\"pie\"}]},\"layout\":{\"autotypenumbers\":\"strict\",\"colorway\":[\"#636efa\",\"#EF553B\",\"#00cc96\",\"#ab63fa\",\"#FFA15A\",\"#19d3f3\",\"#FF6692\",\"#B6E880\",\"#FF97FF\",\"#FECB52\"],\"font\":{\"color\":\"#2a3f5f\"},\"hovermode\":\"closest\",\"hoverlabel\":{\"align\":\"left\"},\"paper_bgcolor\":\"white\",\"plot_bgcolor\":\"#E5ECF6\",\"polar\":{\"bgcolor\":\"#E5ECF6\",\"angularaxis\":{\"gridcolor\":\"white\",\"linecolor\":\"white\",\"ticks\":\"\"},\"radialaxis\":{\"gridcolor\":\"white\",\"linecolor\":\"white\",\"ticks\":\"\"}},\"ternary\":{\"bgcolor\":\"#E5ECF6\",\"aaxis\":{\"gridcolor\":\"white\",\"linecolor\":\"white\",\"ticks\":\"\"},\"baxis\":{\"gridcolor\":\"white\",\"linecolor\":\"white\",\"ticks\":\"\"},\"caxis\":{\"gridcolor\":\"white\",\"linecolor\":\"white\",\"ticks\":\"\"}},\"coloraxis\":{\"colorbar\":{\"outlinewidth\":0,\"ticks\":\"\"}},\"colorscale\":{\"sequential\":[[0.0,\"#0d0887\"],[0.1111111111111111,\"#46039f\"],[0.2222222222222222,\"#7201a8\"],[0.3333333333333333,\"#9c179e\"],[0.4444444444444444,\"#bd3786\"],[0.5555555555555556,\"#d8576b\"],[0.6666666666666666,\"#ed7953\"],[0.7777777777777778,\"#fb9f3a\"],[0.8888888888888888,\"#fdca26\"],[1.0,\"#f0f921\"]],\"sequentialminus\":[[0.0,\"#0d0887\"],[0.1111111111111111,\"#46039f\"],[0.2222222222222222,\"#7201a8\"],[0.3333333333333333,\"#9c179e\"],[0.4444444444444444,\"#bd3786\"],[0.5555555555555556,\"#d8576b\"],[0.6666666666666666,\"#ed7953\"],[0.7777777777777778,\"#fb9f3a\"],[0.8888888888888888,\"#fdca26\"],[1.0,\"#f0f921\"]],\"diverging\":[[0,\"#8e0152\"],[0.1,\"#c51b7d\"],[0.2,\"#de77ae\"],[0.3,\"#f1b6da\"],[0.4,\"#fde0ef\"],[0.5,\"#f7f7f7\"],[0.6,\"#e6f5d0\"],[0.7,\"#b8e186\"],[0.8,\"#7fbc41\"],[0.9,\"#4d9221\"],[1,\"#276419\"]]},\"xaxis\":{\"gridcolor\":\"white\",\"linecolor\":\"white\",\"ticks\":\"\",\"title\":{\"standoff\":15},\"zerolinecolor\":\"white\",\"automargin\":true,\"zerolinewidth\":2},\"yaxis\":{\"gridcolor\":\"white\",\"linecolor\":\"white\",\"ticks\":\"\",\"title\":{\"standoff\":15},\"zerolinecolor\":\"white\",\"automargin\":true,\"zerolinewidth\":2},\"scene\":{\"xaxis\":{\"backgroundcolor\":\"#E5ECF6\",\"gridcolor\":\"white\",\"linecolor\":\"white\",\"showbackground\":true,\"ticks\":\"\",\"zerolinecolor\":\"white\",\"gridwidth\":2},\"yaxis\":{\"backgroundcolor\":\"#E5ECF6\",\"gridcolor\":\"white\",\"linecolor\":\"white\",\"showbackground\":true,\"ticks\":\"\",\"zerolinecolor\":\"white\",\"gridwidth\":2},\"zaxis\":{\"backgroundcolor\":\"#E5ECF6\",\"gridcolor\":\"white\",\"linecolor\":\"white\",\"showbackground\":true,\"ticks\":\"\",\"zerolinecolor\":\"white\",\"gridwidth\":2}},\"shapedefaults\":{\"line\":{\"color\":\"#2a3f5f\"}},\"annotationdefaults\":{\"arrowcolor\":\"#2a3f5f\",\"arrowhead\":0,\"arrowwidth\":1},\"geo\":{\"bgcolor\":\"white\",\"landcolor\":\"#E5ECF6\",\"subunitcolor\":\"white\",\"showland\":true,\"showlakes\":true,\"lakecolor\":\"white\"},\"title\":{\"x\":0.05},\"mapbox\":{\"style\":\"light\"}}},\"xaxis\":{\"anchor\":\"y\",\"domain\":[0.0,1.0],\"title\":{\"text\":\"x\"}},\"yaxis\":{\"anchor\":\"x\",\"domain\":[0.0,1.0],\"title\":{\"text\":\"y\"}},\"coloraxis\":{\"colorbar\":{\"title\":{\"text\":\"color\"}},\"colorscale\":[[0.0,\"#0d0887\"],[0.1111111111111111,\"#46039f\"],[0.2222222222222222,\"#7201a8\"],[0.3333333333333333,\"#9c179e\"],[0.4444444444444444,\"#bd3786\"],[0.5555555555555556,\"#d8576b\"],[0.6666666666666666,\"#ed7953\"],[0.7777777777777778,\"#fb9f3a\"],[0.8888888888888888,\"#fdca26\"],[1.0,\"#f0f921\"]]},\"legend\":{\"tracegroupgap\":0},\"margin\":{\"t\":60}},                        {\"responsive\": true}                    ).then(function(){\n",
              "                            \n",
              "var gd = document.getElementById('8631b8bd-4e67-4f9e-954a-092ebb0fbefd');\n",
              "var x = new MutationObserver(function (mutations, observer) {{\n",
              "        var display = window.getComputedStyle(gd).display;\n",
              "        if (!display || display === 'none') {{\n",
              "            console.log([gd, 'removed!']);\n",
              "            Plotly.purge(gd);\n",
              "            observer.disconnect();\n",
              "        }}\n",
              "}});\n",
              "\n",
              "// Listen for the removal of the full notebook cells\n",
              "var notebookContainer = gd.closest('#notebook-container');\n",
              "if (notebookContainer) {{\n",
              "    x.observe(notebookContainer, {childList: true});\n",
              "}}\n",
              "\n",
              "// Listen for the clearing of the current output cell\n",
              "var outputEl = gd.closest('.output');\n",
              "if (outputEl) {{\n",
              "    x.observe(outputEl, {childList: true});\n",
              "}}\n",
              "\n",
              "                        })                };                            </script>        </div>\n",
              "</body>\n",
              "</html>"
            ]
          },
          "metadata": {}
        }
      ]
    },
    {
      "cell_type": "markdown",
      "source": [
        "# Evaluation"
      ],
      "metadata": {
        "id": "XhqO0A1TDI9i"
      }
    },
    {
      "cell_type": "markdown",
      "source": [
        "Algoritma DBSCAN menggunakan hyperparameter epsilon 0.01 sampai 1, dan number_sumples = 2 sampai 20. Dilakukan grid search untuk menemukan parameter terbaik dengan 90 kombinasi. Parameter terbaik adalah best_epsilon : 0.646, min_samples: 14, best_score_silhoute: 0.2847218569718596. Hasil jumlah klastering yang didapatkan adalah 5 cluster."
      ],
      "metadata": {
        "id": "TDTIpRsc0A-7"
      }
    },
    {
      "cell_type": "markdown",
      "source": [
        "## Penjelasan Metrik  "
      ],
      "metadata": {
        "id": "5hoGmCmXPiMX"
      }
    },
    {
      "cell_type": "markdown",
      "source": [
        "Dalam praktikum ini, kita akan menggunakan Silhouette Coefficient atau Silhouette Score untuk menghitung performa dari clustering. Silhouette Coefficient merupakan salah satu metrik yang digunakan untuk menghitung performa cluster pada dataset yang tidak memiliki ground truth label. Metrik ini menghitung score relatif setiap cluster dengan cluster lainnya dengan rentang nilai -1 - 1, dimana:\n",
        "\n",
        "* 1: Berarti cluster jelas terpisah satu sama lain dan dapat dibedakan dengan jelas.\n",
        "* 0: Berarti cluster tidak menunjukkan perbedaan, atau bisa dikatakan bahwa jarak antar cluster tidak signifikan.\n",
        "* -1: Berarti cluster ditempatkan dengan cara yang salah.\n"
      ],
      "metadata": {
        "id": "E2jb2cPmNKym"
      }
    },
    {
      "cell_type": "markdown",
      "source": [
        "![image.png](data:image/png;base64,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)"
      ],
      "metadata": {
        "id": "gXD6gHqsOBzH"
      }
    },
    {
      "cell_type": "markdown",
      "source": [
        "Untuk menghitung score satu cluster ke cluster lainnya adalah sebagai berikut:"
      ],
      "metadata": {
        "id": "6fGfZ52tPTTv"
      }
    },
    {
      "cell_type": "markdown",
      "source": [
        "![image.png](data:image/png;base64,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)"
      ],
      "metadata": {
        "id": "P4M8cxqHNge_"
      }
    },
    {
      "cell_type": "markdown",
      "source": [
        "di mana\n",
        "\n",
        "a = jarak rata-rata intra-clluster yaitu jarak rata-rata antara setiap titik dalam sebuah cluster.\n",
        "\n",
        "b = jarak rata-rata antar-cluster yaitu jarak rata-rata antara semua cluster."
      ],
      "metadata": {
        "id": "nQ0a25_68-1E"
      }
    },
    {
      "cell_type": "markdown",
      "source": [
        "## Clustering Evaluation\n",
        "\n",
        "Lakukan beberapa evaluasi terhadap hasil clustering menggunakan Silhoutte Coefficient, adapun evaluasi yang harus dijelaskan pada praktikum ini:\n",
        "1. Penjelasan mengenai variasi terbaik dari clustering menggunakan K-means dan alasan variasi ini lebih baik daripada variasi lainnya.\n",
        "2. Penjelasan variasi terbaik dari clustering menggunakan Hierarchical Clustering dan alasan variasi ini lebih baik daripada variasi lainnya.\n",
        "3. Penjelasan variasi terbaik dari clustering menggunakan DBSCAN dan alasan variasi ini lebih baik daripada variasi lainnya (Bonus).\n",
        "4. Penjelasan algortima terbaik dari untuk melakukan clustering dan dan alasan algoritma ini lebih baik daripada algoritma lainnya."
      ],
      "metadata": {
        "id": "mG_5h0pmPhc_"
      }
    },
    {
      "cell_type": "markdown",
      "source": [
        "# HASIL EVALUASI\n",
        "1. DARI SEMUA MODEL YANG SUDAH DICOBA DIDAPATKAN HASIL SCORE TERBAIK ADALAH DENGAN MENGGUNAKAN SELECTION FEATURE PCA. HASIL TERBAIK YAITU DENGAN 3 FETAURE DAN N_CLUSTER= 6. DIDAPATKAN SCORE SILHOUTE = 0,468. NAMUN TERDAPAT KEKURANGAN DALAM MODEL INI YAITU TERJADI OVERLAPPING.\n",
        "2. DILAKUKAN UJI COBA TERHADAP LINKAGE COMPLETE DAN AVERAGE. HASIL MODELING MENGGUNAKAN LINKAGE AVERAGE LEBIH BAIK DIBANDING MENGGUNAKAN LINKAGE COMPLETE. SCORE TERTINGGI ADALAH 0.39 DENGAN 8 KLASTER.\n",
        "3. ALGPRTIMA DBSCAN MENGGUNAKAN HYPERPARAMETER EPSOLON 0.01 SAMPAI DENGAN 1, DAN NUMBER_SUMPLES = 2 SAMPAI 20. DILAKUKAN GRID SEARCH UNTUK MENEMUKAN PARAMETER TERBAIK DARI 90 KOMBINASI. PARAMETER TERBAIK ADALAH EPSILON = 0.646, NUM_SUMPLES = 14, DAN BEST SCORE SILHOUTE = 0,284721. HASIL KLASTERING YANG DIDAPATKAN ADALAH 5 CLUSTER.\n",
        "4. ALGORITMA TERBAIK DARI SELURUH MODEL YANG SUDAH DICOBA ADALAH ALGORITMA K-MEANS DENGAN JUMLAH N_CLUSTER = 6 DAN BEST SCORE SILHOUTE = 0,468."
      ],
      "metadata": {
        "id": "dpcUkufQ9mvM"
      }
    },
    {
      "cell_type": "markdown",
      "source": [
        "# Labelling Dataset\n",
        "\n",
        "Dikarenakan dataset yang digunakan pada praktikum ini tidak memiliki ground truth label, maka pada tahapan ini anda diminta untuk membuat file .csv dari model cluster terbaik yang dijelaskan pada bagian clustering evaluation, adapun atribut dari data .csv tersebut adalah:\n",
        "* CustomerID: Unique ID dari konsumen\n",
        "* Gender: Gender dari konsumen\n",
        "* Age: Umur dari konsumen\n",
        "* Annual Income \\(k\\$\\): Penghasilan tahunan konsumen \\(\\$\\)\n",
        "* Spending Score (1-100): Skor yang diberikan oleh mall berdasarkan kebiasaan belanja konsumen (1-100)\n",
        "* cluster_label: Label hasil clustering (0,1, ..., N)\n"
      ],
      "metadata": {
        "id": "ltd7r_GxDLmi"
      }
    },
    {
      "cell_type": "code",
      "source": [
        "df['Gender'] = df['Gender'].astype(str)\n",
        "df = df.replace(['0','1'],['Female','Male'])\n",
        "df.info()"
      ],
      "metadata": {
        "colab": {
          "base_uri": "https://localhost:8080/"
        },
        "id": "Zd1mWiMtxIs8",
        "outputId": "062aac30-9f6d-4457-d2de-b5af6af16839"
      },
      "execution_count": 206,
      "outputs": [
        {
          "output_type": "stream",
          "name": "stdout",
          "text": [
            "<class 'pandas.core.frame.DataFrame'>\n",
            "RangeIndex: 200 entries, 0 to 199\n",
            "Data columns (total 5 columns):\n",
            " #   Column                  Non-Null Count  Dtype \n",
            "---  ------                  --------------  ----- \n",
            " 0   CustomerID              200 non-null    int64 \n",
            " 1   Gender                  200 non-null    object\n",
            " 2   Age                     200 non-null    int64 \n",
            " 3   Annual Income (k$)      200 non-null    int64 \n",
            " 4   Spending Score (1-100)  200 non-null    int64 \n",
            "dtypes: int64(4), object(1)\n",
            "memory usage: 7.9+ KB\n"
          ]
        }
      ]
    },
    {
      "cell_type": "code",
      "source": [
        "df['cluster_label'] = k_means6.labels_"
      ],
      "metadata": {
        "id": "y4GpDK7HSVcC"
      },
      "execution_count": 207,
      "outputs": []
    },
    {
      "cell_type": "code",
      "source": [
        "df['cluster_label'].value_counts()"
      ],
      "metadata": {
        "colab": {
          "base_uri": "https://localhost:8080/"
        },
        "id": "_2-SVuzrx_ij",
        "outputId": "08585959-118b-4351-8d88-0482e8f57b1d"
      },
      "execution_count": 208,
      "outputs": [
        {
          "output_type": "execute_result",
          "data": {
            "text/plain": [
              "1    45\n",
              "2    39\n",
              "4    38\n",
              "5    33\n",
              "3    24\n",
              "0    21\n",
              "Name: cluster_label, dtype: int64"
            ]
          },
          "metadata": {},
          "execution_count": 208
        }
      ]
    },
    {
      "cell_type": "code",
      "source": [
        "df.head()"
      ],
      "metadata": {
        "colab": {
          "base_uri": "https://localhost:8080/",
          "height": 206
        },
        "id": "9lr6_GQHwvVQ",
        "outputId": "d06d8d27-bbac-4896-efa3-e8daa5f01da2"
      },
      "execution_count": 209,
      "outputs": [
        {
          "output_type": "execute_result",
          "data": {
            "text/plain": [
              "   CustomerID  Gender  Age  Annual Income (k$)  Spending Score (1-100)  \\\n",
              "0           1    Male   19                  15                      39   \n",
              "1           2    Male   21                  15                      81   \n",
              "2           3  Female   20                  16                       6   \n",
              "3           4  Female   23                  16                      77   \n",
              "4           5  Female   31                  17                      40   \n",
              "\n",
              "   cluster_label  \n",
              "0              3  \n",
              "1              3  \n",
              "2              0  \n",
              "3              3  \n",
              "4              0  "
            ],
            "text/html": [
              "\n",
              "  <div id=\"df-6335b535-2abb-45a1-bee4-036be63549ed\" class=\"colab-df-container\">\n",
              "    <div>\n",
              "<style scoped>\n",
              "    .dataframe tbody tr th:only-of-type {\n",
              "        vertical-align: middle;\n",
              "    }\n",
              "\n",
              "    .dataframe tbody tr th {\n",
              "        vertical-align: top;\n",
              "    }\n",
              "\n",
              "    .dataframe thead th {\n",
              "        text-align: right;\n",
              "    }\n",
              "</style>\n",
              "<table border=\"1\" class=\"dataframe\">\n",
              "  <thead>\n",
              "    <tr style=\"text-align: right;\">\n",
              "      <th></th>\n",
              "      <th>CustomerID</th>\n",
              "      <th>Gender</th>\n",
              "      <th>Age</th>\n",
              "      <th>Annual Income (k$)</th>\n",
              "      <th>Spending Score (1-100)</th>\n",
              "      <th>cluster_label</th>\n",
              "    </tr>\n",
              "  </thead>\n",
              "  <tbody>\n",
              "    <tr>\n",
              "      <th>0</th>\n",
              "      <td>1</td>\n",
              "      <td>Male</td>\n",
              "      <td>19</td>\n",
              "      <td>15</td>\n",
              "      <td>39</td>\n",
              "      <td>3</td>\n",
              "    </tr>\n",
              "    <tr>\n",
              "      <th>1</th>\n",
              "      <td>2</td>\n",
              "      <td>Male</td>\n",
              "      <td>21</td>\n",
              "      <td>15</td>\n",
              "      <td>81</td>\n",
              "      <td>3</td>\n",
              "    </tr>\n",
              "    <tr>\n",
              "      <th>2</th>\n",
              "      <td>3</td>\n",
              "      <td>Female</td>\n",
              "      <td>20</td>\n",
              "      <td>16</td>\n",
              "      <td>6</td>\n",
              "      <td>0</td>\n",
              "    </tr>\n",
              "    <tr>\n",
              "      <th>3</th>\n",
              "      <td>4</td>\n",
              "      <td>Female</td>\n",
              "      <td>23</td>\n",
              "      <td>16</td>\n",
              "      <td>77</td>\n",
              "      <td>3</td>\n",
              "    </tr>\n",
              "    <tr>\n",
              "      <th>4</th>\n",
              "      <td>5</td>\n",
              "      <td>Female</td>\n",
              "      <td>31</td>\n",
              "      <td>17</td>\n",
              "      <td>40</td>\n",
              "      <td>0</td>\n",
              "    </tr>\n",
              "  </tbody>\n",
              "</table>\n",
              "</div>\n",
              "    <div class=\"colab-df-buttons\">\n",
              "\n",
              "  <div class=\"colab-df-container\">\n",
              "    <button class=\"colab-df-convert\" onclick=\"convertToInteractive('df-6335b535-2abb-45a1-bee4-036be63549ed')\"\n",
              "            title=\"Convert this dataframe to an interactive table.\"\n",
              "            style=\"display:none;\">\n",
              "\n",
              "  <svg xmlns=\"http://www.w3.org/2000/svg\" height=\"24px\" viewBox=\"0 -960 960 960\">\n",
              "    <path d=\"M120-120v-720h720v720H120Zm60-500h600v-160H180v160Zm220 220h160v-160H400v160Zm0 220h160v-160H400v160ZM180-400h160v-160H180v160Zm440 0h160v-160H620v160ZM180-180h160v-160H180v160Zm440 0h160v-160H620v160Z\"/>\n",
              "  </svg>\n",
              "    </button>\n",
              "\n",
              "  <style>\n",
              "    .colab-df-container {\n",
              "      display:flex;\n",
              "      gap: 12px;\n",
              "    }\n",
              "\n",
              "    .colab-df-convert {\n",
              "      background-color: #E8F0FE;\n",
              "      border: none;\n",
              "      border-radius: 50%;\n",
              "      cursor: pointer;\n",
              "      display: none;\n",
              "      fill: #1967D2;\n",
              "      height: 32px;\n",
              "      padding: 0 0 0 0;\n",
              "      width: 32px;\n",
              "    }\n",
              "\n",
              "    .colab-df-convert:hover {\n",
              "      background-color: #E2EBFA;\n",
              "      box-shadow: 0px 1px 2px rgba(60, 64, 67, 0.3), 0px 1px 3px 1px rgba(60, 64, 67, 0.15);\n",
              "      fill: #174EA6;\n",
              "    }\n",
              "\n",
              "    .colab-df-buttons div {\n",
              "      margin-bottom: 4px;\n",
              "    }\n",
              "\n",
              "    [theme=dark] .colab-df-convert {\n",
              "      background-color: #3B4455;\n",
              "      fill: #D2E3FC;\n",
              "    }\n",
              "\n",
              "    [theme=dark] .colab-df-convert:hover {\n",
              "      background-color: #434B5C;\n",
              "      box-shadow: 0px 1px 3px 1px rgba(0, 0, 0, 0.15);\n",
              "      filter: drop-shadow(0px 1px 2px rgba(0, 0, 0, 0.3));\n",
              "      fill: #FFFFFF;\n",
              "    }\n",
              "  </style>\n",
              "\n",
              "    <script>\n",
              "      const buttonEl =\n",
              "        document.querySelector('#df-6335b535-2abb-45a1-bee4-036be63549ed button.colab-df-convert');\n",
              "      buttonEl.style.display =\n",
              "        google.colab.kernel.accessAllowed ? 'block' : 'none';\n",
              "\n",
              "      async function convertToInteractive(key) {\n",
              "        const element = document.querySelector('#df-6335b535-2abb-45a1-bee4-036be63549ed');\n",
              "        const dataTable =\n",
              "          await google.colab.kernel.invokeFunction('convertToInteractive',\n",
              "                                                    [key], {});\n",
              "        if (!dataTable) return;\n",
              "\n",
              "        const docLinkHtml = 'Like what you see? Visit the ' +\n",
              "          '<a target=\"_blank\" href=https://colab.research.google.com/notebooks/data_table.ipynb>data table notebook</a>'\n",
              "          + ' to learn more about interactive tables.';\n",
              "        element.innerHTML = '';\n",
              "        dataTable['output_type'] = 'display_data';\n",
              "        await google.colab.output.renderOutput(dataTable, element);\n",
              "        const docLink = document.createElement('div');\n",
              "        docLink.innerHTML = docLinkHtml;\n",
              "        element.appendChild(docLink);\n",
              "      }\n",
              "    </script>\n",
              "  </div>\n",
              "\n",
              "\n",
              "<div id=\"df-2a2cb902-0885-4d7e-9592-8f78fad1017e\">\n",
              "  <button class=\"colab-df-quickchart\" onclick=\"quickchart('df-2a2cb902-0885-4d7e-9592-8f78fad1017e')\"\n",
              "            title=\"Suggest charts.\"\n",
              "            style=\"display:none;\">\n",
              "\n",
              "<svg xmlns=\"http://www.w3.org/2000/svg\" height=\"24px\"viewBox=\"0 0 24 24\"\n",
              "     width=\"24px\">\n",
              "    <g>\n",
              "        <path d=\"M19 3H5c-1.1 0-2 .9-2 2v14c0 1.1.9 2 2 2h14c1.1 0 2-.9 2-2V5c0-1.1-.9-2-2-2zM9 17H7v-7h2v7zm4 0h-2V7h2v10zm4 0h-2v-4h2v4z\"/>\n",
              "    </g>\n",
              "</svg>\n",
              "  </button>\n",
              "\n",
              "<style>\n",
              "  .colab-df-quickchart {\n",
              "      --bg-color: #E8F0FE;\n",
              "      --fill-color: #1967D2;\n",
              "      --hover-bg-color: #E2EBFA;\n",
              "      --hover-fill-color: #174EA6;\n",
              "      --disabled-fill-color: #AAA;\n",
              "      --disabled-bg-color: #DDD;\n",
              "  }\n",
              "\n",
              "  [theme=dark] .colab-df-quickchart {\n",
              "      --bg-color: #3B4455;\n",
              "      --fill-color: #D2E3FC;\n",
              "      --hover-bg-color: #434B5C;\n",
              "      --hover-fill-color: #FFFFFF;\n",
              "      --disabled-bg-color: #3B4455;\n",
              "      --disabled-fill-color: #666;\n",
              "  }\n",
              "\n",
              "  .colab-df-quickchart {\n",
              "    background-color: var(--bg-color);\n",
              "    border: none;\n",
              "    border-radius: 50%;\n",
              "    cursor: pointer;\n",
              "    display: none;\n",
              "    fill: var(--fill-color);\n",
              "    height: 32px;\n",
              "    padding: 0;\n",
              "    width: 32px;\n",
              "  }\n",
              "\n",
              "  .colab-df-quickchart:hover {\n",
              "    background-color: var(--hover-bg-color);\n",
              "    box-shadow: 0 1px 2px rgba(60, 64, 67, 0.3), 0 1px 3px 1px rgba(60, 64, 67, 0.15);\n",
              "    fill: var(--button-hover-fill-color);\n",
              "  }\n",
              "\n",
              "  .colab-df-quickchart-complete:disabled,\n",
              "  .colab-df-quickchart-complete:disabled:hover {\n",
              "    background-color: var(--disabled-bg-color);\n",
              "    fill: var(--disabled-fill-color);\n",
              "    box-shadow: none;\n",
              "  }\n",
              "\n",
              "  .colab-df-spinner {\n",
              "    border: 2px solid var(--fill-color);\n",
              "    border-color: transparent;\n",
              "    border-bottom-color: var(--fill-color);\n",
              "    animation:\n",
              "      spin 1s steps(1) infinite;\n",
              "  }\n",
              "\n",
              "  @keyframes spin {\n",
              "    0% {\n",
              "      border-color: transparent;\n",
              "      border-bottom-color: var(--fill-color);\n",
              "      border-left-color: var(--fill-color);\n",
              "    }\n",
              "    20% {\n",
              "      border-color: transparent;\n",
              "      border-left-color: var(--fill-color);\n",
              "      border-top-color: var(--fill-color);\n",
              "    }\n",
              "    30% {\n",
              "      border-color: transparent;\n",
              "      border-left-color: var(--fill-color);\n",
              "      border-top-color: var(--fill-color);\n",
              "      border-right-color: var(--fill-color);\n",
              "    }\n",
              "    40% {\n",
              "      border-color: transparent;\n",
              "      border-right-color: var(--fill-color);\n",
              "      border-top-color: var(--fill-color);\n",
              "    }\n",
              "    60% {\n",
              "      border-color: transparent;\n",
              "      border-right-color: var(--fill-color);\n",
              "    }\n",
              "    80% {\n",
              "      border-color: transparent;\n",
              "      border-right-color: var(--fill-color);\n",
              "      border-bottom-color: var(--fill-color);\n",
              "    }\n",
              "    90% {\n",
              "      border-color: transparent;\n",
              "      border-bottom-color: var(--fill-color);\n",
              "    }\n",
              "  }\n",
              "</style>\n",
              "\n",
              "  <script>\n",
              "    async function quickchart(key) {\n",
              "      const quickchartButtonEl =\n",
              "        document.querySelector('#' + key + ' button');\n",
              "      quickchartButtonEl.disabled = true;  // To prevent multiple clicks.\n",
              "      quickchartButtonEl.classList.add('colab-df-spinner');\n",
              "      try {\n",
              "        const charts = await google.colab.kernel.invokeFunction(\n",
              "            'suggestCharts', [key], {});\n",
              "      } catch (error) {\n",
              "        console.error('Error during call to suggestCharts:', error);\n",
              "      }\n",
              "      quickchartButtonEl.classList.remove('colab-df-spinner');\n",
              "      quickchartButtonEl.classList.add('colab-df-quickchart-complete');\n",
              "    }\n",
              "    (() => {\n",
              "      let quickchartButtonEl =\n",
              "        document.querySelector('#df-2a2cb902-0885-4d7e-9592-8f78fad1017e button');\n",
              "      quickchartButtonEl.style.display =\n",
              "        google.colab.kernel.accessAllowed ? 'block' : 'none';\n",
              "    })();\n",
              "  </script>\n",
              "</div>\n",
              "    </div>\n",
              "  </div>\n"
            ]
          },
          "metadata": {},
          "execution_count": 209
        }
      ]
    },
    {
      "cell_type": "code",
      "source": [
        "df.to_csv('data.csv', index=False)"
      ],
      "metadata": {
        "id": "mlOccvpNwwn1"
      },
      "execution_count": 210,
      "outputs": []
    }
  ]
}